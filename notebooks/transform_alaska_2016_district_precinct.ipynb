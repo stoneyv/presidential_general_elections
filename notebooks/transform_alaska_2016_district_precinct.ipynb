{
 "cells": [
  {
   "cell_type": "markdown",
   "metadata": {},
   "source": [
    "## Transform\n",
    "## Unofficial Alaska 2016 precinct and division election results\n",
    "\n",
    "ACS election results, text by precinct\n",
    "\n",
    "source:  https://www.elections.alaska.gov/index.php"
   ]
  },
  {
   "cell_type": "code",
   "execution_count": 1,
   "metadata": {
    "collapsed": false
   },
   "outputs": [
    {
     "name": "stdout",
     "output_type": "stream",
     "text": [
      "python version  3.5.2\n",
      "numpy version  1.10.4\n",
      "pandas version  0.18.1\n"
     ]
    }
   ],
   "source": [
    "import pandas as pd\n",
    "import numpy as np\n",
    "import sys\n",
    "\n",
    "version = \".\".join(map(str, sys.version_info[:3]))\n",
    "print('python version ', version)\n",
    "print('numpy version ', np.__version__)\n",
    "print('pandas version ',pd.__version__)"
   ]
  },
  {
   "cell_type": "code",
   "execution_count": 2,
   "metadata": {
    "collapsed": false
   },
   "outputs": [
    {
     "name": "stdout",
     "output_type": "stream",
     "text": [
      "resultsbyprct-filtered.txt\r\n"
     ]
    }
   ],
   "source": [
    "ls ../data/elect-alaska-net/"
   ]
  },
  {
   "cell_type": "markdown",
   "metadata": {},
   "source": [
    "### Two pre processing steps performed on source file\n",
    "\n",
    "* Filtered lines with 'US PRESIDENT' using the shell command grep in order to reduce the size of the file in the repository.  This reduced the file size from about 7.3 MB to 500kB.  \n",
    "\n",
    "grep \"US PRESIDENT\" resultsbyprct.txt > resultsbyprct-filtered.txt\n",
    "\n",
    "* Removed comma from the end of the line so that I can read it as a .csv.  I did this using an ex search and replace command in vi. Command at the end of a line symbolized by the dollar sign character.  The 'g' tells ex to replace all occurences instead of the first occurence.\n",
    "\n",
    "%s/,$//g"
   ]
  },
  {
   "cell_type": "code",
   "execution_count": 4,
   "metadata": {
    "collapsed": false
   },
   "outputs": [
    {
     "name": "stdout",
     "output_type": "stream",
     "text": [
      "shape (num_rows,num_cols) (6192, 6)\n"
     ]
    },
    {
     "data": {
      "text/html": [
       "<div>\n",
       "<table border=\"1\" class=\"dataframe\">\n",
       "  <thead>\n",
       "    <tr style=\"text-align: right;\">\n",
       "      <th></th>\n",
       "      <th>01-446 Aurora</th>\n",
       "      <th>US PRESIDENT</th>\n",
       "      <th>Number of Precincts for Race</th>\n",
       "      <th>NP</th>\n",
       "      <th>Total</th>\n",
       "      <th>1</th>\n",
       "    </tr>\n",
       "  </thead>\n",
       "  <tbody>\n",
       "    <tr>\n",
       "      <th>0</th>\n",
       "      <td>01-446 Aurora</td>\n",
       "      <td>US PRESIDENT</td>\n",
       "      <td>Number of Precincts Reporting</td>\n",
       "      <td>NP</td>\n",
       "      <td>Total</td>\n",
       "      <td>1</td>\n",
       "    </tr>\n",
       "    <tr>\n",
       "      <th>1</th>\n",
       "      <td>01-446 Aurora</td>\n",
       "      <td>US PRESIDENT</td>\n",
       "      <td>Registered Voters</td>\n",
       "      <td>NP</td>\n",
       "      <td>Total</td>\n",
       "      <td>2486</td>\n",
       "    </tr>\n",
       "    <tr>\n",
       "      <th>2</th>\n",
       "      <td>01-446 Aurora</td>\n",
       "      <td>US PRESIDENT</td>\n",
       "      <td>Times Counted</td>\n",
       "      <td>NP</td>\n",
       "      <td>Total</td>\n",
       "      <td>874</td>\n",
       "    </tr>\n",
       "  </tbody>\n",
       "</table>\n",
       "</div>"
      ],
      "text/plain": [
       "   01-446 Aurora   US PRESIDENT    Number of Precincts for Race   NP   Total   \\\n",
       "0  01-446 Aurora   US PRESIDENT   Number of Precincts Reporting   NP   Total    \n",
       "1  01-446 Aurora   US PRESIDENT               Registered Voters   NP   Total    \n",
       "2  01-446 Aurora   US PRESIDENT                   Times Counted   NP   Total    \n",
       "\n",
       "     1   \n",
       "0     1  \n",
       "1  2486  \n",
       "2   874  "
      ]
     },
     "execution_count": 4,
     "metadata": {},
     "output_type": "execute_result"
    }
   ],
   "source": [
    "filename = '../data/elect-alaska-net/resultsbyprct-filtered.txt'\n",
    "ak_16_df = pd.read_csv(filename)\n",
    "print('shape (num_rows,num_cols)' ,ak_16_df.shape)\n",
    "ak_16_df.head(3)"
   ]
  },
  {
   "cell_type": "code",
   "execution_count": null,
   "metadata": {
    "collapsed": true
   },
   "outputs": [],
   "source": []
  }
 ],
 "metadata": {
  "anaconda-cloud": {},
  "kernelspec": {
   "display_name": "Python [default]",
   "language": "python",
   "name": "python3"
  },
  "language_info": {
   "codemirror_mode": {
    "name": "ipython",
    "version": 3
   },
   "file_extension": ".py",
   "mimetype": "text/x-python",
   "name": "python",
   "nbconvert_exporter": "python",
   "pygments_lexer": "ipython3",
   "version": "3.5.2"
  }
 },
 "nbformat": 4,
 "nbformat_minor": 1
}
