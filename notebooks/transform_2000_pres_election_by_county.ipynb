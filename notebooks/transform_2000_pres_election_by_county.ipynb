{
 "cells": [
  {
   "cell_type": "markdown",
   "metadata": {},
   "source": [
    "## Transform\n",
    "## 2000 Presidential Election Results by County\n",
    "\n",
    "David Lublin and D. Stephen Voss. 2001. \"Federal Elections Project.\" American University, Washington, DC and the University of Kentucky, Lexington, KY.\n",
    "\n",
    "source:  http://www.american.edu/spa/ccps/Data-Sets.cfm"
   ]
  },
  {
   "cell_type": "code",
   "execution_count": 1,
   "metadata": {
    "collapsed": false
   },
   "outputs": [
    {
     "name": "stdout",
     "output_type": "stream",
     "text": [
      "python version  3.5.2\n",
      "numpy version  1.10.4\n",
      "pandas version  0.18.1\n"
     ]
    }
   ],
   "source": [
    "import pandas as pd\n",
    "import numpy as np\n",
    "import sys\n",
    "\n",
    "version = \".\".join(map(str, sys.version_info[:3]))\n",
    "print('python version ', version)\n",
    "print('numpy version ', np.__version__)\n",
    "print('pandas version ',pd.__version__)"
   ]
  },
  {
   "cell_type": "code",
   "execution_count": 2,
   "metadata": {
    "collapsed": false
   },
   "outputs": [
    {
     "name": "stdout",
     "output_type": "stream",
     "text": [
      "county.csv  COUNTY.csv  county.xlsx  CTYREADME.txt\r\n"
     ]
    }
   ],
   "source": [
    "ls ../data/american-university/CY/"
   ]
  },
  {
   "cell_type": "code",
   "execution_count": 30,
   "metadata": {
    "collapsed": false
   },
   "outputs": [
    {
     "name": "stdout",
     "output_type": "stream",
     "text": [
      "shape (num_rows,num_cols)  (3155, 24)\n"
     ]
    },
    {
     "data": {
      "text/html": [
       "<div>\n",
       "<table border=\"1\" class=\"dataframe\">\n",
       "  <thead>\n",
       "    <tr style=\"text-align: right;\">\n",
       "      <th></th>\n",
       "      <th>CID</th>\n",
       "      <th>STATE</th>\n",
       "      <th>COUNTY</th>\n",
       "      <th>PBUSH</th>\n",
       "      <th>PGORE</th>\n",
       "      <th>PNADER</th>\n",
       "      <th>POTHER</th>\n",
       "      <th>BUSH</th>\n",
       "      <th>GORE</th>\n",
       "      <th>NADER</th>\n",
       "      <th>...</th>\n",
       "      <th>HAGELIN</th>\n",
       "      <th>MCREYNOLDS</th>\n",
       "      <th>HARRIS</th>\n",
       "      <th>DODGE</th>\n",
       "      <th>NOTA</th>\n",
       "      <th>MOOREHEAD</th>\n",
       "      <th>BROWN</th>\n",
       "      <th>VENSON</th>\n",
       "      <th>YOUNGKEIT</th>\n",
       "      <th>LANE</th>\n",
       "    </tr>\n",
       "  </thead>\n",
       "  <tbody>\n",
       "    <tr>\n",
       "      <th>0</th>\n",
       "      <td>1</td>\n",
       "      <td>Alabama</td>\n",
       "      <td>Autauga</td>\n",
       "      <td>0.6969</td>\n",
       "      <td>0.2872</td>\n",
       "      <td>0.0093</td>\n",
       "      <td>0.0066</td>\n",
       "      <td>11993</td>\n",
       "      <td>4942</td>\n",
       "      <td>160</td>\n",
       "      <td>...</td>\n",
       "      <td>5</td>\n",
       "      <td>0</td>\n",
       "      <td>0</td>\n",
       "      <td>0</td>\n",
       "      <td>0</td>\n",
       "      <td>0</td>\n",
       "      <td>0</td>\n",
       "      <td>0</td>\n",
       "      <td>0</td>\n",
       "      <td>0</td>\n",
       "    </tr>\n",
       "    <tr>\n",
       "      <th>1</th>\n",
       "      <td>2</td>\n",
       "      <td>Alabama</td>\n",
       "      <td>Baldwin</td>\n",
       "      <td>0.7237</td>\n",
       "      <td>0.2478</td>\n",
       "      <td>0.0183</td>\n",
       "      <td>0.0102</td>\n",
       "      <td>40872</td>\n",
       "      <td>13997</td>\n",
       "      <td>1033</td>\n",
       "      <td>...</td>\n",
       "      <td>14</td>\n",
       "      <td>0</td>\n",
       "      <td>0</td>\n",
       "      <td>0</td>\n",
       "      <td>0</td>\n",
       "      <td>0</td>\n",
       "      <td>0</td>\n",
       "      <td>0</td>\n",
       "      <td>0</td>\n",
       "      <td>0</td>\n",
       "    </tr>\n",
       "    <tr>\n",
       "      <th>2</th>\n",
       "      <td>3</td>\n",
       "      <td>Alabama</td>\n",
       "      <td>Barbour</td>\n",
       "      <td>0.4991</td>\n",
       "      <td>0.4902</td>\n",
       "      <td>0.0044</td>\n",
       "      <td>0.0063</td>\n",
       "      <td>5096</td>\n",
       "      <td>5188</td>\n",
       "      <td>46</td>\n",
       "      <td>...</td>\n",
       "      <td>2</td>\n",
       "      <td>0</td>\n",
       "      <td>0</td>\n",
       "      <td>0</td>\n",
       "      <td>0</td>\n",
       "      <td>0</td>\n",
       "      <td>0</td>\n",
       "      <td>0</td>\n",
       "      <td>0</td>\n",
       "      <td>0</td>\n",
       "    </tr>\n",
       "  </tbody>\n",
       "</table>\n",
       "<p>3 rows × 24 columns</p>\n",
       "</div>"
      ],
      "text/plain": [
       "   CID    STATE   COUNTY   PBUSH   PGORE  PNADER  POTHER   BUSH   GORE  NADER  \\\n",
       "0    1  Alabama  Autauga  0.6969  0.2872  0.0093  0.0066  11993   4942    160   \n",
       "1    2  Alabama  Baldwin  0.7237  0.2478  0.0183  0.0102  40872  13997   1033   \n",
       "2    3  Alabama  Barbour  0.4991  0.4902  0.0044  0.0063   5096   5188     46   \n",
       "\n",
       "   ...   HAGELIN  MCREYNOLDS  HARRIS  DODGE  NOTA  MOOREHEAD  BROWN  VENSON  \\\n",
       "0  ...         5           0       0      0     0          0      0       0   \n",
       "1  ...        14           0       0      0     0          0      0       0   \n",
       "2  ...         2           0       0      0     0          0      0       0   \n",
       "\n",
       "  YOUNGKEIT  LANE  \n",
       "0         0     0  \n",
       "1         0     0  \n",
       "2         0     0  \n",
       "\n",
       "[3 rows x 24 columns]"
      ]
     },
     "execution_count": 30,
     "metadata": {},
     "output_type": "execute_result"
    }
   ],
   "source": [
    "## NOTE: edited encoded spaces. \n",
    "## Initially converted to an excel format, but the problem was encoding of\n",
    "## some of the spaces in the STATE and COUNTY columns such as North Dakota,\n",
    "## South Carolina, etc\n",
    "filename = '../data/american-university/CY/county.csv'\n",
    "y2k_df = pd.read_csv(filename)\n",
    "print('shape (num_rows,num_cols) ', y2k_df.shape)\n",
    "y2k_df.head(3)"
   ]
  },
  {
   "cell_type": "code",
   "execution_count": 31,
   "metadata": {
    "collapsed": false
   },
   "outputs": [],
   "source": [
    "# Generate columns with the attributes\n",
    "# year {2016,2012,2008,2004,2000, ...}\n",
    "# office {'president', 'senator', 'representative', ...}\n",
    "# level  {'federal','state','county', ...}\n",
    "num_rows = y2k_df.shape[0]\n",
    "year_list = [2000] * num_rows\n",
    "office_list = ['president'] * num_rows \n",
    "level_list = ['federal'] * num_rows\n",
    "y2k_df['YEAR'] = year_list\n",
    "y2k_df['OFFICE'] = office_list\n",
    "y2k_df['LEVEL'] = level_list"
   ]
  },
  {
   "cell_type": "code",
   "execution_count": 32,
   "metadata": {
    "collapsed": false
   },
   "outputs": [
    {
     "data": {
      "text/html": [
       "<div>\n",
       "<table border=\"1\" class=\"dataframe\">\n",
       "  <thead>\n",
       "    <tr style=\"text-align: right;\">\n",
       "      <th></th>\n",
       "      <th>data type</th>\n",
       "      <th>number of null values</th>\n",
       "    </tr>\n",
       "  </thead>\n",
       "  <tbody>\n",
       "    <tr>\n",
       "      <th>CID</th>\n",
       "      <td>int64</td>\n",
       "      <td>0</td>\n",
       "    </tr>\n",
       "    <tr>\n",
       "      <th>STATE</th>\n",
       "      <td>object</td>\n",
       "      <td>0</td>\n",
       "    </tr>\n",
       "    <tr>\n",
       "      <th>COUNTY</th>\n",
       "      <td>object</td>\n",
       "      <td>0</td>\n",
       "    </tr>\n",
       "    <tr>\n",
       "      <th>PBUSH</th>\n",
       "      <td>float64</td>\n",
       "      <td>0</td>\n",
       "    </tr>\n",
       "    <tr>\n",
       "      <th>PGORE</th>\n",
       "      <td>float64</td>\n",
       "      <td>0</td>\n",
       "    </tr>\n",
       "    <tr>\n",
       "      <th>PNADER</th>\n",
       "      <td>float64</td>\n",
       "      <td>0</td>\n",
       "    </tr>\n",
       "    <tr>\n",
       "      <th>POTHER</th>\n",
       "      <td>float64</td>\n",
       "      <td>0</td>\n",
       "    </tr>\n",
       "    <tr>\n",
       "      <th>BUSH</th>\n",
       "      <td>int64</td>\n",
       "      <td>0</td>\n",
       "    </tr>\n",
       "    <tr>\n",
       "      <th>GORE</th>\n",
       "      <td>int64</td>\n",
       "      <td>0</td>\n",
       "    </tr>\n",
       "    <tr>\n",
       "      <th>NADER</th>\n",
       "      <td>int64</td>\n",
       "      <td>0</td>\n",
       "    </tr>\n",
       "    <tr>\n",
       "      <th>BUCHANAN</th>\n",
       "      <td>int64</td>\n",
       "      <td>0</td>\n",
       "    </tr>\n",
       "    <tr>\n",
       "      <th>BROWNE</th>\n",
       "      <td>int64</td>\n",
       "      <td>0</td>\n",
       "    </tr>\n",
       "    <tr>\n",
       "      <th>PHILLIPS</th>\n",
       "      <td>int64</td>\n",
       "      <td>0</td>\n",
       "    </tr>\n",
       "    <tr>\n",
       "      <th>WRITEINS</th>\n",
       "      <td>int64</td>\n",
       "      <td>0</td>\n",
       "    </tr>\n",
       "    <tr>\n",
       "      <th>HAGELIN</th>\n",
       "      <td>int64</td>\n",
       "      <td>0</td>\n",
       "    </tr>\n",
       "    <tr>\n",
       "      <th>MCREYNOLDS</th>\n",
       "      <td>int64</td>\n",
       "      <td>0</td>\n",
       "    </tr>\n",
       "    <tr>\n",
       "      <th>HARRIS</th>\n",
       "      <td>int64</td>\n",
       "      <td>0</td>\n",
       "    </tr>\n",
       "    <tr>\n",
       "      <th>DODGE</th>\n",
       "      <td>int64</td>\n",
       "      <td>0</td>\n",
       "    </tr>\n",
       "    <tr>\n",
       "      <th>NOTA</th>\n",
       "      <td>object</td>\n",
       "      <td>0</td>\n",
       "    </tr>\n",
       "    <tr>\n",
       "      <th>MOOREHEAD</th>\n",
       "      <td>int64</td>\n",
       "      <td>0</td>\n",
       "    </tr>\n",
       "    <tr>\n",
       "      <th>BROWN</th>\n",
       "      <td>int64</td>\n",
       "      <td>0</td>\n",
       "    </tr>\n",
       "    <tr>\n",
       "      <th>VENSON</th>\n",
       "      <td>int64</td>\n",
       "      <td>0</td>\n",
       "    </tr>\n",
       "    <tr>\n",
       "      <th>YOUNGKEIT</th>\n",
       "      <td>int64</td>\n",
       "      <td>0</td>\n",
       "    </tr>\n",
       "    <tr>\n",
       "      <th>LANE</th>\n",
       "      <td>int64</td>\n",
       "      <td>0</td>\n",
       "    </tr>\n",
       "    <tr>\n",
       "      <th>YEAR</th>\n",
       "      <td>int64</td>\n",
       "      <td>0</td>\n",
       "    </tr>\n",
       "    <tr>\n",
       "      <th>OFFICE</th>\n",
       "      <td>object</td>\n",
       "      <td>0</td>\n",
       "    </tr>\n",
       "    <tr>\n",
       "      <th>LEVEL</th>\n",
       "      <td>object</td>\n",
       "      <td>0</td>\n",
       "    </tr>\n",
       "  </tbody>\n",
       "</table>\n",
       "</div>"
      ],
      "text/plain": [
       "           data type  number of null values\n",
       "CID            int64                      0\n",
       "STATE         object                      0\n",
       "COUNTY        object                      0\n",
       "PBUSH        float64                      0\n",
       "PGORE        float64                      0\n",
       "PNADER       float64                      0\n",
       "POTHER       float64                      0\n",
       "BUSH           int64                      0\n",
       "GORE           int64                      0\n",
       "NADER          int64                      0\n",
       "BUCHANAN       int64                      0\n",
       "BROWNE         int64                      0\n",
       "PHILLIPS       int64                      0\n",
       "WRITEINS       int64                      0\n",
       "HAGELIN        int64                      0\n",
       "MCREYNOLDS     int64                      0\n",
       "HARRIS         int64                      0\n",
       "DODGE          int64                      0\n",
       "NOTA          object                      0\n",
       "MOOREHEAD      int64                      0\n",
       "BROWN          int64                      0\n",
       "VENSON         int64                      0\n",
       "YOUNGKEIT      int64                      0\n",
       "LANE           int64                      0\n",
       "YEAR           int64                      0\n",
       "OFFICE        object                      0\n",
       "LEVEL         object                      0"
      ]
     },
     "execution_count": 32,
     "metadata": {},
     "output_type": "execute_result"
    }
   ],
   "source": [
    "# Number of null values and data types per column\n",
    "# You can use DataFrame.info() as well\n",
    "null_df = pd.DataFrame({'number of null values': y2k_df.isnull().sum(),\n",
    "                        'data type' : y2k_df.dtypes })\n",
    "null_df"
   ]
  },
  {
   "cell_type": "code",
   "execution_count": 33,
   "metadata": {
    "collapsed": false
   },
   "outputs": [],
   "source": [
    "## Convert decimal fractions to percentages\n",
    "## Round percentage of votes to one place\n",
    "round_percentage = lambda x: round(float(x),3)*100\n",
    "y2k_df['PBUSH'] = y2k_df['PBUSH'].apply(round_percentage)\n",
    "y2k_df['PGORE'] = y2k_df['PGORE'].apply(round_percentage)\n",
    "y2k_df['PNADER'] = y2k_df['PNADER'].apply(round_percentage)\n",
    "y2k_df['POTHER'] = y2k_df['POTHER'].apply(round_percentage)"
   ]
  },
  {
   "cell_type": "code",
   "execution_count": 34,
   "metadata": {
    "collapsed": false
   },
   "outputs": [],
   "source": [
    "y2k_df['STATE'] = y2k_df.STATE.astype('str')"
   ]
  },
  {
   "cell_type": "code",
   "execution_count": 35,
   "metadata": {
    "collapsed": false
   },
   "outputs": [],
   "source": [
    "state_abbr = { 'Alaska': 'AK',\n",
    "           'Alabama': 'AL',\n",
    "           'Arkansas': 'AR',\n",
    "           'Arizona': 'AZ',\n",
    "           'California': 'CA',\n",
    "           'Colorado': 'CO',\n",
    "           'Connecticut': 'CT',\n",
    "           'District of Columbia': 'DC',\n",
    "           'Delaware': 'DE',\n",
    "           'Florida': 'FL',\n",
    "           'Georgia': 'GA',\n",
    "           'Guam': 'GU',\n",
    "           'Hawaii': 'HI',\n",
    "           'Iowa': 'IA',\n",
    "           'Idaho': 'ID',\n",
    "           'Illinois': 'IL',\n",
    "           'Indiana': 'IN',\n",
    "           'Kansas': 'KS',\n",
    "           'Kentucky': 'KY',\n",
    "           'Louisiana': 'LA',\n",
    "           'Massachusetts': 'MA',\n",
    "           'Maryland': 'MD',\n",
    "           'Maine': 'ME',\n",
    "           'Michigan': 'MI',\n",
    "           'Minnesota': 'MN',\n",
    "           'Missouri': 'MO',\n",
    "           'Mississippi': 'MS',\n",
    "           'Montana': 'MT',\n",
    "           'North Carolina': 'NC',\n",
    "           'North Dakota': 'ND',\n",
    "           'Nebraska': 'NE',\n",
    "           'New Hampshire': 'NH',\n",
    "           'New Jersey': 'NJ',\n",
    "           'New Mexico': 'NM',\n",
    "           'Nevada': 'NV',\n",
    "           'New York': 'NY',\n",
    "           'Ohio': 'OH',\n",
    "           'Oklahoma': 'OK',\n",
    "           'Oregon': 'OR',\n",
    "           'Pennsylvania': 'PA',\n",
    "           'Puerto Rico': 'PR',\n",
    "           'Rhode Island': 'RI',\n",
    "           'South Carolina': 'SC',\n",
    "           'South Dakota': 'SD',\n",
    "           'Tennessee': 'TN',\n",
    "           'Texas': 'TX',\n",
    "           'Utah': 'UT',\n",
    "           'Virginia': 'VA',\n",
    "           'Virgin Islands': 'VI',\n",
    "           'Vermont': 'VT',\n",
    "           'Washington': 'WA',\n",
    "           'Wisconsin': 'WI',\n",
    "           'West Virginia': 'WV',\n",
    "           'Wyoming': 'WY'\n",
    "}"
   ]
  },
  {
   "cell_type": "code",
   "execution_count": 36,
   "metadata": {
    "collapsed": false
   },
   "outputs": [],
   "source": [
    "# Add state abbreviation to DataFrame\n",
    "get_abbr = lambda s: state_abbr[str(s)]\n",
    "y2k_df['STATE_ABBR'] = y2k_df['STATE'].apply(get_abbr)"
   ]
  },
  {
   "cell_type": "code",
   "execution_count": 39,
   "metadata": {
    "collapsed": false
   },
   "outputs": [
    {
     "data": {
      "text/plain": [
       "Index(['CID', 'STATE', 'COUNTY', 'PBUSH', 'PGORE', 'PNADER', 'POTHER', 'BUSH',\n",
       "       'GORE', 'NADER', 'BUCHANAN', 'BROWNE', 'PHILLIPS', 'WRITEINS',\n",
       "       'HAGELIN', 'MCREYNOLDS', 'HARRIS', 'DODGE', 'NOTA', 'MOOREHEAD',\n",
       "       'BROWN', 'VENSON', 'YOUNGKEIT', 'LANE', 'YEAR', 'OFFICE', 'LEVEL',\n",
       "       'STATE_ABBR'],\n",
       "      dtype='object')"
      ]
     },
     "execution_count": 39,
     "metadata": {},
     "output_type": "execute_result"
    }
   ],
   "source": [
    "y2k_df.columns"
   ]
  },
  {
   "cell_type": "code",
   "execution_count": 43,
   "metadata": {
    "collapsed": false
   },
   "outputs": [],
   "source": [
    "# Re order columns\n",
    "y2k_df = y2k_df[['YEAR','STATE_ABBR','STATE','COUNTY',\n",
    "              'OFFICE','LEVEL',\n",
    "              'GORE','BUSH','NADER',\n",
    "              'BUCHANAN','BROWNE','PHILLIPS',\n",
    "              'WRITEINS','HAGELIN','MCREYNOLDS',\n",
    "              'HARRIS', 'DODGE', 'NOTA','MOOREHEAD',\n",
    "              'BROWN','VENSON','YOUNGKEIT','LANE',\n",
    "              'PGORE','PBUSH','PNADER','POTHER']]"
   ]
  },
  {
   "cell_type": "code",
   "execution_count": 46,
   "metadata": {
    "collapsed": true
   },
   "outputs": [],
   "source": [
    "# Rename columns\n",
    "y2k_df.columns = ['YEAR','STATE_ABBR','STATE','COUNTY_NAME',\n",
    "                  'OFFICE','LEVEL',\n",
    "                  'VOTES_DEM', 'VOTES_REP',\n",
    "                  'NADER',\n",
    "                  'BUCHANAN','BROWNE','PHILLIPS',\n",
    "                  'WRITEINS','HAGELIN','MCREYNOLDS',\n",
    "                  'HARRIS', 'DODGE', 'NOTA','MOOREHEAD',\n",
    "                  'BROWN','VENSON','YOUNGKEIT','LANE',\n",
    "                  'PERCENT_DEM', 'PERCENT_REP',\n",
    "                  'PERCENT_NADER', 'PERCENT_OTHER'\n",
    "                  ]"
   ]
  },
  {
   "cell_type": "code",
   "execution_count": 50,
   "metadata": {
    "collapsed": true
   },
   "outputs": [],
   "source": [
    "# Eliminate the STATE column and retain the STATE_ABBR for consistency \n",
    "# with other election by county files\n",
    "del y2k_df['STATE']"
   ]
  },
  {
   "cell_type": "code",
   "execution_count": 51,
   "metadata": {
    "collapsed": false
   },
   "outputs": [
    {
     "name": "stdout",
     "output_type": "stream",
     "text": [
      "shape (num_rows,num_cols)  (3155, 26)\n"
     ]
    },
    {
     "data": {
      "text/html": [
       "<div>\n",
       "<table border=\"1\" class=\"dataframe\">\n",
       "  <thead>\n",
       "    <tr style=\"text-align: right;\">\n",
       "      <th></th>\n",
       "      <th>YEAR</th>\n",
       "      <th>STATE_ABBR</th>\n",
       "      <th>COUNTY_NAME</th>\n",
       "      <th>OFFICE</th>\n",
       "      <th>LEVEL</th>\n",
       "      <th>VOTES_DEM</th>\n",
       "      <th>VOTES_REP</th>\n",
       "      <th>NADER</th>\n",
       "      <th>BUCHANAN</th>\n",
       "      <th>BROWNE</th>\n",
       "      <th>...</th>\n",
       "      <th>NOTA</th>\n",
       "      <th>MOOREHEAD</th>\n",
       "      <th>BROWN</th>\n",
       "      <th>VENSON</th>\n",
       "      <th>YOUNGKEIT</th>\n",
       "      <th>LANE</th>\n",
       "      <th>PERCENT_DEM</th>\n",
       "      <th>PERCENT_REP</th>\n",
       "      <th>PERCENT_NADER</th>\n",
       "      <th>PERCENT_OTHER</th>\n",
       "    </tr>\n",
       "  </thead>\n",
       "  <tbody>\n",
       "    <tr>\n",
       "      <th>0</th>\n",
       "      <td>2000</td>\n",
       "      <td>AL</td>\n",
       "      <td>Autauga</td>\n",
       "      <td>president</td>\n",
       "      <td>federal</td>\n",
       "      <td>4942</td>\n",
       "      <td>11993</td>\n",
       "      <td>160</td>\n",
       "      <td>43</td>\n",
       "      <td>51</td>\n",
       "      <td>...</td>\n",
       "      <td>0</td>\n",
       "      <td>0</td>\n",
       "      <td>0</td>\n",
       "      <td>0</td>\n",
       "      <td>0</td>\n",
       "      <td>0</td>\n",
       "      <td>28.7</td>\n",
       "      <td>69.7</td>\n",
       "      <td>0.9</td>\n",
       "      <td>0.7</td>\n",
       "    </tr>\n",
       "    <tr>\n",
       "      <th>1</th>\n",
       "      <td>2000</td>\n",
       "      <td>AL</td>\n",
       "      <td>Baldwin</td>\n",
       "      <td>president</td>\n",
       "      <td>federal</td>\n",
       "      <td>13997</td>\n",
       "      <td>40872</td>\n",
       "      <td>1033</td>\n",
       "      <td>287</td>\n",
       "      <td>226</td>\n",
       "      <td>...</td>\n",
       "      <td>0</td>\n",
       "      <td>0</td>\n",
       "      <td>0</td>\n",
       "      <td>0</td>\n",
       "      <td>0</td>\n",
       "      <td>0</td>\n",
       "      <td>24.8</td>\n",
       "      <td>72.4</td>\n",
       "      <td>1.8</td>\n",
       "      <td>1.0</td>\n",
       "    </tr>\n",
       "    <tr>\n",
       "      <th>2</th>\n",
       "      <td>2000</td>\n",
       "      <td>AL</td>\n",
       "      <td>Barbour</td>\n",
       "      <td>president</td>\n",
       "      <td>federal</td>\n",
       "      <td>5188</td>\n",
       "      <td>5096</td>\n",
       "      <td>46</td>\n",
       "      <td>27</td>\n",
       "      <td>27</td>\n",
       "      <td>...</td>\n",
       "      <td>0</td>\n",
       "      <td>0</td>\n",
       "      <td>0</td>\n",
       "      <td>0</td>\n",
       "      <td>0</td>\n",
       "      <td>0</td>\n",
       "      <td>49.0</td>\n",
       "      <td>49.9</td>\n",
       "      <td>0.4</td>\n",
       "      <td>0.6</td>\n",
       "    </tr>\n",
       "  </tbody>\n",
       "</table>\n",
       "<p>3 rows × 26 columns</p>\n",
       "</div>"
      ],
      "text/plain": [
       "   YEAR STATE_ABBR COUNTY_NAME     OFFICE    LEVEL  VOTES_DEM  VOTES_REP  \\\n",
       "0  2000         AL     Autauga  president  federal       4942      11993   \n",
       "1  2000         AL     Baldwin  president  federal      13997      40872   \n",
       "2  2000         AL     Barbour  president  federal       5188       5096   \n",
       "\n",
       "   NADER  BUCHANAN  BROWNE      ...        NOTA  MOOREHEAD  BROWN  VENSON  \\\n",
       "0    160        43      51      ...           0          0      0       0   \n",
       "1   1033       287     226      ...           0          0      0       0   \n",
       "2     46        27      27      ...           0          0      0       0   \n",
       "\n",
       "   YOUNGKEIT  LANE PERCENT_DEM  PERCENT_REP  PERCENT_NADER  PERCENT_OTHER  \n",
       "0          0     0        28.7         69.7            0.9            0.7  \n",
       "1          0     0        24.8         72.4            1.8            1.0  \n",
       "2          0     0        49.0         49.9            0.4            0.6  \n",
       "\n",
       "[3 rows x 26 columns]"
      ]
     },
     "execution_count": 51,
     "metadata": {},
     "output_type": "execute_result"
    }
   ],
   "source": [
    "print('shape (num_rows,num_cols) ', y2k_df.shape)\n",
    "y2k_df.head(3)"
   ]
  },
  {
   "cell_type": "code",
   "execution_count": 38,
   "metadata": {
    "collapsed": false
   },
   "outputs": [
    {
     "name": "stdout",
     "output_type": "stream",
     "text": [
      "shape (num_rows, num_cols)  (3235, 5)\n"
     ]
    },
    {
     "data": {
      "text/html": [
       "<div>\n",
       "<table border=\"1\" class=\"dataframe\">\n",
       "  <thead>\n",
       "    <tr style=\"text-align: right;\">\n",
       "      <th></th>\n",
       "      <th>0</th>\n",
       "      <th>1</th>\n",
       "      <th>2</th>\n",
       "      <th>3</th>\n",
       "      <th>4</th>\n",
       "    </tr>\n",
       "  </thead>\n",
       "  <tbody>\n",
       "    <tr>\n",
       "      <th>0</th>\n",
       "      <td>AL</td>\n",
       "      <td>1</td>\n",
       "      <td>1</td>\n",
       "      <td>Autauga County</td>\n",
       "      <td>H1</td>\n",
       "    </tr>\n",
       "    <tr>\n",
       "      <th>1</th>\n",
       "      <td>AL</td>\n",
       "      <td>1</td>\n",
       "      <td>3</td>\n",
       "      <td>Baldwin County</td>\n",
       "      <td>H1</td>\n",
       "    </tr>\n",
       "    <tr>\n",
       "      <th>2</th>\n",
       "      <td>AL</td>\n",
       "      <td>1</td>\n",
       "      <td>5</td>\n",
       "      <td>Barbour County</td>\n",
       "      <td>H1</td>\n",
       "    </tr>\n",
       "  </tbody>\n",
       "</table>\n",
       "</div>"
      ],
      "text/plain": [
       "    0  1  2               3   4\n",
       "0  AL  1  1  Autauga County  H1\n",
       "1  AL  1  3  Baldwin County  H1\n",
       "2  AL  1  5  Barbour County  H1"
      ]
     },
     "execution_count": 38,
     "metadata": {},
     "output_type": "execute_result"
    }
   ],
   "source": [
    "## 2010 FIPS codes for states and counties from Census Bureau\n",
    "## https://www.census.gov/geo/reference/codes/cou.html\n",
    "## List of changes 1970,1980,1990,2000,2010\n",
    "## https://www.census.gov/geo/reference/county-changes.html\n",
    "## TODO: modify this for 2000\n",
    "filename_fips = '../data/census/national_county.txt'\n",
    "cols = ['STATE_ABBR','STATE_FIPS','COUNTY_FIPS','COUNTY_NAME','']\n",
    "fips_df = pd.read_csv(filename_fips, header=None)\n",
    "print('shape (num_rows, num_cols) ' ,fips_df.shape)\n",
    "fips_df.head(3)"
   ]
  },
  {
   "cell_type": "markdown",
   "metadata": {},
   "source": [
    "## Output csv file to output directory\n",
    "Work in progress\n",
    "\n",
    "Year 2000 does not have FIPS codes and is not in the same format"
   ]
  },
  {
   "cell_type": "code",
   "execution_count": 49,
   "metadata": {
    "collapsed": true
   },
   "outputs": [],
   "source": [
    "filename_out = '../output/2000_pres_election_by_county.csv'\n",
    "y2k_df.to_csv(filename_out,\n",
    "              index=False)"
   ]
  },
  {
   "cell_type": "code",
   "execution_count": null,
   "metadata": {
    "collapsed": true
   },
   "outputs": [],
   "source": []
  }
 ],
 "metadata": {
  "kernelspec": {
   "display_name": "Python [default]",
   "language": "python",
   "name": "python3"
  },
  "language_info": {
   "codemirror_mode": {
    "name": "ipython",
    "version": 3
   },
   "file_extension": ".py",
   "mimetype": "text/x-python",
   "name": "python",
   "nbconvert_exporter": "python",
   "pygments_lexer": "ipython3",
   "version": "3.5.2"
  }
 },
 "nbformat": 4,
 "nbformat_minor": 1
}
