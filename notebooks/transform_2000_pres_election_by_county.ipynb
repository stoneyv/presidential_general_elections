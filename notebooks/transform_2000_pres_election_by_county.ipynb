{
 "cells": [
  {
   "cell_type": "markdown",
   "metadata": {},
   "source": [
    "## Transform\n",
    "## 2000 Presidential Election Results by County\n",
    "\n",
    "David Lublin and D. Stephen Voss. 2001. \"Federal Elections Project.\" American University, Washington, DC and the University of Kentucky, Lexington, KY.\n",
    "\n",
    "source:  http://www.american.edu/spa/ccps/Data-Sets.cfm"
   ]
  },
  {
   "cell_type": "code",
   "execution_count": 1,
   "metadata": {
    "collapsed": false
   },
   "outputs": [
    {
     "name": "stdout",
     "output_type": "stream",
     "text": [
      "python version  3.5.2\n",
      "numpy version  1.11.1\n",
      "pandas version  0.18.1\n"
     ]
    }
   ],
   "source": [
    "import pandas as pd\n",
    "import numpy as np\n",
    "import sys\n",
    "\n",
    "version = \".\".join(map(str, sys.version_info[:3]))\n",
    "print('python version ', version)\n",
    "print('numpy version ', np.__version__)\n",
    "print('pandas version ',pd.__version__)"
   ]
  },
  {
   "cell_type": "code",
   "execution_count": 2,
   "metadata": {
    "collapsed": false
   },
   "outputs": [
    {
     "name": "stdout",
     "output_type": "stream",
     "text": [
      "county.csv  COUNTY.csv  CTYREADME.txt\r\n"
     ]
    }
   ],
   "source": [
    "ls ../data/american-university/CY/"
   ]
  },
  {
   "cell_type": "code",
   "execution_count": 3,
   "metadata": {
    "collapsed": false
   },
   "outputs": [
    {
     "name": "stdout",
     "output_type": "stream",
     "text": [
      "shape (num_rows,num_cols)  (3155, 24)\n"
     ]
    },
    {
     "data": {
      "text/html": [
       "<div>\n",
       "<table border=\"1\" class=\"dataframe\">\n",
       "  <thead>\n",
       "    <tr style=\"text-align: right;\">\n",
       "      <th></th>\n",
       "      <th>CID</th>\n",
       "      <th>STATE</th>\n",
       "      <th>COUNTY</th>\n",
       "      <th>PBUSH</th>\n",
       "      <th>PGORE</th>\n",
       "      <th>PNADER</th>\n",
       "      <th>POTHER</th>\n",
       "      <th>BUSH</th>\n",
       "      <th>GORE</th>\n",
       "      <th>NADER</th>\n",
       "      <th>...</th>\n",
       "      <th>HAGELIN</th>\n",
       "      <th>MCREYNOLDS</th>\n",
       "      <th>HARRIS</th>\n",
       "      <th>DODGE</th>\n",
       "      <th>NOTA</th>\n",
       "      <th>MOOREHEAD</th>\n",
       "      <th>BROWN</th>\n",
       "      <th>VENSON</th>\n",
       "      <th>YOUNGKEIT</th>\n",
       "      <th>LANE</th>\n",
       "    </tr>\n",
       "  </thead>\n",
       "  <tbody>\n",
       "    <tr>\n",
       "      <th>0</th>\n",
       "      <td>1</td>\n",
       "      <td>Alabama</td>\n",
       "      <td>Autauga</td>\n",
       "      <td>0.6969</td>\n",
       "      <td>0.2872</td>\n",
       "      <td>0.0093</td>\n",
       "      <td>0.0066</td>\n",
       "      <td>11993</td>\n",
       "      <td>4942</td>\n",
       "      <td>160</td>\n",
       "      <td>...</td>\n",
       "      <td>5</td>\n",
       "      <td>0</td>\n",
       "      <td>0</td>\n",
       "      <td>0</td>\n",
       "      <td>0</td>\n",
       "      <td>0</td>\n",
       "      <td>0</td>\n",
       "      <td>0</td>\n",
       "      <td>0</td>\n",
       "      <td>0</td>\n",
       "    </tr>\n",
       "    <tr>\n",
       "      <th>1</th>\n",
       "      <td>2</td>\n",
       "      <td>Alabama</td>\n",
       "      <td>Baldwin</td>\n",
       "      <td>0.7237</td>\n",
       "      <td>0.2478</td>\n",
       "      <td>0.0183</td>\n",
       "      <td>0.0102</td>\n",
       "      <td>40872</td>\n",
       "      <td>13997</td>\n",
       "      <td>1033</td>\n",
       "      <td>...</td>\n",
       "      <td>14</td>\n",
       "      <td>0</td>\n",
       "      <td>0</td>\n",
       "      <td>0</td>\n",
       "      <td>0</td>\n",
       "      <td>0</td>\n",
       "      <td>0</td>\n",
       "      <td>0</td>\n",
       "      <td>0</td>\n",
       "      <td>0</td>\n",
       "    </tr>\n",
       "    <tr>\n",
       "      <th>2</th>\n",
       "      <td>3</td>\n",
       "      <td>Alabama</td>\n",
       "      <td>Barbour</td>\n",
       "      <td>0.4991</td>\n",
       "      <td>0.4902</td>\n",
       "      <td>0.0044</td>\n",
       "      <td>0.0063</td>\n",
       "      <td>5096</td>\n",
       "      <td>5188</td>\n",
       "      <td>46</td>\n",
       "      <td>...</td>\n",
       "      <td>2</td>\n",
       "      <td>0</td>\n",
       "      <td>0</td>\n",
       "      <td>0</td>\n",
       "      <td>0</td>\n",
       "      <td>0</td>\n",
       "      <td>0</td>\n",
       "      <td>0</td>\n",
       "      <td>0</td>\n",
       "      <td>0</td>\n",
       "    </tr>\n",
       "  </tbody>\n",
       "</table>\n",
       "<p>3 rows × 24 columns</p>\n",
       "</div>"
      ],
      "text/plain": [
       "   CID    STATE   COUNTY   PBUSH   PGORE  PNADER  POTHER   BUSH   GORE  NADER  \\\n",
       "0    1  Alabama  Autauga  0.6969  0.2872  0.0093  0.0066  11993   4942    160   \n",
       "1    2  Alabama  Baldwin  0.7237  0.2478  0.0183  0.0102  40872  13997   1033   \n",
       "2    3  Alabama  Barbour  0.4991  0.4902  0.0044  0.0063   5096   5188     46   \n",
       "\n",
       "   ...   HAGELIN  MCREYNOLDS  HARRIS  DODGE  NOTA  MOOREHEAD  BROWN  VENSON  \\\n",
       "0  ...         5           0       0      0     0          0      0       0   \n",
       "1  ...        14           0       0      0     0          0      0       0   \n",
       "2  ...         2           0       0      0     0          0      0       0   \n",
       "\n",
       "  YOUNGKEIT  LANE  \n",
       "0         0     0  \n",
       "1         0     0  \n",
       "2         0     0  \n",
       "\n",
       "[3 rows x 24 columns]"
      ]
     },
     "execution_count": 3,
     "metadata": {},
     "output_type": "execute_result"
    }
   ],
   "source": [
    "## NOTE: edited encoded spaces. \n",
    "## Initially converted to an excel format, but the problem was encoding of\n",
    "## some of the spaces in the STATE and COUNTY columns such as North Dakota,\n",
    "## South Carolina, etc\n",
    "filename = '../data/american-university/CY/county.csv'\n",
    "y2k_df = pd.read_csv(filename)\n",
    "print('shape (num_rows,num_cols) ', y2k_df.shape)\n",
    "y2k_df.head(3)"
   ]
  },
  {
   "cell_type": "code",
   "execution_count": 4,
   "metadata": {
    "collapsed": false
   },
   "outputs": [],
   "source": [
    "# Generate columns with the attributes\n",
    "# year {2016,2012,2008,2004,2000, ...}\n",
    "# office {'president', 'senator', 'representative', ...}\n",
    "# level  {'federal','state','county', ...}\n",
    "num_rows = y2k_df.shape[0]\n",
    "year_list = [2000] * num_rows\n",
    "office_list = ['president'] * num_rows \n",
    "level_list = ['federal'] * num_rows\n",
    "y2k_df['YEAR'] = year_list\n",
    "y2k_df['OFFICE'] = office_list\n",
    "y2k_df['LEVEL'] = level_list"
   ]
  },
  {
   "cell_type": "code",
   "execution_count": 5,
   "metadata": {
    "collapsed": false
   },
   "outputs": [
    {
     "data": {
      "text/html": [
       "<div>\n",
       "<table border=\"1\" class=\"dataframe\">\n",
       "  <thead>\n",
       "    <tr style=\"text-align: right;\">\n",
       "      <th></th>\n",
       "      <th>data type</th>\n",
       "      <th>number of null values</th>\n",
       "    </tr>\n",
       "  </thead>\n",
       "  <tbody>\n",
       "    <tr>\n",
       "      <th>CID</th>\n",
       "      <td>int64</td>\n",
       "      <td>0</td>\n",
       "    </tr>\n",
       "    <tr>\n",
       "      <th>STATE</th>\n",
       "      <td>object</td>\n",
       "      <td>0</td>\n",
       "    </tr>\n",
       "    <tr>\n",
       "      <th>COUNTY</th>\n",
       "      <td>object</td>\n",
       "      <td>0</td>\n",
       "    </tr>\n",
       "    <tr>\n",
       "      <th>PBUSH</th>\n",
       "      <td>float64</td>\n",
       "      <td>0</td>\n",
       "    </tr>\n",
       "    <tr>\n",
       "      <th>PGORE</th>\n",
       "      <td>float64</td>\n",
       "      <td>0</td>\n",
       "    </tr>\n",
       "    <tr>\n",
       "      <th>PNADER</th>\n",
       "      <td>float64</td>\n",
       "      <td>0</td>\n",
       "    </tr>\n",
       "    <tr>\n",
       "      <th>POTHER</th>\n",
       "      <td>float64</td>\n",
       "      <td>0</td>\n",
       "    </tr>\n",
       "    <tr>\n",
       "      <th>BUSH</th>\n",
       "      <td>int64</td>\n",
       "      <td>0</td>\n",
       "    </tr>\n",
       "    <tr>\n",
       "      <th>GORE</th>\n",
       "      <td>int64</td>\n",
       "      <td>0</td>\n",
       "    </tr>\n",
       "    <tr>\n",
       "      <th>NADER</th>\n",
       "      <td>int64</td>\n",
       "      <td>0</td>\n",
       "    </tr>\n",
       "    <tr>\n",
       "      <th>BUCHANAN</th>\n",
       "      <td>int64</td>\n",
       "      <td>0</td>\n",
       "    </tr>\n",
       "    <tr>\n",
       "      <th>BROWNE</th>\n",
       "      <td>int64</td>\n",
       "      <td>0</td>\n",
       "    </tr>\n",
       "    <tr>\n",
       "      <th>PHILLIPS</th>\n",
       "      <td>int64</td>\n",
       "      <td>0</td>\n",
       "    </tr>\n",
       "    <tr>\n",
       "      <th>WRITEINS</th>\n",
       "      <td>int64</td>\n",
       "      <td>0</td>\n",
       "    </tr>\n",
       "    <tr>\n",
       "      <th>HAGELIN</th>\n",
       "      <td>int64</td>\n",
       "      <td>0</td>\n",
       "    </tr>\n",
       "    <tr>\n",
       "      <th>MCREYNOLDS</th>\n",
       "      <td>int64</td>\n",
       "      <td>0</td>\n",
       "    </tr>\n",
       "    <tr>\n",
       "      <th>HARRIS</th>\n",
       "      <td>int64</td>\n",
       "      <td>0</td>\n",
       "    </tr>\n",
       "    <tr>\n",
       "      <th>DODGE</th>\n",
       "      <td>int64</td>\n",
       "      <td>0</td>\n",
       "    </tr>\n",
       "    <tr>\n",
       "      <th>NOTA</th>\n",
       "      <td>object</td>\n",
       "      <td>0</td>\n",
       "    </tr>\n",
       "    <tr>\n",
       "      <th>MOOREHEAD</th>\n",
       "      <td>int64</td>\n",
       "      <td>0</td>\n",
       "    </tr>\n",
       "    <tr>\n",
       "      <th>BROWN</th>\n",
       "      <td>int64</td>\n",
       "      <td>0</td>\n",
       "    </tr>\n",
       "    <tr>\n",
       "      <th>VENSON</th>\n",
       "      <td>int64</td>\n",
       "      <td>0</td>\n",
       "    </tr>\n",
       "    <tr>\n",
       "      <th>YOUNGKEIT</th>\n",
       "      <td>int64</td>\n",
       "      <td>0</td>\n",
       "    </tr>\n",
       "    <tr>\n",
       "      <th>LANE</th>\n",
       "      <td>int64</td>\n",
       "      <td>0</td>\n",
       "    </tr>\n",
       "    <tr>\n",
       "      <th>YEAR</th>\n",
       "      <td>int64</td>\n",
       "      <td>0</td>\n",
       "    </tr>\n",
       "    <tr>\n",
       "      <th>OFFICE</th>\n",
       "      <td>object</td>\n",
       "      <td>0</td>\n",
       "    </tr>\n",
       "    <tr>\n",
       "      <th>LEVEL</th>\n",
       "      <td>object</td>\n",
       "      <td>0</td>\n",
       "    </tr>\n",
       "  </tbody>\n",
       "</table>\n",
       "</div>"
      ],
      "text/plain": [
       "           data type  number of null values\n",
       "CID            int64                      0\n",
       "STATE         object                      0\n",
       "COUNTY        object                      0\n",
       "PBUSH        float64                      0\n",
       "PGORE        float64                      0\n",
       "PNADER       float64                      0\n",
       "POTHER       float64                      0\n",
       "BUSH           int64                      0\n",
       "GORE           int64                      0\n",
       "NADER          int64                      0\n",
       "BUCHANAN       int64                      0\n",
       "BROWNE         int64                      0\n",
       "PHILLIPS       int64                      0\n",
       "WRITEINS       int64                      0\n",
       "HAGELIN        int64                      0\n",
       "MCREYNOLDS     int64                      0\n",
       "HARRIS         int64                      0\n",
       "DODGE          int64                      0\n",
       "NOTA          object                      0\n",
       "MOOREHEAD      int64                      0\n",
       "BROWN          int64                      0\n",
       "VENSON         int64                      0\n",
       "YOUNGKEIT      int64                      0\n",
       "LANE           int64                      0\n",
       "YEAR           int64                      0\n",
       "OFFICE        object                      0\n",
       "LEVEL         object                      0"
      ]
     },
     "execution_count": 5,
     "metadata": {},
     "output_type": "execute_result"
    }
   ],
   "source": [
    "# Number of null values and data types per column\n",
    "# You can use DataFrame.info() as well\n",
    "null_df = pd.DataFrame({'number of null values': y2k_df.isnull().sum(),\n",
    "                        'data type' : y2k_df.dtypes })\n",
    "null_df"
   ]
  },
  {
   "cell_type": "code",
   "execution_count": 6,
   "metadata": {
    "collapsed": false
   },
   "outputs": [],
   "source": [
    "## Convert decimal fractions to percentages\n",
    "## Round percentage of votes to one place\n",
    "round_percentage = lambda x: round(float(x),3)*100\n",
    "y2k_df['PBUSH'] = y2k_df['PBUSH'].apply(round_percentage)\n",
    "y2k_df['PGORE'] = y2k_df['PGORE'].apply(round_percentage)\n",
    "y2k_df['PNADER'] = y2k_df['PNADER'].apply(round_percentage)\n",
    "y2k_df['POTHER'] = y2k_df['POTHER'].apply(round_percentage)"
   ]
  },
  {
   "cell_type": "code",
   "execution_count": 7,
   "metadata": {
    "collapsed": false
   },
   "outputs": [],
   "source": [
    "y2k_df['STATE'] = y2k_df.STATE.astype('str')"
   ]
  },
  {
   "cell_type": "code",
   "execution_count": 8,
   "metadata": {
    "collapsed": false
   },
   "outputs": [],
   "source": [
    "state_abbr = { 'Alaska': 'AK',\n",
    "           'Alabama': 'AL',\n",
    "           'Arkansas': 'AR',\n",
    "           'Arizona': 'AZ',\n",
    "           'California': 'CA',\n",
    "           'Colorado': 'CO',\n",
    "           'Connecticut': 'CT',\n",
    "           'District of Columbia': 'DC',\n",
    "           'Delaware': 'DE',\n",
    "           'Florida': 'FL',\n",
    "           'Georgia': 'GA',\n",
    "           'Guam': 'GU',\n",
    "           'Hawaii': 'HI',\n",
    "           'Iowa': 'IA',\n",
    "           'Idaho': 'ID',\n",
    "           'Illinois': 'IL',\n",
    "           'Indiana': 'IN',\n",
    "           'Kansas': 'KS',\n",
    "           'Kentucky': 'KY',\n",
    "           'Louisiana': 'LA',\n",
    "           'Massachusetts': 'MA',\n",
    "           'Maryland': 'MD',\n",
    "           'Maine': 'ME',\n",
    "           'Michigan': 'MI',\n",
    "           'Minnesota': 'MN',\n",
    "           'Missouri': 'MO',\n",
    "           'Mississippi': 'MS',\n",
    "           'Montana': 'MT',\n",
    "           'North Carolina': 'NC',\n",
    "           'North Dakota': 'ND',\n",
    "           'Nebraska': 'NE',\n",
    "           'New Hampshire': 'NH',\n",
    "           'New Jersey': 'NJ',\n",
    "           'New Mexico': 'NM',\n",
    "           'Nevada': 'NV',\n",
    "           'New York': 'NY',\n",
    "           'Ohio': 'OH',\n",
    "           'Oklahoma': 'OK',\n",
    "           'Oregon': 'OR',\n",
    "           'Pennsylvania': 'PA',\n",
    "           'Puerto Rico': 'PR',\n",
    "           'Rhode Island': 'RI',\n",
    "           'South Carolina': 'SC',\n",
    "           'South Dakota': 'SD',\n",
    "           'Tennessee': 'TN',\n",
    "           'Texas': 'TX',\n",
    "           'Utah': 'UT',\n",
    "           'Virginia': 'VA',\n",
    "           'Virgin Islands': 'VI',\n",
    "           'Vermont': 'VT',\n",
    "           'Washington': 'WA',\n",
    "           'Wisconsin': 'WI',\n",
    "           'West Virginia': 'WV',\n",
    "           'Wyoming': 'WY'\n",
    "}"
   ]
  },
  {
   "cell_type": "code",
   "execution_count": 9,
   "metadata": {
    "collapsed": false
   },
   "outputs": [],
   "source": [
    "# Add state abbreviation to DataFrame\n",
    "get_abbr = lambda s: state_abbr[str(s)]\n",
    "y2k_df['STATE_ABBR'] = y2k_df['STATE'].apply(get_abbr)"
   ]
  },
  {
   "cell_type": "code",
   "execution_count": 10,
   "metadata": {
    "collapsed": false
   },
   "outputs": [
    {
     "data": {
      "text/plain": [
       "Index(['CID', 'STATE', 'COUNTY', 'PBUSH', 'PGORE', 'PNADER', 'POTHER', 'BUSH',\n",
       "       'GORE', 'NADER', 'BUCHANAN', 'BROWNE', 'PHILLIPS', 'WRITEINS',\n",
       "       'HAGELIN', 'MCREYNOLDS', 'HARRIS', 'DODGE', 'NOTA', 'MOOREHEAD',\n",
       "       'BROWN', 'VENSON', 'YOUNGKEIT', 'LANE', 'YEAR', 'OFFICE', 'LEVEL',\n",
       "       'STATE_ABBR'],\n",
       "      dtype='object')"
      ]
     },
     "execution_count": 10,
     "metadata": {},
     "output_type": "execute_result"
    }
   ],
   "source": [
    "y2k_df.columns"
   ]
  },
  {
   "cell_type": "code",
   "execution_count": 11,
   "metadata": {
    "collapsed": false
   },
   "outputs": [],
   "source": [
    "# Re order columns\n",
    "y2k_df = y2k_df[['YEAR','STATE_ABBR','STATE','COUNTY',\n",
    "              'OFFICE','LEVEL',\n",
    "              'GORE','BUSH','NADER',\n",
    "              'BUCHANAN','BROWNE','PHILLIPS',\n",
    "              'WRITEINS','HAGELIN','MCREYNOLDS',\n",
    "              'HARRIS', 'DODGE', 'NOTA','MOOREHEAD',\n",
    "              'BROWN','VENSON','YOUNGKEIT','LANE',\n",
    "              'PGORE','PBUSH','PNADER','POTHER']]"
   ]
  },
  {
   "cell_type": "code",
   "execution_count": 12,
   "metadata": {
    "collapsed": true
   },
   "outputs": [],
   "source": [
    "# Rename columns\n",
    "y2k_df.columns = ['YEAR','STATE_ABBR','STATE','COUNTY_NAME',\n",
    "                  'OFFICE','LEVEL',\n",
    "                  'VOTES_DEM', 'VOTES_REP',\n",
    "                  'NADER',\n",
    "                  'BUCHANAN','BROWNE','PHILLIPS',\n",
    "                  'WRITEINS','HAGELIN','MCREYNOLDS',\n",
    "                  'HARRIS', 'DODGE', 'NOTA','MOOREHEAD',\n",
    "                  'BROWN','VENSON','YOUNGKEIT','LANE',\n",
    "                  'PERCENT_DEM', 'PERCENT_REP',\n",
    "                  'PERCENT_NADER', 'PERCENT_OTHER'\n",
    "                  ]"
   ]
  },
  {
   "cell_type": "code",
   "execution_count": 13,
   "metadata": {
    "collapsed": true
   },
   "outputs": [],
   "source": [
    "# Eliminate the STATE column and retain the STATE_ABBR for consistency \n",
    "# with other election by county files\n",
    "del y2k_df['STATE']"
   ]
  },
  {
   "cell_type": "code",
   "execution_count": 14,
   "metadata": {
    "collapsed": false
   },
   "outputs": [
    {
     "name": "stdout",
     "output_type": "stream",
     "text": [
      "shape (num_rows,num_cols)  (3155, 26)\n"
     ]
    },
    {
     "data": {
      "text/html": [
       "<div>\n",
       "<table border=\"1\" class=\"dataframe\">\n",
       "  <thead>\n",
       "    <tr style=\"text-align: right;\">\n",
       "      <th></th>\n",
       "      <th>YEAR</th>\n",
       "      <th>STATE_ABBR</th>\n",
       "      <th>COUNTY_NAME</th>\n",
       "      <th>OFFICE</th>\n",
       "      <th>LEVEL</th>\n",
       "      <th>VOTES_DEM</th>\n",
       "      <th>VOTES_REP</th>\n",
       "      <th>NADER</th>\n",
       "      <th>BUCHANAN</th>\n",
       "      <th>BROWNE</th>\n",
       "      <th>...</th>\n",
       "      <th>NOTA</th>\n",
       "      <th>MOOREHEAD</th>\n",
       "      <th>BROWN</th>\n",
       "      <th>VENSON</th>\n",
       "      <th>YOUNGKEIT</th>\n",
       "      <th>LANE</th>\n",
       "      <th>PERCENT_DEM</th>\n",
       "      <th>PERCENT_REP</th>\n",
       "      <th>PERCENT_NADER</th>\n",
       "      <th>PERCENT_OTHER</th>\n",
       "    </tr>\n",
       "  </thead>\n",
       "  <tbody>\n",
       "    <tr>\n",
       "      <th>0</th>\n",
       "      <td>2000</td>\n",
       "      <td>AL</td>\n",
       "      <td>Autauga</td>\n",
       "      <td>president</td>\n",
       "      <td>federal</td>\n",
       "      <td>4942</td>\n",
       "      <td>11993</td>\n",
       "      <td>160</td>\n",
       "      <td>43</td>\n",
       "      <td>51</td>\n",
       "      <td>...</td>\n",
       "      <td>0</td>\n",
       "      <td>0</td>\n",
       "      <td>0</td>\n",
       "      <td>0</td>\n",
       "      <td>0</td>\n",
       "      <td>0</td>\n",
       "      <td>28.7</td>\n",
       "      <td>69.7</td>\n",
       "      <td>0.9</td>\n",
       "      <td>0.7</td>\n",
       "    </tr>\n",
       "    <tr>\n",
       "      <th>1</th>\n",
       "      <td>2000</td>\n",
       "      <td>AL</td>\n",
       "      <td>Baldwin</td>\n",
       "      <td>president</td>\n",
       "      <td>federal</td>\n",
       "      <td>13997</td>\n",
       "      <td>40872</td>\n",
       "      <td>1033</td>\n",
       "      <td>287</td>\n",
       "      <td>226</td>\n",
       "      <td>...</td>\n",
       "      <td>0</td>\n",
       "      <td>0</td>\n",
       "      <td>0</td>\n",
       "      <td>0</td>\n",
       "      <td>0</td>\n",
       "      <td>0</td>\n",
       "      <td>24.8</td>\n",
       "      <td>72.4</td>\n",
       "      <td>1.8</td>\n",
       "      <td>1.0</td>\n",
       "    </tr>\n",
       "    <tr>\n",
       "      <th>2</th>\n",
       "      <td>2000</td>\n",
       "      <td>AL</td>\n",
       "      <td>Barbour</td>\n",
       "      <td>president</td>\n",
       "      <td>federal</td>\n",
       "      <td>5188</td>\n",
       "      <td>5096</td>\n",
       "      <td>46</td>\n",
       "      <td>27</td>\n",
       "      <td>27</td>\n",
       "      <td>...</td>\n",
       "      <td>0</td>\n",
       "      <td>0</td>\n",
       "      <td>0</td>\n",
       "      <td>0</td>\n",
       "      <td>0</td>\n",
       "      <td>0</td>\n",
       "      <td>49.0</td>\n",
       "      <td>49.9</td>\n",
       "      <td>0.4</td>\n",
       "      <td>0.6</td>\n",
       "    </tr>\n",
       "  </tbody>\n",
       "</table>\n",
       "<p>3 rows × 26 columns</p>\n",
       "</div>"
      ],
      "text/plain": [
       "   YEAR STATE_ABBR COUNTY_NAME     OFFICE    LEVEL  VOTES_DEM  VOTES_REP  \\\n",
       "0  2000         AL     Autauga  president  federal       4942      11993   \n",
       "1  2000         AL     Baldwin  president  federal      13997      40872   \n",
       "2  2000         AL     Barbour  president  federal       5188       5096   \n",
       "\n",
       "   NADER  BUCHANAN  BROWNE      ...        NOTA  MOOREHEAD  BROWN  VENSON  \\\n",
       "0    160        43      51      ...           0          0      0       0   \n",
       "1   1033       287     226      ...           0          0      0       0   \n",
       "2     46        27      27      ...           0          0      0       0   \n",
       "\n",
       "   YOUNGKEIT  LANE PERCENT_DEM  PERCENT_REP  PERCENT_NADER  PERCENT_OTHER  \n",
       "0          0     0        28.7         69.7            0.9            0.7  \n",
       "1          0     0        24.8         72.4            1.8            1.0  \n",
       "2          0     0        49.0         49.9            0.4            0.6  \n",
       "\n",
       "[3 rows x 26 columns]"
      ]
     },
     "execution_count": 14,
     "metadata": {},
     "output_type": "execute_result"
    }
   ],
   "source": [
    "print('shape (num_rows,num_cols) ', y2k_df.shape)\n",
    "y2k_df.head(3)"
   ]
  },
  {
   "cell_type": "code",
   "execution_count": 15,
   "metadata": {
    "collapsed": false
   },
   "outputs": [
    {
     "name": "stdout",
     "output_type": "stream",
     "text": [
      "shape (num_rows, num_cols)  (3235, 5)\n"
     ]
    },
    {
     "data": {
      "text/html": [
       "<div>\n",
       "<table border=\"1\" class=\"dataframe\">\n",
       "  <thead>\n",
       "    <tr style=\"text-align: right;\">\n",
       "      <th></th>\n",
       "      <th>STATE_ABBR</th>\n",
       "      <th>STATE_FIPS</th>\n",
       "      <th>COUNTY_FIPS</th>\n",
       "      <th>COUNTY_NAME</th>\n",
       "      <th>FIPS_CLASS</th>\n",
       "    </tr>\n",
       "  </thead>\n",
       "  <tbody>\n",
       "    <tr>\n",
       "      <th>0</th>\n",
       "      <td>AL</td>\n",
       "      <td>01</td>\n",
       "      <td>001</td>\n",
       "      <td>Autauga County</td>\n",
       "      <td>H1</td>\n",
       "    </tr>\n",
       "    <tr>\n",
       "      <th>1</th>\n",
       "      <td>AL</td>\n",
       "      <td>01</td>\n",
       "      <td>003</td>\n",
       "      <td>Baldwin County</td>\n",
       "      <td>H1</td>\n",
       "    </tr>\n",
       "    <tr>\n",
       "      <th>2</th>\n",
       "      <td>AL</td>\n",
       "      <td>01</td>\n",
       "      <td>005</td>\n",
       "      <td>Barbour County</td>\n",
       "      <td>H1</td>\n",
       "    </tr>\n",
       "  </tbody>\n",
       "</table>\n",
       "</div>"
      ],
      "text/plain": [
       "  STATE_ABBR STATE_FIPS COUNTY_FIPS     COUNTY_NAME FIPS_CLASS\n",
       "0         AL         01         001  Autauga County         H1\n",
       "1         AL         01         003  Baldwin County         H1\n",
       "2         AL         01         005  Barbour County         H1"
      ]
     },
     "execution_count": 15,
     "metadata": {},
     "output_type": "execute_result"
    }
   ],
   "source": [
    "## 2010 FIPS codes for states and counties from Census Bureau\n",
    "## https://www.census.gov/geo/reference/codes/cou.html\n",
    "## List of changes 1970,1980,1990,2000,2010\n",
    "## https://www.census.gov/geo/reference/county-changes.html\n",
    "## TODO: modify this for 2000\n",
    "filename_fips = '../data/census/national_county.txt'\n",
    "cols = ['STATE_ABBR','STATE_FIPS','COUNTY_FIPS','COUNTY_NAME','FIPS_CLASS']\n",
    "fips_df = pd.read_csv(filename_fips,\n",
    "                      header=None,\n",
    "                      names=cols,\n",
    "                      dtype={'STATE_ABBR':str,\n",
    "                             'STATE_FIPS':str,\n",
    "                             'COUNTY_FIPS':str,\n",
    "                             'COUNTY_NAME':str,\n",
    "                             'FIPS_CLASS':str})\n",
    "print('shape (num_rows, num_cols) ' ,fips_df.shape)\n",
    "fips_df.head(3)"
   ]
  },
  {
   "cell_type": "code",
   "execution_count": 16,
   "metadata": {
    "collapsed": false
   },
   "outputs": [],
   "source": [
    "# Select rows that are territories and drop them\n",
    "fips_df = fips_df.drop(fips_df[(fips_df.STATE_ABBR == 'AS') |\n",
    "                               (fips_df.STATE_ABBR == 'MP') |\n",
    "                               (fips_df.STATE_ABBR == 'PR') |\n",
    "                               (fips_df.STATE_ABBR == 'UM') |\n",
    "                               (fips_df.STATE_ABBR == 'VI') ].index)"
   ]
  },
  {
   "cell_type": "code",
   "execution_count": 17,
   "metadata": {
    "collapsed": true
   },
   "outputs": [],
   "source": [
    "# Add column GEOID with concatenated STATE_FIPS + COUNTY_FIPS string\n",
    "# columns have been loaded with the type specified as string\n",
    "fips_df['GEOID'] = [s1 + s2 \n",
    "                    for s1,s2 in zip(fips_df.STATE_FIPS,\n",
    "                                     fips_df.COUNTY_FIPS)]"
   ]
  },
  {
   "cell_type": "code",
   "execution_count": 18,
   "metadata": {
    "collapsed": false
   },
   "outputs": [],
   "source": [
    "# Remove ' County' and ' borough' from COUNTY_NAME values\n",
    "# Using Pandas Series string methods\n",
    "counties = fips_df.COUNTY_NAME.str.replace(' County','', case=False)\n",
    "counties = counties.str.replace(' Borough','',case=False)\n",
    "counties = counties.str.replace(' Parish','',case=False)\n",
    "fips_df.COUNTY_NAME = counties"
   ]
  },
  {
   "cell_type": "code",
   "execution_count": 19,
   "metadata": {
    "collapsed": false
   },
   "outputs": [
    {
     "data": {
      "text/html": [
       "<div>\n",
       "<table border=\"1\" class=\"dataframe\">\n",
       "  <thead>\n",
       "    <tr style=\"text-align: right;\">\n",
       "      <th></th>\n",
       "      <th>STATE_ABBR</th>\n",
       "      <th>STATE_FIPS</th>\n",
       "      <th>COUNTY_FIPS</th>\n",
       "      <th>COUNTY_NAME</th>\n",
       "      <th>FIPS_CLASS</th>\n",
       "      <th>GEOID</th>\n",
       "    </tr>\n",
       "  </thead>\n",
       "  <tbody>\n",
       "    <tr>\n",
       "      <th>0</th>\n",
       "      <td>AL</td>\n",
       "      <td>01</td>\n",
       "      <td>001</td>\n",
       "      <td>Autauga</td>\n",
       "      <td>H1</td>\n",
       "      <td>01001</td>\n",
       "    </tr>\n",
       "    <tr>\n",
       "      <th>1</th>\n",
       "      <td>AL</td>\n",
       "      <td>01</td>\n",
       "      <td>003</td>\n",
       "      <td>Baldwin</td>\n",
       "      <td>H1</td>\n",
       "      <td>01003</td>\n",
       "    </tr>\n",
       "    <tr>\n",
       "      <th>2</th>\n",
       "      <td>AL</td>\n",
       "      <td>01</td>\n",
       "      <td>005</td>\n",
       "      <td>Barbour</td>\n",
       "      <td>H1</td>\n",
       "      <td>01005</td>\n",
       "    </tr>\n",
       "  </tbody>\n",
       "</table>\n",
       "</div>"
      ],
      "text/plain": [
       "  STATE_ABBR STATE_FIPS COUNTY_FIPS COUNTY_NAME FIPS_CLASS  GEOID\n",
       "0         AL         01         001     Autauga         H1  01001\n",
       "1         AL         01         003     Baldwin         H1  01003\n",
       "2         AL         01         005     Barbour         H1  01005"
      ]
     },
     "execution_count": 19,
     "metadata": {},
     "output_type": "execute_result"
    }
   ],
   "source": [
    "fips_df.head(3)"
   ]
  },
  {
   "cell_type": "code",
   "execution_count": 20,
   "metadata": {
    "collapsed": false
   },
   "outputs": [],
   "source": [
    "# Virginia counties with city set used by function fix_county\n",
    "va_city_set = {'Alexandria', 'Bedford', 'Bristol', 'Buena Vista',\n",
    "               'Charlottesville', 'Chesapeake', 'Colonial Heights',\n",
    "               'Covington', 'Danville', 'Emporia', 'Fairfax',\n",
    "               'Falls Church', 'Franklin', 'Fredericksburg',\n",
    "               'Galax', 'Hampton', 'Harrisonburg', 'Hopewell',\n",
    "               'Lexington', 'Lynchburg', 'Manassas', 'Manassas Park',\n",
    "               'Martinsville', 'Newport News', 'Norfolk', 'Norton',\n",
    "               'Petersburg', 'Poquoson', 'Portsmouth', 'Radford',\n",
    "               'Richmond', 'Roanoke', 'Salem', 'Staunton', 'Suffolk',\n",
    "               'Virginia Beach', 'Waynesboro', 'Williamsburg',\n",
    "               'Winchester'}"
   ]
  },
  {
   "cell_type": "code",
   "execution_count": 21,
   "metadata": {
    "collapsed": false
   },
   "outputs": [],
   "source": [
    "# Edits to county names for consistency to add a FIPS column \n",
    "# to voting data.  \n",
    "\n",
    "# y2k_df.COUNTY_NAME to fips_df.COUNTY_NAME\n",
    "# fips_df has borough, county, and parish removed \n",
    "def fix_county(state_abbr,county_name):\n",
    "    if(state_abbr == 'FL' and county_name == 'Dade'):\n",
    "        new_county = 'Miami-Dade'\n",
    "    elif(state_abbr == 'IL' and county_name == 'DeWitt'):\n",
    "        new_county = 'De Witt'\n",
    "    elif(state_abbr == 'LA' and county_name == 'DeSoto'):\n",
    "        new_county = 'De Soto'\n",
    "    elif(state_abbr == 'LA' and county_name == 'E Baton Rouge'):\n",
    "        new_county = 'East Baton Rouge'\n",
    "    elif(state_abbr == 'LA' and county_name == 'E Baton Rouge'):\n",
    "        new_county = 'East Baton Rouge'\n",
    "    elif(state_abbr == 'LA' and county_name == 'LaSalle'):\n",
    "        new_county = 'La Salle'\n",
    "    elif(state_abbr == 'MD' and county_name == 'Baltimore City'):\n",
    "        new_county = 'Baltimore city'\n",
    "    elif(state_abbr == 'MD' and county_name == 'Baltimore County'):\n",
    "        new_county = 'Baltimore'\n",
    "    elif(state_abbr == 'MT' and county_name == 'Lewis & Clark'):\n",
    "        new_county = 'Lewis and Clark'\n",
    "    elif(state_abbr == 'OK' and county_name == 'LeFlore'):\n",
    "        new_county = 'Le Flore'\n",
    "    elif(state_abbr == 'TX' and county_name == 'LaSalle'):\n",
    "        new_county = 'La Salle'\n",
    "    elif(state_abbr == 'VA' and county_name == 'Bedford County'):\n",
    "        new_county = 'Bedford'\n",
    "    elif(state_abbr == 'VA' and county_name == 'Fairfax County'):\n",
    "        new_county = 'Fairfax'\n",
    "    elif(state_abbr == 'VA' and county_name == 'Franklin County'):\n",
    "        new_county = 'Franklin'\n",
    "    elif(state_abbr == 'VA' and county_name == 'Richmond County'):\n",
    "        new_county = 'Richmond'\n",
    "    elif(state_abbr == 'VA' and county_name == 'Roanoke County'):\n",
    "        new_county = 'Roanoke'\n",
    "    elif(state_abbr == 'VA' and (county_name in va_city_set)):\n",
    "        new_county = county_name + ' city'\n",
    "    else:\n",
    "        new_county = county_name\n",
    "    return new_county\n",
    "\n",
    "counties = [fix_county(s1,s2)\n",
    "            for s1,s2 in zip(y2k_df.STATE_ABBR,y2k_df.COUNTY_NAME)]\n",
    "\n",
    "y2k_df.COUNTY_NAME = counties"
   ]
  },
  {
   "cell_type": "code",
   "execution_count": 22,
   "metadata": {
    "collapsed": false
   },
   "outputs": [
    {
     "name": "stdout",
     "output_type": "stream",
     "text": [
      "y2k_df (num_rows,num_cols) (3108, 26)\n"
     ]
    }
   ],
   "source": [
    "# TODO resolve Alaska boroughs from given house districts in data\n",
    "# For now drop Alaskan rows to facilitate adding FIPS codes for \n",
    "# plotting and joining with census data.\n",
    "# TODO Hawaii Federal Overseas and missing county\n",
    "y2k_df = y2k_df.drop(y2k_df[(y2k_df.STATE_ABBR == 'AK') |\n",
    "                            (y2k_df.STATE_ABBR == 'HI') |\n",
    "                             (y2k_df.COUNTY_NAME == 'Clifton Forge')].index)\n",
    "print('y2k_df (num_rows,num_cols)',y2k_df.shape)"
   ]
  },
  {
   "cell_type": "code",
   "execution_count": 23,
   "metadata": {
    "collapsed": true
   },
   "outputs": [],
   "source": [
    "# Create a dictionary of state abbreviations to state fips codes\n",
    "state_abbr = fips_df.STATE_ABBR.unique()\n",
    "state_fips = fips_df.STATE_FIPS.unique()\n",
    "state2state_fips_d = dict(zip(state_abbr,state_fips))"
   ]
  },
  {
   "cell_type": "code",
   "execution_count": 24,
   "metadata": {
    "collapsed": false
   },
   "outputs": [],
   "source": [
    "# Add STATE_FIPS attribute to DataFrame\n",
    "state_fips_s = [state2state_fips_d[s] \n",
    "                for s in y2k_df.loc[:,'STATE_ABBR']]\n",
    "y2k_df['STATE_FIPS'] = state_fips_s"
   ]
  },
  {
   "cell_type": "code",
   "execution_count": 25,
   "metadata": {
    "collapsed": false
   },
   "outputs": [],
   "source": [
    "# Create a dictionary with keys STATE_ABBR +COUNTY_NAME to GEOID values\n",
    "state_county_s = [s1+s2\n",
    "                  for s1,s2 in zip(fips_df.STATE_ABBR,fips_df.COUNTY_NAME.str.lower())]\n",
    "county2geoid_d = dict(zip(state_county_s,\n",
    "                          fips_df.GEOID))"
   ]
  },
  {
   "cell_type": "code",
   "execution_count": 26,
   "metadata": {
    "collapsed": false
   },
   "outputs": [
    {
     "name": "stdout",
     "output_type": "stream",
     "text": [
      "shape (num_rows, num_cols)  (3144, 6)\n"
     ]
    },
    {
     "data": {
      "text/plain": [
       "3144"
      ]
     },
     "execution_count": 26,
     "metadata": {},
     "output_type": "execute_result"
    }
   ],
   "source": [
    "# Ensure that dictionary has the same number of keys as rows in dataframe\n",
    "print('shape (num_rows, num_cols) ' ,fips_df.shape)\n",
    "len(county2geoid_d.keys())"
   ]
  },
  {
   "cell_type": "code",
   "execution_count": 27,
   "metadata": {
    "collapsed": false
   },
   "outputs": [
    {
     "name": "stdout",
     "output_type": "stream",
     "text": [
      "length of fips  3108\n"
     ]
    },
    {
     "data": {
      "text/plain": [
       "(3108, 27)"
      ]
     },
     "execution_count": 27,
     "metadata": {},
     "output_type": "execute_result"
    }
   ],
   "source": [
    "fips = [county2geoid_d[s1+s2]\n",
    "        for s1,s2 in zip(y2k_df.STATE_ABBR,y2k_df.COUNTY_NAME.astype('str').str.lower())]\n",
    "print('length of fips ',len(fips))\n",
    "y2k_df.shape"
   ]
  },
  {
   "cell_type": "code",
   "execution_count": 28,
   "metadata": {
    "collapsed": true
   },
   "outputs": [],
   "source": [
    "# Add FIPS / GEOID column to voting data\n",
    "y2k_df['FIPS'] = fips"
   ]
  },
  {
   "cell_type": "code",
   "execution_count": 29,
   "metadata": {
    "collapsed": false
   },
   "outputs": [
    {
     "data": {
      "text/plain": [
       "Index(['YEAR', 'STATE_ABBR', 'COUNTY_NAME', 'OFFICE', 'LEVEL', 'VOTES_DEM',\n",
       "       'VOTES_REP', 'NADER', 'BUCHANAN', 'BROWNE', 'PHILLIPS', 'WRITEINS',\n",
       "       'HAGELIN', 'MCREYNOLDS', 'HARRIS', 'DODGE', 'NOTA', 'MOOREHEAD',\n",
       "       'BROWN', 'VENSON', 'YOUNGKEIT', 'LANE', 'PERCENT_DEM', 'PERCENT_REP',\n",
       "       'PERCENT_NADER', 'PERCENT_OTHER', 'STATE_FIPS', 'FIPS'],\n",
       "      dtype='object')"
      ]
     },
     "execution_count": 29,
     "metadata": {},
     "output_type": "execute_result"
    }
   ],
   "source": [
    "y2k_df.columns"
   ]
  },
  {
   "cell_type": "code",
   "execution_count": 30,
   "metadata": {
    "collapsed": true
   },
   "outputs": [],
   "source": [
    "# Re order DataFrame again to move the FIPS encodings to the left\n",
    "y2k_df = y2k_df[['YEAR', 'FIPS','STATE_FIPS', 'STATE_ABBR', 'COUNTY_NAME', 'OFFICE', 'LEVEL', 'VOTES_DEM',\n",
    "       'VOTES_REP', 'NADER', 'BUCHANAN', 'BROWNE', 'PHILLIPS', 'WRITEINS',\n",
    "       'HAGELIN', 'MCREYNOLDS', 'HARRIS', 'DODGE', 'NOTA', 'MOOREHEAD',\n",
    "       'BROWN', 'VENSON', 'YOUNGKEIT', 'LANE', 'PERCENT_DEM', 'PERCENT_REP',\n",
    "       'PERCENT_NADER', 'PERCENT_OTHER']]"
   ]
  },
  {
   "cell_type": "code",
   "execution_count": 31,
   "metadata": {
    "collapsed": false
   },
   "outputs": [
    {
     "name": "stdout",
     "output_type": "stream",
     "text": [
      "shape (num_rows,num_cols)  (3108, 28)\n"
     ]
    },
    {
     "data": {
      "text/html": [
       "<div>\n",
       "<table border=\"1\" class=\"dataframe\">\n",
       "  <thead>\n",
       "    <tr style=\"text-align: right;\">\n",
       "      <th></th>\n",
       "      <th>YEAR</th>\n",
       "      <th>FIPS</th>\n",
       "      <th>STATE_FIPS</th>\n",
       "      <th>STATE_ABBR</th>\n",
       "      <th>COUNTY_NAME</th>\n",
       "      <th>OFFICE</th>\n",
       "      <th>LEVEL</th>\n",
       "      <th>VOTES_DEM</th>\n",
       "      <th>VOTES_REP</th>\n",
       "      <th>NADER</th>\n",
       "      <th>...</th>\n",
       "      <th>NOTA</th>\n",
       "      <th>MOOREHEAD</th>\n",
       "      <th>BROWN</th>\n",
       "      <th>VENSON</th>\n",
       "      <th>YOUNGKEIT</th>\n",
       "      <th>LANE</th>\n",
       "      <th>PERCENT_DEM</th>\n",
       "      <th>PERCENT_REP</th>\n",
       "      <th>PERCENT_NADER</th>\n",
       "      <th>PERCENT_OTHER</th>\n",
       "    </tr>\n",
       "  </thead>\n",
       "  <tbody>\n",
       "    <tr>\n",
       "      <th>0</th>\n",
       "      <td>2000</td>\n",
       "      <td>01001</td>\n",
       "      <td>01</td>\n",
       "      <td>AL</td>\n",
       "      <td>Autauga</td>\n",
       "      <td>president</td>\n",
       "      <td>federal</td>\n",
       "      <td>4942</td>\n",
       "      <td>11993</td>\n",
       "      <td>160</td>\n",
       "      <td>...</td>\n",
       "      <td>0</td>\n",
       "      <td>0</td>\n",
       "      <td>0</td>\n",
       "      <td>0</td>\n",
       "      <td>0</td>\n",
       "      <td>0</td>\n",
       "      <td>28.7</td>\n",
       "      <td>69.7</td>\n",
       "      <td>0.9</td>\n",
       "      <td>0.7</td>\n",
       "    </tr>\n",
       "    <tr>\n",
       "      <th>1</th>\n",
       "      <td>2000</td>\n",
       "      <td>01003</td>\n",
       "      <td>01</td>\n",
       "      <td>AL</td>\n",
       "      <td>Baldwin</td>\n",
       "      <td>president</td>\n",
       "      <td>federal</td>\n",
       "      <td>13997</td>\n",
       "      <td>40872</td>\n",
       "      <td>1033</td>\n",
       "      <td>...</td>\n",
       "      <td>0</td>\n",
       "      <td>0</td>\n",
       "      <td>0</td>\n",
       "      <td>0</td>\n",
       "      <td>0</td>\n",
       "      <td>0</td>\n",
       "      <td>24.8</td>\n",
       "      <td>72.4</td>\n",
       "      <td>1.8</td>\n",
       "      <td>1.0</td>\n",
       "    </tr>\n",
       "    <tr>\n",
       "      <th>2</th>\n",
       "      <td>2000</td>\n",
       "      <td>01005</td>\n",
       "      <td>01</td>\n",
       "      <td>AL</td>\n",
       "      <td>Barbour</td>\n",
       "      <td>president</td>\n",
       "      <td>federal</td>\n",
       "      <td>5188</td>\n",
       "      <td>5096</td>\n",
       "      <td>46</td>\n",
       "      <td>...</td>\n",
       "      <td>0</td>\n",
       "      <td>0</td>\n",
       "      <td>0</td>\n",
       "      <td>0</td>\n",
       "      <td>0</td>\n",
       "      <td>0</td>\n",
       "      <td>49.0</td>\n",
       "      <td>49.9</td>\n",
       "      <td>0.4</td>\n",
       "      <td>0.6</td>\n",
       "    </tr>\n",
       "  </tbody>\n",
       "</table>\n",
       "<p>3 rows × 28 columns</p>\n",
       "</div>"
      ],
      "text/plain": [
       "   YEAR   FIPS STATE_FIPS STATE_ABBR COUNTY_NAME     OFFICE    LEVEL  \\\n",
       "0  2000  01001         01         AL     Autauga  president  federal   \n",
       "1  2000  01003         01         AL     Baldwin  president  federal   \n",
       "2  2000  01005         01         AL     Barbour  president  federal   \n",
       "\n",
       "   VOTES_DEM  VOTES_REP  NADER      ...        NOTA  MOOREHEAD  BROWN  VENSON  \\\n",
       "0       4942      11993    160      ...           0          0      0       0   \n",
       "1      13997      40872   1033      ...           0          0      0       0   \n",
       "2       5188       5096     46      ...           0          0      0       0   \n",
       "\n",
       "   YOUNGKEIT  LANE  PERCENT_DEM  PERCENT_REP PERCENT_NADER  PERCENT_OTHER  \n",
       "0          0     0         28.7         69.7           0.9            0.7  \n",
       "1          0     0         24.8         72.4           1.8            1.0  \n",
       "2          0     0         49.0         49.9           0.4            0.6  \n",
       "\n",
       "[3 rows x 28 columns]"
      ]
     },
     "execution_count": 31,
     "metadata": {},
     "output_type": "execute_result"
    }
   ],
   "source": [
    "print('shape (num_rows,num_cols) ', y2k_df.shape)\n",
    "y2k_df.head(3)"
   ]
  },
  {
   "cell_type": "markdown",
   "metadata": {},
   "source": [
    "## Output csv file to output directory\n",
    "Work in progress\n",
    "\n",
    "Year 2000 does not have FIPS codes and is not in the same format"
   ]
  },
  {
   "cell_type": "code",
   "execution_count": 32,
   "metadata": {
    "collapsed": true
   },
   "outputs": [],
   "source": [
    "filename_out = '../output/2000_pres_election_by_county.csv'\n",
    "y2k_df.to_csv(filename_out,\n",
    "              index=False)"
   ]
  },
  {
   "cell_type": "code",
   "execution_count": null,
   "metadata": {
    "collapsed": true
   },
   "outputs": [],
   "source": []
  }
 ],
 "metadata": {
  "kernelspec": {
   "display_name": "Python [default]",
   "language": "python",
   "name": "python3"
  },
  "language_info": {
   "codemirror_mode": {
    "name": "ipython",
    "version": 3
   },
   "file_extension": ".py",
   "mimetype": "text/x-python",
   "name": "python",
   "nbconvert_exporter": "python",
   "pygments_lexer": "ipython3",
   "version": "3.5.2"
  }
 },
 "nbformat": 4,
 "nbformat_minor": 1
}
