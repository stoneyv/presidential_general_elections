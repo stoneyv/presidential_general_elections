{
 "cells": [
  {
   "cell_type": "markdown",
   "metadata": {},
   "source": [
    "## Transform\n",
    "## tonmcg 2016 Presidential Election Results by County\n",
    "### Tony McGovern\n",
    "source: https://github.com/tonmcg/County_Level_Election_Results_12-16\n",
    "### TownHall.com\n",
    "source: http://townhall.com/election/2016/president/"
   ]
  },
  {
   "cell_type": "code",
   "execution_count": 1,
   "metadata": {
    "collapsed": false
   },
   "outputs": [
    {
     "name": "stdout",
     "output_type": "stream",
     "text": [
      "python version  3.5.2\n",
      "numpy version  1.10.4\n",
      "pandas version  0.18.1\n"
     ]
    }
   ],
   "source": [
    "import pandas as pd\n",
    "import numpy as np\n",
    "import sys\n",
    "\n",
    "version = \".\".join(map(str, sys.version_info[:3]))\n",
    "print('python version ', version)\n",
    "print('numpy version ', np.__version__)\n",
    "print('pandas version ',pd.__version__)"
   ]
  },
  {
   "cell_type": "code",
   "execution_count": 2,
   "metadata": {
    "collapsed": false
   },
   "outputs": [
    {
     "name": "stdout",
     "output_type": "stream",
     "text": [
      "US_County_Level_Presidential_Results_12-16.csv\r\n"
     ]
    }
   ],
   "source": [
    "ls ../data/tonmcg/"
   ]
  },
  {
   "cell_type": "code",
   "execution_count": 3,
   "metadata": {
    "collapsed": false
   },
   "outputs": [
    {
     "name": "stdout",
     "output_type": "stream",
     "text": [
      "shape (num_rows, num_cols)  (3141, 9)\n"
     ]
    },
    {
     "data": {
      "text/html": [
       "<div>\n",
       "<table border=\"1\" class=\"dataframe\">\n",
       "  <thead>\n",
       "    <tr style=\"text-align: right;\">\n",
       "      <th></th>\n",
       "      <th>combined_fips</th>\n",
       "      <th>votes_dem_2016</th>\n",
       "      <th>votes_gop_2016</th>\n",
       "      <th>total_votes_2016</th>\n",
       "      <th>per_dem_2016</th>\n",
       "      <th>per_gop_2016</th>\n",
       "      <th>state_abbr</th>\n",
       "      <th>county_name</th>\n",
       "      <th>state_fips</th>\n",
       "    </tr>\n",
       "  </thead>\n",
       "  <tbody>\n",
       "    <tr>\n",
       "      <th>0</th>\n",
       "      <td>2013</td>\n",
       "      <td>93003.0</td>\n",
       "      <td>130413.0</td>\n",
       "      <td>246588.0</td>\n",
       "      <td>0.377159</td>\n",
       "      <td>0.52887</td>\n",
       "      <td>AK</td>\n",
       "      <td>Alaska</td>\n",
       "      <td>NaN</td>\n",
       "    </tr>\n",
       "    <tr>\n",
       "      <th>1</th>\n",
       "      <td>2016</td>\n",
       "      <td>93003.0</td>\n",
       "      <td>130413.0</td>\n",
       "      <td>246588.0</td>\n",
       "      <td>0.377159</td>\n",
       "      <td>0.52887</td>\n",
       "      <td>AK</td>\n",
       "      <td>Alaska</td>\n",
       "      <td>NaN</td>\n",
       "    </tr>\n",
       "    <tr>\n",
       "      <th>2</th>\n",
       "      <td>2020</td>\n",
       "      <td>93003.0</td>\n",
       "      <td>130413.0</td>\n",
       "      <td>246588.0</td>\n",
       "      <td>0.377159</td>\n",
       "      <td>0.52887</td>\n",
       "      <td>AK</td>\n",
       "      <td>Alaska</td>\n",
       "      <td>NaN</td>\n",
       "    </tr>\n",
       "  </tbody>\n",
       "</table>\n",
       "</div>"
      ],
      "text/plain": [
       "   combined_fips  votes_dem_2016  votes_gop_2016  total_votes_2016  \\\n",
       "0           2013         93003.0        130413.0          246588.0   \n",
       "1           2016         93003.0        130413.0          246588.0   \n",
       "2           2020         93003.0        130413.0          246588.0   \n",
       "\n",
       "   per_dem_2016  per_gop_2016 state_abbr county_name  state_fips  \n",
       "0      0.377159       0.52887         AK      Alaska         NaN  \n",
       "1      0.377159       0.52887         AK      Alaska         NaN  \n",
       "2      0.377159       0.52887         AK      Alaska         NaN  "
      ]
     },
     "execution_count": 3,
     "metadata": {},
     "output_type": "execute_result"
    }
   ],
   "source": [
    "filename = '../data/tonmcg/US_County_Level_Presidential_Results_12-16.csv'\n",
    "cols_subset = ['combined_fips','state_fips','state_abbr','county_name',\n",
    "               'votes_dem_2016','votes_gop_2016',\n",
    "               'per_dem_2016','per_gop_2016',\n",
    "               'total_votes_2016']\n",
    "tonmcg_16_df = pd.read_csv(filename,\n",
    "                           usecols=cols_subset)\n",
    "print('shape (num_rows, num_cols) ',tonmcg_16_df.shape)\n",
    "tonmcg_16_df.head(3)"
   ]
  },
  {
   "cell_type": "code",
   "execution_count": 4,
   "metadata": {
    "collapsed": true
   },
   "outputs": [],
   "source": [
    "# Generate columns with the attributes\n",
    "# year {2016,2012,2008,2004,2000, ...}\n",
    "# office {'president', 'senator', 'representative', ...}\n",
    "# level  {'federal','state','county', ...}\n",
    "num_rows = tonmcg_16_df.shape[0]\n",
    "year_list = [2016] * num_rows\n",
    "office_list = ['president'] * num_rows \n",
    "level_list = ['federal'] * num_rows\n",
    "tonmcg_16_df['YEAR'] = year_list\n",
    "tonmcg_16_df['OFFICE'] = office_list\n",
    "tonmcg_16_df['LEVEL'] = level_list"
   ]
  },
  {
   "cell_type": "code",
   "execution_count": 5,
   "metadata": {
    "collapsed": true
   },
   "outputs": [],
   "source": [
    "# Re order the columns\n",
    "tonmcg_16_df = tonmcg_16_df[['YEAR',\n",
    "                             'combined_fips',\n",
    "                             'state_fips',\n",
    "                             'state_abbr',\n",
    "                             'county_name',\n",
    "                             'OFFICE',\n",
    "                             'LEVEL',\n",
    "                             'votes_dem_2016',\n",
    "                             'votes_gop_2016',\n",
    "                             'per_dem_2016',\n",
    "                             'per_gop_2016',\n",
    "                             'total_votes_2016']]"
   ]
  },
  {
   "cell_type": "code",
   "execution_count": 6,
   "metadata": {
    "collapsed": true
   },
   "outputs": [],
   "source": [
    "# Rename the column labels\n",
    "tonmcg_16_df.columns = ['YEAR','FIPS','STATE_FIPS',\n",
    "                        'STATE_ABBR','COUNTY_NAME',\n",
    "                        'OFFICE','LEVEL',\n",
    "                        'VOTES_DEM','VOTES_REP',\n",
    "                        'PERCENT_DEM','PERCENT_REP',\n",
    "                        'TOTAL_VOTES']"
   ]
  },
  {
   "cell_type": "code",
   "execution_count": 7,
   "metadata": {
    "collapsed": false
   },
   "outputs": [
    {
     "data": {
      "text/html": [
       "<div>\n",
       "<table border=\"1\" class=\"dataframe\">\n",
       "  <thead>\n",
       "    <tr style=\"text-align: right;\">\n",
       "      <th></th>\n",
       "      <th>data type</th>\n",
       "      <th>number of null values</th>\n",
       "    </tr>\n",
       "  </thead>\n",
       "  <tbody>\n",
       "    <tr>\n",
       "      <th>YEAR</th>\n",
       "      <td>int64</td>\n",
       "      <td>0</td>\n",
       "    </tr>\n",
       "    <tr>\n",
       "      <th>FIPS</th>\n",
       "      <td>int64</td>\n",
       "      <td>0</td>\n",
       "    </tr>\n",
       "    <tr>\n",
       "      <th>STATE_FIPS</th>\n",
       "      <td>float64</td>\n",
       "      <td>29</td>\n",
       "    </tr>\n",
       "    <tr>\n",
       "      <th>STATE_ABBR</th>\n",
       "      <td>object</td>\n",
       "      <td>0</td>\n",
       "    </tr>\n",
       "    <tr>\n",
       "      <th>COUNTY_NAME</th>\n",
       "      <td>object</td>\n",
       "      <td>0</td>\n",
       "    </tr>\n",
       "    <tr>\n",
       "      <th>OFFICE</th>\n",
       "      <td>object</td>\n",
       "      <td>0</td>\n",
       "    </tr>\n",
       "    <tr>\n",
       "      <th>LEVEL</th>\n",
       "      <td>object</td>\n",
       "      <td>0</td>\n",
       "    </tr>\n",
       "    <tr>\n",
       "      <th>VOTES_DEM</th>\n",
       "      <td>float64</td>\n",
       "      <td>0</td>\n",
       "    </tr>\n",
       "    <tr>\n",
       "      <th>VOTES_REP</th>\n",
       "      <td>float64</td>\n",
       "      <td>0</td>\n",
       "    </tr>\n",
       "    <tr>\n",
       "      <th>PERCENT_DEM</th>\n",
       "      <td>float64</td>\n",
       "      <td>0</td>\n",
       "    </tr>\n",
       "    <tr>\n",
       "      <th>PERCENT_REP</th>\n",
       "      <td>float64</td>\n",
       "      <td>0</td>\n",
       "    </tr>\n",
       "    <tr>\n",
       "      <th>TOTAL_VOTES</th>\n",
       "      <td>float64</td>\n",
       "      <td>0</td>\n",
       "    </tr>\n",
       "  </tbody>\n",
       "</table>\n",
       "</div>"
      ],
      "text/plain": [
       "            data type  number of null values\n",
       "YEAR            int64                      0\n",
       "FIPS            int64                      0\n",
       "STATE_FIPS    float64                     29\n",
       "STATE_ABBR     object                      0\n",
       "COUNTY_NAME    object                      0\n",
       "OFFICE         object                      0\n",
       "LEVEL          object                      0\n",
       "VOTES_DEM     float64                      0\n",
       "VOTES_REP     float64                      0\n",
       "PERCENT_DEM   float64                      0\n",
       "PERCENT_REP   float64                      0\n",
       "TOTAL_VOTES   float64                      0"
      ]
     },
     "execution_count": 7,
     "metadata": {},
     "output_type": "execute_result"
    }
   ],
   "source": [
    "# Number of null values and data types per column\n",
    "# You can use DataFrame.info() as well\n",
    "null_df = pd.DataFrame({'number of null values': tonmcg_16_df.isnull().sum(),\n",
    "                        'data type' : tonmcg_16_df.dtypes })\n",
    "null_df"
   ]
  },
  {
   "cell_type": "code",
   "execution_count": 8,
   "metadata": {
    "collapsed": true
   },
   "outputs": [],
   "source": [
    "## Round percentage of votes to one place\n",
    "round_percentage = lambda x: round(float(x),1)\n",
    "tonmcg_16_df['PERCENT_DEM'] = tonmcg_16_df['PERCENT_DEM'].apply(round_percentage)\n",
    "tonmcg_16_df['PERCENT_REP'] = tonmcg_16_df['PERCENT_REP'].apply(round_percentage)"
   ]
  },
  {
   "cell_type": "code",
   "execution_count": 9,
   "metadata": {
    "collapsed": false
   },
   "outputs": [],
   "source": [
    "# Convert votes from floats to integers\n",
    "# If you need a float for calculations you can cast it to a float\n",
    "tonmcg_16_df['STATE_FIPS'] = tonmcg_16_df.STATE_FIPS.astype('str')\n",
    "tonmcg_16_df['VOTES_DEM'] = tonmcg_16_df.VOTES_DEM.astype('int')\n",
    "tonmcg_16_df['VOTES_REP'] = tonmcg_16_df.VOTES_REP.astype('int')\n",
    "tonmcg_16_df['TOTAL_VOTES'] = tonmcg_16_df.TOTAL_VOTES.astype('int')"
   ]
  },
  {
   "cell_type": "code",
   "execution_count": 10,
   "metadata": {
    "collapsed": false
   },
   "outputs": [
    {
     "name": "stdout",
     "output_type": "stream",
     "text": [
      "shape (num_rows,num_cols)  (3141, 12)\n"
     ]
    },
    {
     "data": {
      "text/html": [
       "<div>\n",
       "<table border=\"1\" class=\"dataframe\">\n",
       "  <thead>\n",
       "    <tr style=\"text-align: right;\">\n",
       "      <th></th>\n",
       "      <th>YEAR</th>\n",
       "      <th>FIPS</th>\n",
       "      <th>STATE_FIPS</th>\n",
       "      <th>STATE_ABBR</th>\n",
       "      <th>COUNTY_NAME</th>\n",
       "      <th>OFFICE</th>\n",
       "      <th>LEVEL</th>\n",
       "      <th>VOTES_DEM</th>\n",
       "      <th>VOTES_REP</th>\n",
       "      <th>PERCENT_DEM</th>\n",
       "      <th>PERCENT_REP</th>\n",
       "      <th>TOTAL_VOTES</th>\n",
       "    </tr>\n",
       "  </thead>\n",
       "  <tbody>\n",
       "    <tr>\n",
       "      <th>0</th>\n",
       "      <td>2016</td>\n",
       "      <td>2013</td>\n",
       "      <td>nan</td>\n",
       "      <td>AK</td>\n",
       "      <td>Alaska</td>\n",
       "      <td>president</td>\n",
       "      <td>federal</td>\n",
       "      <td>93003</td>\n",
       "      <td>130413</td>\n",
       "      <td>0.4</td>\n",
       "      <td>0.5</td>\n",
       "      <td>246588</td>\n",
       "    </tr>\n",
       "    <tr>\n",
       "      <th>1</th>\n",
       "      <td>2016</td>\n",
       "      <td>2016</td>\n",
       "      <td>nan</td>\n",
       "      <td>AK</td>\n",
       "      <td>Alaska</td>\n",
       "      <td>president</td>\n",
       "      <td>federal</td>\n",
       "      <td>93003</td>\n",
       "      <td>130413</td>\n",
       "      <td>0.4</td>\n",
       "      <td>0.5</td>\n",
       "      <td>246588</td>\n",
       "    </tr>\n",
       "    <tr>\n",
       "      <th>2</th>\n",
       "      <td>2016</td>\n",
       "      <td>2020</td>\n",
       "      <td>nan</td>\n",
       "      <td>AK</td>\n",
       "      <td>Alaska</td>\n",
       "      <td>president</td>\n",
       "      <td>federal</td>\n",
       "      <td>93003</td>\n",
       "      <td>130413</td>\n",
       "      <td>0.4</td>\n",
       "      <td>0.5</td>\n",
       "      <td>246588</td>\n",
       "    </tr>\n",
       "  </tbody>\n",
       "</table>\n",
       "</div>"
      ],
      "text/plain": [
       "   YEAR  FIPS STATE_FIPS STATE_ABBR COUNTY_NAME     OFFICE    LEVEL  \\\n",
       "0  2016  2013        nan         AK      Alaska  president  federal   \n",
       "1  2016  2016        nan         AK      Alaska  president  federal   \n",
       "2  2016  2020        nan         AK      Alaska  president  federal   \n",
       "\n",
       "   VOTES_DEM  VOTES_REP  PERCENT_DEM  PERCENT_REP  TOTAL_VOTES  \n",
       "0      93003     130413          0.4          0.5       246588  \n",
       "1      93003     130413          0.4          0.5       246588  \n",
       "2      93003     130413          0.4          0.5       246588  "
      ]
     },
     "execution_count": 10,
     "metadata": {},
     "output_type": "execute_result"
    }
   ],
   "source": [
    "print('shape (num_rows,num_cols) ', tonmcg_16_df.shape)\n",
    "tonmcg_16_df.head(3)"
   ]
  },
  {
   "cell_type": "code",
   "execution_count": 11,
   "metadata": {
    "collapsed": false
   },
   "outputs": [
    {
     "name": "stdout",
     "output_type": "stream",
     "text": [
      "shape (num_rows, num_cols)  (3235, 5)\n"
     ]
    },
    {
     "data": {
      "text/html": [
       "<div>\n",
       "<table border=\"1\" class=\"dataframe\">\n",
       "  <thead>\n",
       "    <tr style=\"text-align: right;\">\n",
       "      <th></th>\n",
       "      <th>STATE_ABBR</th>\n",
       "      <th>STATE_FIPS</th>\n",
       "      <th>COUNTY_FIPS</th>\n",
       "      <th>COUNTY_NAME</th>\n",
       "      <th>FIPS_CLASS</th>\n",
       "    </tr>\n",
       "  </thead>\n",
       "  <tbody>\n",
       "    <tr>\n",
       "      <th>0</th>\n",
       "      <td>AL</td>\n",
       "      <td>01</td>\n",
       "      <td>001</td>\n",
       "      <td>Autauga County</td>\n",
       "      <td>H1</td>\n",
       "    </tr>\n",
       "    <tr>\n",
       "      <th>1</th>\n",
       "      <td>AL</td>\n",
       "      <td>01</td>\n",
       "      <td>003</td>\n",
       "      <td>Baldwin County</td>\n",
       "      <td>H1</td>\n",
       "    </tr>\n",
       "    <tr>\n",
       "      <th>2</th>\n",
       "      <td>AL</td>\n",
       "      <td>01</td>\n",
       "      <td>005</td>\n",
       "      <td>Barbour County</td>\n",
       "      <td>H1</td>\n",
       "    </tr>\n",
       "    <tr>\n",
       "      <th>3</th>\n",
       "      <td>AL</td>\n",
       "      <td>01</td>\n",
       "      <td>007</td>\n",
       "      <td>Bibb County</td>\n",
       "      <td>H1</td>\n",
       "    </tr>\n",
       "    <tr>\n",
       "      <th>4</th>\n",
       "      <td>AL</td>\n",
       "      <td>01</td>\n",
       "      <td>009</td>\n",
       "      <td>Blount County</td>\n",
       "      <td>H1</td>\n",
       "    </tr>\n",
       "  </tbody>\n",
       "</table>\n",
       "</div>"
      ],
      "text/plain": [
       "  STATE_ABBR STATE_FIPS COUNTY_FIPS     COUNTY_NAME FIPS_CLASS\n",
       "0         AL         01         001  Autauga County         H1\n",
       "1         AL         01         003  Baldwin County         H1\n",
       "2         AL         01         005  Barbour County         H1\n",
       "3         AL         01         007     Bibb County         H1\n",
       "4         AL         01         009   Blount County         H1"
      ]
     },
     "execution_count": 11,
     "metadata": {},
     "output_type": "execute_result"
    }
   ],
   "source": [
    "## 2010 FIPS codes for states and counties from Census Bureau\n",
    "## https://www.census.gov/geo/reference/codes/cou.html\n",
    "## List of changes 1970,1980,1990,2000,2010\n",
    "## https://www.census.gov/geo/reference/county-changes.html\n",
    "## TODO: modify this for 2000\n",
    "filename_fips = '../data/census/national_county.txt'\n",
    "cols = ['STATE_ABBR','STATE_FIPS','COUNTY_FIPS','COUNTY_NAME','FIPS_CLASS']\n",
    "fips_df = pd.read_csv(filename_fips,\n",
    "                      header=None,\n",
    "                      names=cols,\n",
    "                      dtype={'STATE_ABBR':str,\n",
    "                             'STATE_FIPS':str,\n",
    "                             'COUNTY_FIPS':str,\n",
    "                             'COUNTY_NAME':str,\n",
    "                             'FIPS_CLASS':str})\n",
    "print('shape (num_rows, num_cols) ' ,fips_df.shape)\n",
    "fips_df.head(5)"
   ]
  },
  {
   "cell_type": "code",
   "execution_count": 12,
   "metadata": {
    "collapsed": false
   },
   "outputs": [],
   "source": [
    "# Create a dictionary of state abbreviations to state fips codes\n",
    "state_abbr = fips_df.STATE_ABBR.unique()\n",
    "state_fips = fips_df.STATE_FIPS.unique()\n",
    "state2state_fips_d = dict(zip(state_abbr,state_fips))"
   ]
  },
  {
   "cell_type": "code",
   "execution_count": 13,
   "metadata": {
    "collapsed": false
   },
   "outputs": [],
   "source": [
    "# Resolve missing STATE_FIPS encodings for AK/Alaska entries\n",
    "tonmcg_16_df['STATE_FIPS'] = [state2state_fips_d[s] \n",
    "                              for s in tonmcg_16_df['STATE_ABBR']]"
   ]
  },
  {
   "cell_type": "code",
   "execution_count": 14,
   "metadata": {
    "collapsed": false
   },
   "outputs": [
    {
     "name": "stdout",
     "output_type": "stream",
     "text": [
      "shape (num_rows,num_cols)  (3141, 12)\n"
     ]
    },
    {
     "data": {
      "text/html": [
       "<div>\n",
       "<table border=\"1\" class=\"dataframe\">\n",
       "  <thead>\n",
       "    <tr style=\"text-align: right;\">\n",
       "      <th></th>\n",
       "      <th>YEAR</th>\n",
       "      <th>FIPS</th>\n",
       "      <th>STATE_FIPS</th>\n",
       "      <th>STATE_ABBR</th>\n",
       "      <th>COUNTY_NAME</th>\n",
       "      <th>OFFICE</th>\n",
       "      <th>LEVEL</th>\n",
       "      <th>VOTES_DEM</th>\n",
       "      <th>VOTES_REP</th>\n",
       "      <th>PERCENT_DEM</th>\n",
       "      <th>PERCENT_REP</th>\n",
       "      <th>TOTAL_VOTES</th>\n",
       "    </tr>\n",
       "  </thead>\n",
       "  <tbody>\n",
       "    <tr>\n",
       "      <th>0</th>\n",
       "      <td>2016</td>\n",
       "      <td>2013</td>\n",
       "      <td>02</td>\n",
       "      <td>AK</td>\n",
       "      <td>Alaska</td>\n",
       "      <td>president</td>\n",
       "      <td>federal</td>\n",
       "      <td>93003</td>\n",
       "      <td>130413</td>\n",
       "      <td>0.4</td>\n",
       "      <td>0.5</td>\n",
       "      <td>246588</td>\n",
       "    </tr>\n",
       "    <tr>\n",
       "      <th>1</th>\n",
       "      <td>2016</td>\n",
       "      <td>2016</td>\n",
       "      <td>02</td>\n",
       "      <td>AK</td>\n",
       "      <td>Alaska</td>\n",
       "      <td>president</td>\n",
       "      <td>federal</td>\n",
       "      <td>93003</td>\n",
       "      <td>130413</td>\n",
       "      <td>0.4</td>\n",
       "      <td>0.5</td>\n",
       "      <td>246588</td>\n",
       "    </tr>\n",
       "    <tr>\n",
       "      <th>2</th>\n",
       "      <td>2016</td>\n",
       "      <td>2020</td>\n",
       "      <td>02</td>\n",
       "      <td>AK</td>\n",
       "      <td>Alaska</td>\n",
       "      <td>president</td>\n",
       "      <td>federal</td>\n",
       "      <td>93003</td>\n",
       "      <td>130413</td>\n",
       "      <td>0.4</td>\n",
       "      <td>0.5</td>\n",
       "      <td>246588</td>\n",
       "    </tr>\n",
       "  </tbody>\n",
       "</table>\n",
       "</div>"
      ],
      "text/plain": [
       "   YEAR  FIPS STATE_FIPS STATE_ABBR COUNTY_NAME     OFFICE    LEVEL  \\\n",
       "0  2016  2013         02         AK      Alaska  president  federal   \n",
       "1  2016  2016         02         AK      Alaska  president  federal   \n",
       "2  2016  2020         02         AK      Alaska  president  federal   \n",
       "\n",
       "   VOTES_DEM  VOTES_REP  PERCENT_DEM  PERCENT_REP  TOTAL_VOTES  \n",
       "0      93003     130413          0.4          0.5       246588  \n",
       "1      93003     130413          0.4          0.5       246588  \n",
       "2      93003     130413          0.4          0.5       246588  "
      ]
     },
     "execution_count": 14,
     "metadata": {},
     "output_type": "execute_result"
    }
   ],
   "source": [
    "print('shape (num_rows,num_cols) ', tonmcg_16_df.shape)\n",
    "tonmcg_16_df.head(3)"
   ]
  },
  {
   "cell_type": "markdown",
   "metadata": {},
   "source": [
    "## Output transformed csv file to output directory\n",
    "Work in progress"
   ]
  },
  {
   "cell_type": "code",
   "execution_count": 15,
   "metadata": {
    "collapsed": true
   },
   "outputs": [],
   "source": [
    "filename_out = '../output/2016_pres_election_by_county.csv'\n",
    "tonmcg_16_df.to_csv(filename_out,\n",
    "                    index=False)"
   ]
  },
  {
   "cell_type": "code",
   "execution_count": null,
   "metadata": {
    "collapsed": true
   },
   "outputs": [],
   "source": []
  }
 ],
 "metadata": {
  "kernelspec": {
   "display_name": "Python [default]",
   "language": "python",
   "name": "python3"
  },
  "language_info": {
   "codemirror_mode": {
    "name": "ipython",
    "version": 3
   },
   "file_extension": ".py",
   "mimetype": "text/x-python",
   "name": "python",
   "nbconvert_exporter": "python",
   "pygments_lexer": "ipython3",
   "version": "3.5.2"
  }
 },
 "nbformat": 4,
 "nbformat_minor": 1
}
