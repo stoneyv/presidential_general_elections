{
 "cells": [
  {
   "cell_type": "markdown",
   "metadata": {},
   "source": [
    "## Transform\n",
    "## USGS 2012 Presidential Election Results by County\n",
    "\n",
    "source:  https://catalog.data.gov/dataset/presidential-general-election-results-2012-direct-download"
   ]
  },
  {
   "cell_type": "code",
   "execution_count": 33,
   "metadata": {
    "collapsed": false
   },
   "outputs": [
    {
     "name": "stdout",
     "output_type": "stream",
     "text": [
      "python version  3.5.2\n",
      "numpy version  1.10.4\n",
      "pandas version  0.18.1\n"
     ]
    }
   ],
   "source": [
    "import pandas as pd\n",
    "import numpy as np\n",
    "import sys\n",
    "\n",
    "version = \".\".join(map(str, sys.version_info[:3]))\n",
    "print('python version ', version)\n",
    "print('numpy version ', np.__version__)\n",
    "print('pandas version ',pd.__version__)"
   ]
  },
  {
   "cell_type": "code",
   "execution_count": 9,
   "metadata": {
    "collapsed": false
   },
   "outputs": [
    {
     "name": "stdout",
     "output_type": "stream",
     "text": [
      "\u001b[0m\u001b[01;32melpo12p010g.dbf\u001b[0m*  \u001b[01;32melpo12p010g.sbn\u001b[0m*  \u001b[01;32melpo12p010g.shp\u001b[0m*  \u001b[01;32melpo12p010g.txt\u001b[0m*\r\n",
      "\u001b[01;32melpo12p010g.prj\u001b[0m*  \u001b[01;32melpo12p010g.sbx\u001b[0m*  \u001b[01;32melpo12p010g.shx\u001b[0m*  \u001b[01;32melpo12p010g.xml\u001b[0m*\r\n"
     ]
    }
   ],
   "source": [
    "ls ../data/usgs/elpo12p010g_nt00887/"
   ]
  },
  {
   "cell_type": "code",
   "execution_count": 10,
   "metadata": {
    "collapsed": false
   },
   "outputs": [],
   "source": [
    "filename_usgs_12 = '../data/usgs/elpo12p010g_nt00887/elpo12p010g.dbf'"
   ]
  },
  {
   "cell_type": "code",
   "execution_count": 11,
   "metadata": {
    "collapsed": false
   },
   "outputs": [
    {
     "data": {
      "text/plain": [
       "(3153, 14)"
      ]
     },
     "execution_count": 11,
     "metadata": {},
     "output_type": "execute_result"
    }
   ],
   "source": [
    "## Load .dbf file and create pandas DataFrame\n",
    "db = ps.open(filename_usgs_12)\n",
    "d = {col: db.by_col(col) for col in db.header}\n",
    "usgs_12_df = pd.DataFrame(d)\n",
    "db.close()\n",
    "usgs_12_df.shape"
   ]
  },
  {
   "cell_type": "code",
   "execution_count": 12,
   "metadata": {
    "collapsed": false,
    "scrolled": true
   },
   "outputs": [
    {
     "data": {
      "text/html": [
       "<div>\n",
       "<table border=\"1\" class=\"dataframe\">\n",
       "  <thead>\n",
       "    <tr style=\"text-align: right;\">\n",
       "      <th></th>\n",
       "      <th>COUNTY</th>\n",
       "      <th>FIPS</th>\n",
       "      <th>OBAMA</th>\n",
       "      <th>OTHERS</th>\n",
       "      <th>PCT_OBM</th>\n",
       "      <th>PCT_OTHR</th>\n",
       "      <th>PCT_ROM</th>\n",
       "      <th>PCT_WNR</th>\n",
       "      <th>ROMNEY</th>\n",
       "      <th>STATE</th>\n",
       "      <th>STATE_FIPS</th>\n",
       "      <th>TTL_VT</th>\n",
       "      <th>WINNER</th>\n",
       "      <th>group</th>\n",
       "    </tr>\n",
       "  </thead>\n",
       "  <tbody>\n",
       "    <tr>\n",
       "      <th>0</th>\n",
       "      <td>Autauga</td>\n",
       "      <td>01001</td>\n",
       "      <td>6363.0</td>\n",
       "      <td>231.0</td>\n",
       "      <td>26.542360</td>\n",
       "      <td>0.963584</td>\n",
       "      <td>72.494056</td>\n",
       "      <td>72.494056</td>\n",
       "      <td>17379.0</td>\n",
       "      <td>AL</td>\n",
       "      <td>01</td>\n",
       "      <td>23973.0</td>\n",
       "      <td>Romney</td>\n",
       "      <td>24</td>\n",
       "    </tr>\n",
       "    <tr>\n",
       "      <th>1</th>\n",
       "      <td>Barbour</td>\n",
       "      <td>01005</td>\n",
       "      <td>5912.0</td>\n",
       "      <td>55.0</td>\n",
       "      <td>51.332812</td>\n",
       "      <td>0.477555</td>\n",
       "      <td>48.189633</td>\n",
       "      <td>51.332812</td>\n",
       "      <td>5550.0</td>\n",
       "      <td>AL</td>\n",
       "      <td>01</td>\n",
       "      <td>11517.0</td>\n",
       "      <td>Obama</td>\n",
       "      <td>12</td>\n",
       "    </tr>\n",
       "    <tr>\n",
       "      <th>2</th>\n",
       "      <td>Bibb</td>\n",
       "      <td>01007</td>\n",
       "      <td>2202.0</td>\n",
       "      <td>86.0</td>\n",
       "      <td>26.152019</td>\n",
       "      <td>1.021378</td>\n",
       "      <td>72.826603</td>\n",
       "      <td>72.826603</td>\n",
       "      <td>6132.0</td>\n",
       "      <td>AL</td>\n",
       "      <td>01</td>\n",
       "      <td>8420.0</td>\n",
       "      <td>Romney</td>\n",
       "      <td>24</td>\n",
       "    </tr>\n",
       "  </tbody>\n",
       "</table>\n",
       "</div>"
      ],
      "text/plain": [
       "    COUNTY   FIPS   OBAMA  OTHERS    PCT_OBM  PCT_OTHR    PCT_ROM    PCT_WNR  \\\n",
       "0  Autauga  01001  6363.0   231.0  26.542360  0.963584  72.494056  72.494056   \n",
       "1  Barbour  01005  5912.0    55.0  51.332812  0.477555  48.189633  51.332812   \n",
       "2     Bibb  01007  2202.0    86.0  26.152019  1.021378  72.826603  72.826603   \n",
       "\n",
       "    ROMNEY STATE STATE_FIPS   TTL_VT  WINNER  group  \n",
       "0  17379.0    AL         01  23973.0  Romney     24  \n",
       "1   5550.0    AL         01  11517.0   Obama     12  \n",
       "2   6132.0    AL         01   8420.0  Romney     24  "
      ]
     },
     "execution_count": 12,
     "metadata": {},
     "output_type": "execute_result"
    }
   ],
   "source": [
    "usgs_12_df.head(3)"
   ]
  },
  {
   "cell_type": "code",
   "execution_count": 17,
   "metadata": {
    "collapsed": false
   },
   "outputs": [],
   "source": [
    "# Drop unwanted columns\n",
    "usgs_12_df.drop(labels=['group','PCT_WNR','WINNER'],\n",
    "                axis=1,\n",
    "                inplace=True)"
   ]
  },
  {
   "cell_type": "code",
   "execution_count": 18,
   "metadata": {
    "collapsed": false
   },
   "outputs": [
    {
     "name": "stdout",
     "output_type": "stream",
     "text": [
      "shape  (3153, 11)\n",
      "columns  Index(['COUNTY', 'FIPS', 'OBAMA', 'OTHERS', 'PCT_OBM', 'PCT_OTHR', 'PCT_ROM',\n",
      "       'ROMNEY', 'STATE', 'STATE_FIPS', 'TTL_VT'],\n",
      "      dtype='object')\n"
     ]
    }
   ],
   "source": [
    "print('shape ', usgs_12_df.shape)\n",
    "print('columns ', usgs_12_df.columns)"
   ]
  },
  {
   "cell_type": "code",
   "execution_count": 19,
   "metadata": {
    "collapsed": true
   },
   "outputs": [],
   "source": [
    "# Drop duplicate rows that are artifacts of multiple polygons per county\n",
    "# Keep the first row and discard the remaining duplicate rows\n",
    "usgs_12_df.drop_duplicates(keep='first',\n",
    "                           inplace=True)"
   ]
  },
  {
   "cell_type": "code",
   "execution_count": 20,
   "metadata": {
    "collapsed": false
   },
   "outputs": [
    {
     "name": "stdout",
     "output_type": "stream",
     "text": [
      "shape  (3153, 11)\n",
      "columns  Index(['COUNTY', 'FIPS', 'OBAMA', 'OTHERS', 'PCT_OBM', 'PCT_OTHR', 'PCT_ROM',\n",
      "       'ROMNEY', 'STATE', 'STATE_FIPS', 'TTL_VT'],\n",
      "      dtype='object')\n"
     ]
    },
    {
     "data": {
      "text/html": [
       "<div>\n",
       "<table border=\"1\" class=\"dataframe\">\n",
       "  <thead>\n",
       "    <tr style=\"text-align: right;\">\n",
       "      <th></th>\n",
       "      <th>COUNTY</th>\n",
       "      <th>FIPS</th>\n",
       "      <th>OBAMA</th>\n",
       "      <th>OTHERS</th>\n",
       "      <th>PCT_OBM</th>\n",
       "      <th>PCT_OTHR</th>\n",
       "      <th>PCT_ROM</th>\n",
       "      <th>ROMNEY</th>\n",
       "      <th>STATE</th>\n",
       "      <th>STATE_FIPS</th>\n",
       "      <th>TTL_VT</th>\n",
       "    </tr>\n",
       "  </thead>\n",
       "  <tbody>\n",
       "    <tr>\n",
       "      <th>0</th>\n",
       "      <td>Autauga</td>\n",
       "      <td>01001</td>\n",
       "      <td>6363.0</td>\n",
       "      <td>231.0</td>\n",
       "      <td>26.542360</td>\n",
       "      <td>0.963584</td>\n",
       "      <td>72.494056</td>\n",
       "      <td>17379.0</td>\n",
       "      <td>AL</td>\n",
       "      <td>01</td>\n",
       "      <td>23973.0</td>\n",
       "    </tr>\n",
       "    <tr>\n",
       "      <th>1</th>\n",
       "      <td>Barbour</td>\n",
       "      <td>01005</td>\n",
       "      <td>5912.0</td>\n",
       "      <td>55.0</td>\n",
       "      <td>51.332812</td>\n",
       "      <td>0.477555</td>\n",
       "      <td>48.189633</td>\n",
       "      <td>5550.0</td>\n",
       "      <td>AL</td>\n",
       "      <td>01</td>\n",
       "      <td>11517.0</td>\n",
       "    </tr>\n",
       "    <tr>\n",
       "      <th>2</th>\n",
       "      <td>Bibb</td>\n",
       "      <td>01007</td>\n",
       "      <td>2202.0</td>\n",
       "      <td>86.0</td>\n",
       "      <td>26.152019</td>\n",
       "      <td>1.021378</td>\n",
       "      <td>72.826603</td>\n",
       "      <td>6132.0</td>\n",
       "      <td>AL</td>\n",
       "      <td>01</td>\n",
       "      <td>8420.0</td>\n",
       "    </tr>\n",
       "  </tbody>\n",
       "</table>\n",
       "</div>"
      ],
      "text/plain": [
       "    COUNTY   FIPS   OBAMA  OTHERS    PCT_OBM  PCT_OTHR    PCT_ROM   ROMNEY  \\\n",
       "0  Autauga  01001  6363.0   231.0  26.542360  0.963584  72.494056  17379.0   \n",
       "1  Barbour  01005  5912.0    55.0  51.332812  0.477555  48.189633   5550.0   \n",
       "2     Bibb  01007  2202.0    86.0  26.152019  1.021378  72.826603   6132.0   \n",
       "\n",
       "  STATE STATE_FIPS   TTL_VT  \n",
       "0    AL         01  23973.0  \n",
       "1    AL         01  11517.0  \n",
       "2    AL         01   8420.0  "
      ]
     },
     "execution_count": 20,
     "metadata": {},
     "output_type": "execute_result"
    }
   ],
   "source": [
    "print('shape ', usgs_12_df.shape)\n",
    "print('columns ', usgs_12_df.columns)\n",
    "usgs_12_df.head(3)"
   ]
  },
  {
   "cell_type": "code",
   "execution_count": 21,
   "metadata": {
    "collapsed": true
   },
   "outputs": [],
   "source": [
    "# Generate columns with the attributes\n",
    "# year {2016,2012,2008,2004,2000, ...}\n",
    "# office {'president', 'senator', 'representative', ...}\n",
    "# level  {'federal','state','county', ...}\n",
    "num_rows = usgs_12_df.shape[0]\n",
    "year_list = [2012] * num_rows\n",
    "office_list = ['president'] * num_rows \n",
    "level_list = ['federal'] * num_rows\n",
    "usgs_12_df['YEAR'] = year_list\n",
    "usgs_12_df['OFFICE'] = office_list\n",
    "usgs_12_df['LEVEL'] = level_list"
   ]
  },
  {
   "cell_type": "code",
   "execution_count": 22,
   "metadata": {
    "collapsed": true
   },
   "outputs": [],
   "source": [
    "# Re order the columns\n",
    "usgs_12_df = usgs_12_df[['YEAR',\n",
    "                         'FIPS',\n",
    "                         'STATE_FIPS',\n",
    "                         'STATE',\n",
    "                         'COUNTY',\n",
    "                         'OFFICE',\n",
    "                         'LEVEL',\n",
    "                         'OBAMA',\n",
    "                         'ROMNEY',\n",
    "                         'OTHERS',\n",
    "                         'PCT_OBM',\n",
    "                         'PCT_ROM',\n",
    "                         'PCT_OTHR',\n",
    "                         'TTL_VT']]"
   ]
  },
  {
   "cell_type": "code",
   "execution_count": 25,
   "metadata": {
    "collapsed": true
   },
   "outputs": [],
   "source": [
    "# Rename the column labels\n",
    "usgs_12_df.columns = ['YEAR','FIPS','STATE_FIPS','STATE_ABBR','COUNTY_NAME',\n",
    "                      'OFFICE','LEVEL','VOTES_DEM','VOTES_REP','VOTES_OTHER',\n",
    "                      'PERCENT_DEM','PERCENT_REP','PERCENT_OTHER','TOTAL_VOTES']"
   ]
  },
  {
   "cell_type": "code",
   "execution_count": 30,
   "metadata": {
    "collapsed": true
   },
   "outputs": [],
   "source": [
    "## Round percentage of votes to one place\n",
    "round_percentage = lambda x: round(float(x),1)\n",
    "usgs_12_df['PERCENT_DEM'] = usgs_12_df['PERCENT_DEM'].apply(round_percentage)\n",
    "usgs_12_df['PERCENT_REP'] = usgs_12_df['PERCENT_REP'].apply(round_percentage)\n",
    "usgs_12_df['PERCENT_OTHER'] = usgs_12_df['PERCENT_OTHER'].apply(round_percentage)"
   ]
  },
  {
   "cell_type": "code",
   "execution_count": 34,
   "metadata": {
    "collapsed": true
   },
   "outputs": [],
   "source": [
    "# Convert votes from floats to integers\n",
    "# If you need a float for calculations you can cast it to a float\n",
    "usgs_12_df['VOTES_DEM'] = usgs_12_df.VOTES_DEM.astype('int')\n",
    "usgs_12_df['VOTES_REP'] = usgs_12_df.VOTES_REP.astype('int')\n",
    "usgs_12_df['VOTES_OTHER'] = usgs_12_df.VOTES_OTHER.astype('int')\n",
    "usgs_12_df['TOTAL_VOTES'] = usgs_12_df.TOTAL_VOTES.astype('int')"
   ]
  },
  {
   "cell_type": "code",
   "execution_count": 35,
   "metadata": {
    "collapsed": false
   },
   "outputs": [
    {
     "name": "stdout",
     "output_type": "stream",
     "text": [
      "shape (num_rows,num_cols)  (3153, 14)\n"
     ]
    },
    {
     "data": {
      "text/html": [
       "<div>\n",
       "<table border=\"1\" class=\"dataframe\">\n",
       "  <thead>\n",
       "    <tr style=\"text-align: right;\">\n",
       "      <th></th>\n",
       "      <th>YEAR</th>\n",
       "      <th>FIPS</th>\n",
       "      <th>STATE_FIPS</th>\n",
       "      <th>STATE_ABBR</th>\n",
       "      <th>COUNTY_NAME</th>\n",
       "      <th>OFFICE</th>\n",
       "      <th>LEVEL</th>\n",
       "      <th>VOTES_DEM</th>\n",
       "      <th>VOTES_REP</th>\n",
       "      <th>VOTES_OTHER</th>\n",
       "      <th>PERCENT_DEM</th>\n",
       "      <th>PERCENT_REP</th>\n",
       "      <th>PERCENT_OTHER</th>\n",
       "      <th>TOTAL_VOTES</th>\n",
       "    </tr>\n",
       "  </thead>\n",
       "  <tbody>\n",
       "    <tr>\n",
       "      <th>0</th>\n",
       "      <td>2012</td>\n",
       "      <td>01001</td>\n",
       "      <td>01</td>\n",
       "      <td>AL</td>\n",
       "      <td>Autauga</td>\n",
       "      <td>president</td>\n",
       "      <td>federal</td>\n",
       "      <td>6363</td>\n",
       "      <td>17379</td>\n",
       "      <td>231</td>\n",
       "      <td>26.5</td>\n",
       "      <td>72.5</td>\n",
       "      <td>1.0</td>\n",
       "      <td>23973</td>\n",
       "    </tr>\n",
       "    <tr>\n",
       "      <th>1</th>\n",
       "      <td>2012</td>\n",
       "      <td>01005</td>\n",
       "      <td>01</td>\n",
       "      <td>AL</td>\n",
       "      <td>Barbour</td>\n",
       "      <td>president</td>\n",
       "      <td>federal</td>\n",
       "      <td>5912</td>\n",
       "      <td>5550</td>\n",
       "      <td>55</td>\n",
       "      <td>51.3</td>\n",
       "      <td>48.2</td>\n",
       "      <td>0.5</td>\n",
       "      <td>11517</td>\n",
       "    </tr>\n",
       "    <tr>\n",
       "      <th>2</th>\n",
       "      <td>2012</td>\n",
       "      <td>01007</td>\n",
       "      <td>01</td>\n",
       "      <td>AL</td>\n",
       "      <td>Bibb</td>\n",
       "      <td>president</td>\n",
       "      <td>federal</td>\n",
       "      <td>2202</td>\n",
       "      <td>6132</td>\n",
       "      <td>86</td>\n",
       "      <td>26.2</td>\n",
       "      <td>72.8</td>\n",
       "      <td>1.0</td>\n",
       "      <td>8420</td>\n",
       "    </tr>\n",
       "  </tbody>\n",
       "</table>\n",
       "</div>"
      ],
      "text/plain": [
       "   YEAR   FIPS STATE_FIPS STATE_ABBR COUNTY_NAME     OFFICE    LEVEL  \\\n",
       "0  2012  01001         01         AL     Autauga  president  federal   \n",
       "1  2012  01005         01         AL     Barbour  president  federal   \n",
       "2  2012  01007         01         AL        Bibb  president  federal   \n",
       "\n",
       "   VOTES_DEM  VOTES_REP  VOTES_OTHER  PERCENT_DEM  PERCENT_REP  PERCENT_OTHER  \\\n",
       "0       6363      17379          231         26.5         72.5            1.0   \n",
       "1       5912       5550           55         51.3         48.2            0.5   \n",
       "2       2202       6132           86         26.2         72.8            1.0   \n",
       "\n",
       "   TOTAL_VOTES  \n",
       "0        23973  \n",
       "1        11517  \n",
       "2         8420  "
      ]
     },
     "execution_count": 35,
     "metadata": {},
     "output_type": "execute_result"
    }
   ],
   "source": [
    "print('shape (num_rows,num_cols) ', usgs_12_df.shape)\n",
    "usgs_12_df.head(3)"
   ]
  },
  {
   "cell_type": "markdown",
   "metadata": {},
   "source": [
    "## Output transformed csv file to output directory\n",
    "Work in progress"
   ]
  },
  {
   "cell_type": "code",
   "execution_count": 36,
   "metadata": {
    "collapsed": true
   },
   "outputs": [],
   "source": [
    "filename_out = '../output/2012_pres_election_by_county.csv'\n",
    "usgs_12_df.to_csv(filename_out,\n",
    "                  index=False)"
   ]
  },
  {
   "cell_type": "code",
   "execution_count": null,
   "metadata": {
    "collapsed": true
   },
   "outputs": [],
   "source": []
  }
 ],
 "metadata": {
  "anaconda-cloud": {},
  "kernelspec": {
   "display_name": "Python [default]",
   "language": "python",
   "name": "python3"
  },
  "language_info": {
   "codemirror_mode": {
    "name": "ipython",
    "version": 3
   },
   "file_extension": ".py",
   "mimetype": "text/x-python",
   "name": "python",
   "nbconvert_exporter": "python",
   "pygments_lexer": "ipython3",
   "version": "3.5.2"
  }
 },
 "nbformat": 4,
 "nbformat_minor": 1
}
