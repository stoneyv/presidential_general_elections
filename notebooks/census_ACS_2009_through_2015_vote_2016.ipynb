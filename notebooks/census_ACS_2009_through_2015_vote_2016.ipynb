{
 "cells": [
  {
   "cell_type": "markdown",
   "metadata": {},
   "source": [
    "## Census ACS 2009 Through 2015 5-Year Data\n",
    "## Voting 2016\n",
    "\n",
    "\"This product uses the Census Bureau Data API but is not endorsed or certified by the Census Bureau.\"  \n",
    "\n",
    "data source:  http://www.census.gov/data/developers/data-sets/acs-5year.html  \n",
    "data source:  https://github.com/tonmcg/County_Level_Election_Results_12-16  \n",
    "data source:  http://townhall.com/election/2016/president/"
   ]
  },
  {
   "cell_type": "code",
   "execution_count": 1,
   "metadata": {
    "collapsed": false
   },
   "outputs": [
    {
     "name": "stdout",
     "output_type": "stream",
     "text": [
      "python version  3.5.2\n",
      "numpy version  1.10.4\n",
      "pandas version  0.18.1\n"
     ]
    }
   ],
   "source": [
    "import pandas as pd\n",
    "import numpy as np\n",
    "import os\n",
    "import sys\n",
    "\n",
    "version = \".\".join(map(str, sys.version_info[:3]))\n",
    "print('python version ', version)\n",
    "print('numpy version ', np.__version__)\n",
    "print('pandas version ',pd.__version__)"
   ]
  },
  {
   "cell_type": "markdown",
   "metadata": {},
   "source": [
    "Census APIs that are currently available  \n",
    "http://www.census.gov/data/developers/data-sets.html  \n",
    "American Community Survey 5-Year Data (2009-2015)  \n",
    "http://www.census.gov/data/developers/data-sets/acs-5year.html  "
   ]
  },
  {
   "cell_type": "markdown",
   "metadata": {},
   "source": [
    "## Using python census library\n",
    "Currently works with up to year 2014  \n",
    "https://pypi.python.org/pypi/census"
   ]
  },
  {
   "cell_type": "code",
   "execution_count": 2,
   "metadata": {
    "collapsed": false
   },
   "outputs": [
    {
     "name": "stdout",
     "output_type": "stream",
     "text": [
      "census library version  0.8.1\n"
     ]
    }
   ],
   "source": [
    "from census import Census\n",
    "from census import __version__ as census__version__\n",
    "from us import states\n",
    "\n",
    "print('census library version ', census__version__)"
   ]
  },
  {
   "cell_type": "code",
   "execution_count": 15,
   "metadata": {
    "collapsed": false
   },
   "outputs": [],
   "source": [
    "# Retrieving my Census API key from a file outside of the\n",
    "# local git repository \n",
    "api_key_filepath = os.environ.get('CENSUS_KEY_PATH')\n",
    "fh = open(api_key_filepath,'r')\n",
    "api_key = fh.read()\n",
    "api_key = api_key.rstrip('\\n')\n",
    "fh.close()"
   ]
  },
  {
   "cell_type": "code",
   "execution_count": 30,
   "metadata": {
    "collapsed": false
   },
   "outputs": [
    {
     "data": {
      "text/plain": [
       "[{'B25034_010E': '1296802', 'NAME': 'California', 'state': '06'}]"
      ]
     },
     "execution_count": 30,
     "metadata": {},
     "output_type": "execute_result"
    }
   ],
   "source": [
    "c = Census(api_key)\n",
    "c.acs5.get(('NAME', 'B25034_010E'),\n",
    "            {'for': 'state:{}'.format(states.CA.fips)})"
   ]
  },
  {
   "cell_type": "markdown",
   "metadata": {},
   "source": [
    "## Newer census APIs using requests library\n",
    "ACS 5 year  \n",
    "http://www.census.gov/data/developers/data-sets/acs-5year.html  \n",
    "Python requests library quick start guide  \n",
    "http://docs.python-requests.org/en/master/user/quickstart/"
   ]
  },
  {
   "cell_type": "code",
   "execution_count": 18,
   "metadata": {
    "collapsed": false
   },
   "outputs": [
    {
     "name": "stdout",
     "output_type": "stream",
     "text": [
      "requests version  2.11.1\n"
     ]
    }
   ],
   "source": [
    "import requests\n",
    "print('requests version ', requests.__version__)"
   ]
  },
  {
   "cell_type": "markdown",
   "metadata": {},
   "source": [
    "### Work in progress"
   ]
  },
  {
   "cell_type": "code",
   "execution_count": 28,
   "metadata": {
    "collapsed": false
   },
   "outputs": [],
   "source": [
    "year = '2015' ## 5 year 2011 through 2015\n",
    "census_api_url = \"http://api.census.gov/data/\" + year + \"/acs5\"\n",
    "payload = {'get':['NAME', 'B05003I_003E'], 'for':{'state':'*'},'key':api_key}\n",
    "r = requests.get(census_api_url, params=payload)"
   ]
  },
  {
   "cell_type": "code",
   "execution_count": 29,
   "metadata": {
    "collapsed": false
   },
   "outputs": [
    {
     "name": "stdout",
     "output_type": "stream",
     "text": [
      "[[\"NAME\",\"state\"],\n",
      "[\"Alaska\",\"02\"],\n",
      "[\"Alabama\",\"01\"],\n",
      "[\"Arkansas\",\"05\"],\n",
      "[\"Arizona\",\"04\"],\n",
      "[\"California\",\"06\"],\n",
      "[\"Colorado\",\"08\"],\n",
      "[\"Connecticut\",\"09\"],\n",
      "[\"District of Columbia\",\"11\"],\n",
      "[\"Delaware\",\"10\"],\n",
      "[\"Florida\",\"12\"],\n",
      "[\"Georgia\",\"13\"],\n",
      "[\"Hawaii\",\"15\"],\n",
      "[\"Iowa\",\"19\"],\n",
      "[\"Idaho\",\"16\"],\n",
      "[\"Illinois\",\"17\"],\n",
      "[\"Indiana\",\"18\"],\n",
      "[\"Kansas\",\"20\"],\n",
      "[\"Kentucky\",\"21\"],\n",
      "[\"Louisiana\",\"22\"],\n",
      "[\"Massachusetts\",\"25\"],\n",
      "[\"Maryland\",\"24\"],\n",
      "[\"Maine\",\"23\"],\n",
      "[\"Michigan\",\"26\"],\n",
      "[\"Minnesota\",\"27\"],\n",
      "[\"Missouri\",\"29\"],\n",
      "[\"Mississippi\",\"28\"],\n",
      "[\"Montana\",\"30\"],\n",
      "[\"North Carolina\",\"37\"],\n",
      "[\"North Dakota\",\"38\"],\n",
      "[\"Nebraska\",\"31\"],\n",
      "[\"New Hampshire\",\"33\"],\n",
      "[\"New Jersey\",\"34\"],\n",
      "[\"New Mexico\",\"35\"],\n",
      "[\"Nevada\",\"32\"],\n",
      "[\"New York\",\"36\"],\n",
      "[\"Ohio\",\"39\"],\n",
      "[\"Oklahoma\",\"40\"],\n",
      "[\"Oregon\",\"41\"],\n",
      "[\"Pennsylvania\",\"42\"],\n",
      "[\"Puerto Rico\",\"72\"],\n",
      "[\"Rhode Island\",\"44\"],\n",
      "[\"South Carolina\",\"45\"],\n",
      "[\"South Dakota\",\"46\"],\n",
      "[\"Tennessee\",\"47\"],\n",
      "[\"Texas\",\"48\"],\n",
      "[\"Utah\",\"49\"],\n",
      "[\"Virginia\",\"51\"],\n",
      "[\"Vermont\",\"50\"],\n",
      "[\"Washington\",\"53\"],\n",
      "[\"Wisconsin\",\"55\"],\n",
      "[\"West Virginia\",\"54\"],\n",
      "[\"Wyoming\",\"56\"]]\n"
     ]
    }
   ],
   "source": [
    "print(r.text)"
   ]
  },
  {
   "cell_type": "code",
   "execution_count": null,
   "metadata": {
    "collapsed": true
   },
   "outputs": [],
   "source": []
  }
 ],
 "metadata": {
  "anaconda-cloud": {},
  "kernelspec": {
   "display_name": "Python [conda root]",
   "language": "python",
   "name": "conda-root-py"
  },
  "language_info": {
   "codemirror_mode": {
    "name": "ipython",
    "version": 3
   },
   "file_extension": ".py",
   "mimetype": "text/x-python",
   "name": "python",
   "nbconvert_exporter": "python",
   "pygments_lexer": "ipython3",
   "version": "3.5.2"
  }
 },
 "nbformat": 4,
 "nbformat_minor": 1
}
