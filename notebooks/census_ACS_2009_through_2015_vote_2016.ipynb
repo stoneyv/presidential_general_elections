{
 "cells": [
  {
   "cell_type": "markdown",
   "metadata": {},
   "source": [
    "## Census ACS 2009 Through 2015 5-Year Data\n",
    "## Voting 2016\n",
    "\n",
    "\"This product uses the Census Bureau Data API but is not endorsed or certified by the Census Bureau.\"  \n",
    "\n",
    "data source:  http://www.census.gov/data/developers/data-sets/acs-5year.html  \n",
    "data source:  https://github.com/tonmcg/County_Level_Election_Results_12-16  \n",
    "data source:  http://townhall.com/election/2016/president/"
   ]
  },
  {
   "cell_type": "code",
   "execution_count": 1,
   "metadata": {
    "collapsed": false
   },
   "outputs": [
    {
     "name": "stdout",
     "output_type": "stream",
     "text": [
      "python version  3.5.2\n",
      "numpy version  1.10.4\n",
      "pandas version  0.18.1\n"
     ]
    }
   ],
   "source": [
    "import pandas as pd\n",
    "import numpy as np\n",
    "import os\n",
    "import sys\n",
    "\n",
    "version = \".\".join(map(str, sys.version_info[:3]))\n",
    "print('python version ', version)\n",
    "print('numpy version ', np.__version__)\n",
    "print('pandas version ',pd.__version__)"
   ]
  },
  {
   "cell_type": "markdown",
   "metadata": {},
   "source": [
    "Census APIs that are currently available  \n",
    "http://www.census.gov/data/developers/data-sets.html  \n",
    "American Community Survey 5-Year Data (2009-2015)  \n",
    "http://www.census.gov/data/developers/data-sets/acs-5year.html  "
   ]
  },
  {
   "cell_type": "code",
   "execution_count": 2,
   "metadata": {
    "collapsed": false
   },
   "outputs": [
    {
     "name": "stdout",
     "output_type": "stream",
     "text": [
      "census library version  0.8.1\n"
     ]
    }
   ],
   "source": [
    "from census import Census\n",
    "from census import __version__ as census__version__\n",
    "from us import states\n",
    "\n",
    "print('census library version ', census__version__)"
   ]
  },
  {
   "cell_type": "code",
   "execution_count": 15,
   "metadata": {
    "collapsed": false
   },
   "outputs": [],
   "source": [
    "# Retrieving my Census API key from a file outside of the\n",
    "# local git repository \n",
    "api_key_filepath = os.environ.get('CENSUS_KEY_PATH')\n",
    "fh = open(api_key_filepath,'r')\n",
    "api_key = fh.read()\n",
    "api_key = api_key.rstrip('\\n')\n",
    "fh.close()"
   ]
  },
  {
   "cell_type": "code",
   "execution_count": 17,
   "metadata": {
    "collapsed": false
   },
   "outputs": [
    {
     "data": {
      "text/plain": [
       "[{'B25034_010E': '296290', 'NAME': 'Maryland', 'state': '24'}]"
      ]
     },
     "execution_count": 17,
     "metadata": {},
     "output_type": "execute_result"
    }
   ],
   "source": [
    "c = Census(api_key)\n",
    "c.acs5.get(('NAME', 'B25034_010E'),\n",
    "            {'for': 'state:{}'.format(states.MD.fips)})"
   ]
  },
  {
   "cell_type": "code",
   "execution_count": null,
   "metadata": {
    "collapsed": true
   },
   "outputs": [],
   "source": []
  }
 ],
 "metadata": {
  "anaconda-cloud": {},
  "kernelspec": {
   "display_name": "Python [conda root]",
   "language": "python",
   "name": "conda-root-py"
  },
  "language_info": {
   "codemirror_mode": {
    "name": "ipython",
    "version": 3
   },
   "file_extension": ".py",
   "mimetype": "text/x-python",
   "name": "python",
   "nbconvert_exporter": "python",
   "pygments_lexer": "ipython3",
   "version": "3.5.2"
  }
 },
 "nbformat": 4,
 "nbformat_minor": 1
}
