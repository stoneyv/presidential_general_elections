{
 "cells": [
  {
   "cell_type": "markdown",
   "metadata": {},
   "source": [
    "### Guardian 2008 US Presidential election results by state and county\n",
    "\n",
    "https://www.theguardian.com/news/datablog/2009/mar/02/us-elections-2008"
   ]
  },
  {
   "cell_type": "code",
   "execution_count": 1,
   "metadata": {
    "collapsed": false
   },
   "outputs": [
    {
     "name": "stdout",
     "output_type": "stream",
     "text": [
      "python version  3.5.2\n",
      "pandas version  0.18.1\n"
     ]
    }
   ],
   "source": [
    "import pandas as pd\n",
    "import pysal as ps\n",
    "import sys\n",
    "\n",
    "version = \".\".join(map(str, sys.version_info[:3]))\n",
    "print('python version ', version)\n",
    "print('pandas version ',pd.__version__)"
   ]
  },
  {
   "cell_type": "code",
   "execution_count": 2,
   "metadata": {
    "collapsed": false
   },
   "outputs": [
    {
     "name": "stdout",
     "output_type": "stream",
     "text": [
      "US 2008 election results by county and state - Alabama.csv\r\n",
      "US 2008 election results by county and state - Alaska.csv\r\n",
      "US 2008 election results by county and state - Arizona.csv\r\n",
      "US 2008 election results by county and state - Arkansas.csv\r\n",
      "US 2008 election results by county and state - California.csv\r\n",
      "US 2008 election results by county and state - Colorado.csv\r\n",
      "US 2008 election results by county and state - Connecticut.csv\r\n",
      "US 2008 election results by county and state - Delaware.csv\r\n",
      "US 2008 election results by county and state - Florida.csv\r\n",
      "US 2008 election results by county and state - Georgia.csv\r\n",
      "US 2008 election results by county and state - Hawaii.csv\r\n",
      "US 2008 election results by county and state - Idaho.csv\r\n",
      "US 2008 election results by county and state - Illinois.csv\r\n",
      "US 2008 election results by county and state - Indiana.csv\r\n",
      "US 2008 election results by county and state - Iowa.csv\r\n",
      "US 2008 election results by county and state - Kansas.csv\r\n",
      "US 2008 election results by county and state - Kentucky.csv\r\n",
      "US 2008 election results by county and state - Louisiana.csv\r\n",
      "US 2008 election results by county and state - Maine.csv\r\n",
      "US 2008 election results by county and state - Maryland.csv\r\n",
      "US 2008 election results by county and state - Massachusetts.csv\r\n",
      "US 2008 election results by county and state - Michigan.csv\r\n",
      "US 2008 election results by county and state - Minnesota.csv\r\n",
      "US 2008 election results by county and state - Mississippi.csv\r\n",
      "US 2008 election results by county and state - Missouri.csv\r\n",
      "US 2008 election results by county and state - Montana.csv\r\n",
      "US 2008 election results by county and state - Nebraska.csv\r\n",
      "US 2008 election results by county and state - Nevada.csv\r\n",
      "US 2008 election results by county and state - New Hampshire.csv\r\n",
      "US 2008 election results by county and state - New Jersey.csv\r\n",
      "US 2008 election results by county and state - New Mexico.csv\r\n",
      "US 2008 election results by county and state - New York.csv\r\n",
      "US 2008 election results by county and state - North Carolina.csv\r\n",
      "US 2008 election results by county and state - North Dakota.csv\r\n",
      "US 2008 election results by county and state - Ohio.csv\r\n",
      "US 2008 election results by county and state - Oklahoma.csv\r\n",
      "US 2008 election results by county and state - Oregon.csv\r\n",
      "US 2008 election results by county and state - Pennsylvania.csv\r\n",
      "US 2008 election results by county and state - Rhode Island.csv\r\n",
      "US 2008 election results by county and state - South Carolina.csv\r\n",
      "US 2008 election results by county and state - South Dakota.csv\r\n",
      "US 2008 election results by county and state - Tennessee.csv\r\n",
      "US 2008 election results by county and state - Texas.csv\r\n",
      "US 2008 election results by county and state - Total results.csv\r\n",
      "US 2008 election results by county and state - Utah.csv\r\n",
      "US 2008 election results by county and state - Vermont.csv\r\n",
      "US 2008 election results by county and state - Virginia.csv\r\n",
      "US 2008 election results by county and state - Washington.csv\r\n",
      "US 2008 election results by county and state - West Virginia.csv\r\n",
      "US 2008 election results by county and state - Wisconsin.csv\r\n",
      "US 2008 election results by county and state - Wyoming.csv\r\n"
     ]
    }
   ],
   "source": [
    "ls ../data/guardian/2008"
   ]
  },
  {
   "cell_type": "code",
   "execution_count": 3,
   "metadata": {
    "collapsed": false
   },
   "outputs": [],
   "source": [
    "prefix = 'US 2008 election results by county and state - '\n",
    "suffix = '.csv'\n",
    "\n",
    "states = ('Alabama', 'Alaska', 'Arizona', 'Arkansas',\n",
    "          'California', 'Colorado', 'Connecticut',\n",
    "          'Delaware', 'Florida', 'Georgia', 'Hawaii',\n",
    "          'Idaho', 'Illinois', 'Indiana', 'Iowa', 'Kansas',\n",
    "          'Kentucky', 'Louisiana', 'Maine', 'Maryland',\n",
    "          'Massachusetts', 'Michigan', 'Minnesota',\n",
    "          'Mississippi', 'Missouri', 'Montana', 'Nebraska',\n",
    "          'Nevada', 'New Hampshire', 'New Jersey', 'New Mexico',\n",
    "          'New York', 'North Carolina', 'North Dakota',\n",
    "          'Ohio', 'Oklahoma', 'Oregon', 'Pennsylvania',\n",
    "          'Rhode Island', 'South Carolina', 'South Dakota',\n",
    "          'Tennessee', 'Texas', 'Utah', 'Vermont', 'Virginia',\n",
    "          'Washington', 'West Virginia', 'Wisconsin',\n",
    "          'Wyoming')"
   ]
  },
  {
   "cell_type": "code",
   "execution_count": 6,
   "metadata": {
    "collapsed": false
   },
   "outputs": [
    {
     "data": {
      "text/plain": [
       "(67, 6)"
      ]
     },
     "execution_count": 6,
     "metadata": {},
     "output_type": "execute_result"
    }
   ],
   "source": [
    "filename = '../data/guardian/2008/' + prefix + states[0] + suffix\n",
    "al_08_df = pd.read_csv(filename)\n",
    "al_08_df.shape"
   ]
  },
  {
   "cell_type": "code",
   "execution_count": 7,
   "metadata": {
    "collapsed": false
   },
   "outputs": [
    {
     "data": {
      "text/html": [
       "<div>\n",
       "<table border=\"1\" class=\"dataframe\">\n",
       "  <thead>\n",
       "    <tr style=\"text-align: right;\">\n",
       "      <th></th>\n",
       "      <th>County</th>\n",
       "      <th>Total Precincts</th>\n",
       "      <th>Precincts Reporting</th>\n",
       "      <th>Obama</th>\n",
       "      <th>McCain</th>\n",
       "      <th>Other</th>\n",
       "    </tr>\n",
       "  </thead>\n",
       "  <tbody>\n",
       "    <tr>\n",
       "      <th>0</th>\n",
       "      <td>Autauga</td>\n",
       "      <td>25</td>\n",
       "      <td>25</td>\n",
       "      <td>6,091</td>\n",
       "      <td>17,398</td>\n",
       "      <td>121</td>\n",
       "    </tr>\n",
       "    <tr>\n",
       "      <th>1</th>\n",
       "      <td>Baldwin</td>\n",
       "      <td>70</td>\n",
       "      <td>70</td>\n",
       "      <td>19,362</td>\n",
       "      <td>61,192</td>\n",
       "      <td>640</td>\n",
       "    </tr>\n",
       "    <tr>\n",
       "      <th>2</th>\n",
       "      <td>Barbour</td>\n",
       "      <td>21</td>\n",
       "      <td>21</td>\n",
       "      <td>5,685</td>\n",
       "      <td>5,862</td>\n",
       "      <td>58</td>\n",
       "    </tr>\n",
       "  </tbody>\n",
       "</table>\n",
       "</div>"
      ],
      "text/plain": [
       "    County   Total Precincts   Precincts Reporting   Obama  McCain  Other\n",
       "0  Autauga                 25                    25   6,091  17,398   121\n",
       "1  Baldwin                 70                    70  19,362  61,192   640\n",
       "2  Barbour                 21                    21   5,685   5,862    58"
      ]
     },
     "execution_count": 7,
     "metadata": {},
     "output_type": "execute_result"
    }
   ],
   "source": [
    "al_08_df.head(3)"
   ]
  },
  {
   "cell_type": "code",
   "execution_count": null,
   "metadata": {
    "collapsed": true
   },
   "outputs": [],
   "source": [
    "states_df_list = []\n",
    "for state in states:\n",
    "    filename = '../data/guardian/2008/' + prefix + state + suffix\n",
    "    states_df_list.append(pd.read_csv(filename))\n",
    "\n",
    "states_df = pd.concat(states_df_list)\n",
    "states_df.shape"
   ]
  }
 ],
 "metadata": {
  "anaconda-cloud": {},
  "kernelspec": {
   "display_name": "Python [default]",
   "language": "python",
   "name": "python3"
  },
  "language_info": {
   "codemirror_mode": {
    "name": "ipython",
    "version": 3
   },
   "file_extension": ".py",
   "mimetype": "text/x-python",
   "name": "python",
   "nbconvert_exporter": "python",
   "pygments_lexer": "ipython3",
   "version": "3.5.2"
  }
 },
 "nbformat": 4,
 "nbformat_minor": 1
}
