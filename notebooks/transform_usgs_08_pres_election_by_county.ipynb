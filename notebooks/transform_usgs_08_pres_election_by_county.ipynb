{
 "cells": [
  {
   "cell_type": "markdown",
   "metadata": {},
   "source": [
    "## Transform\n",
    "## USGS 2008 Presidential Election Results by County\n",
    "\n",
    "source:  https://catalog.data.gov/dataset/2008-presidential-general-election-county-results-direct-download"
   ]
  },
  {
   "cell_type": "code",
   "execution_count": 19,
   "metadata": {
    "collapsed": false
   },
   "outputs": [
    {
     "name": "stdout",
     "output_type": "stream",
     "text": [
      "python version  3.5.2\n",
      "numpy version  1.10.4\n",
      "pandas version  0.18.1\n"
     ]
    }
   ],
   "source": [
    "import pandas as pd\n",
    "import numpy as np\n",
    "import pysal as ps\n",
    "import sys\n",
    "\n",
    "version = \".\".join(map(str, sys.version_info[:3]))\n",
    "print('python version ', version)\n",
    "print('numpy version ', np.__version__)\n",
    "print('pandas version ',pd.__version__)"
   ]
  },
  {
   "cell_type": "code",
   "execution_count": 20,
   "metadata": {
    "collapsed": false
   },
   "outputs": [
    {
     "name": "stdout",
     "output_type": "stream",
     "text": [
      "elpo08p020.dbf  elpo08p020.txt\r\n"
     ]
    }
   ],
   "source": [
    "ls ../data/usgs/elpo08p020_nt00335"
   ]
  },
  {
   "cell_type": "code",
   "execution_count": 21,
   "metadata": {
    "collapsed": false
   },
   "outputs": [],
   "source": [
    "filename_usgs_08 = '../data/usgs/elpo08p020_nt00335/elpo08p020.dbf'"
   ]
  },
  {
   "cell_type": "code",
   "execution_count": 22,
   "metadata": {
    "collapsed": false
   },
   "outputs": [
    {
     "data": {
      "text/plain": [
       "(4755, 16)"
      ]
     },
     "execution_count": 22,
     "metadata": {},
     "output_type": "execute_result"
    }
   ],
   "source": [
    "# Open .dbx file and create a pandas DataFrame\n",
    "# shape returns a tuple with (num_rows, num_cols)\n",
    "db = ps.open(filename_usgs_08)\n",
    "d = {col: db.by_col(col) for col in db.header}\n",
    "usgs_08_df = pd.DataFrame(d)\n",
    "db.close()\n",
    "usgs_08_df.shape"
   ]
  },
  {
   "cell_type": "code",
   "execution_count": 23,
   "metadata": {
    "collapsed": false,
    "scrolled": true
   },
   "outputs": [
    {
     "data": {
      "text/html": [
       "<div>\n",
       "<table border=\"1\" class=\"dataframe\">\n",
       "  <thead>\n",
       "    <tr style=\"text-align: right;\">\n",
       "      <th></th>\n",
       "      <th>AREA</th>\n",
       "      <th>COUNTY</th>\n",
       "      <th>EL2004P020</th>\n",
       "      <th>FIPS</th>\n",
       "      <th>OBJECTID</th>\n",
       "      <th>PERCENT_DE</th>\n",
       "      <th>PERCENT_OT</th>\n",
       "      <th>PERCENT_RE</th>\n",
       "      <th>PERIMETER</th>\n",
       "      <th>STATE</th>\n",
       "      <th>STATE_FIPS</th>\n",
       "      <th>SYMBOL_COD</th>\n",
       "      <th>TOTAL_VOTE</th>\n",
       "      <th>VOTE_DEM</th>\n",
       "      <th>VOTE_OTH</th>\n",
       "      <th>VOTE_REP</th>\n",
       "    </tr>\n",
       "  </thead>\n",
       "  <tbody>\n",
       "    <tr>\n",
       "      <th>0</th>\n",
       "      <td>7.009898</td>\n",
       "      <td>State House District 8, Denali-University</td>\n",
       "      <td>8.0</td>\n",
       "      <td>02008</td>\n",
       "      <td>1</td>\n",
       "      <td>48.40</td>\n",
       "      <td>3.31</td>\n",
       "      <td>48.28</td>\n",
       "      <td>18.211322</td>\n",
       "      <td>AK</td>\n",
       "      <td>02</td>\n",
       "      <td>10</td>\n",
       "      <td>10320</td>\n",
       "      <td>4995</td>\n",
       "      <td>342</td>\n",
       "      <td>4983</td>\n",
       "    </tr>\n",
       "    <tr>\n",
       "      <th>1</th>\n",
       "      <td>16.636605</td>\n",
       "      <td>State House District 37, Bristol Bay-Aleuti</td>\n",
       "      <td>37.0</td>\n",
       "      <td>02037</td>\n",
       "      <td>2</td>\n",
       "      <td>40.04</td>\n",
       "      <td>2.92</td>\n",
       "      <td>57.04</td>\n",
       "      <td>168.791686</td>\n",
       "      <td>AK</td>\n",
       "      <td>02</td>\n",
       "      <td>4</td>\n",
       "      <td>4665</td>\n",
       "      <td>1868</td>\n",
       "      <td>136</td>\n",
       "      <td>2661</td>\n",
       "    </tr>\n",
       "    <tr>\n",
       "      <th>2</th>\n",
       "      <td>12.090892</td>\n",
       "      <td>State House District 12, Richardson-Glenn H</td>\n",
       "      <td>12.0</td>\n",
       "      <td>02012</td>\n",
       "      <td>3</td>\n",
       "      <td>25.22</td>\n",
       "      <td>2.74</td>\n",
       "      <td>72.04</td>\n",
       "      <td>36.210830</td>\n",
       "      <td>AK</td>\n",
       "      <td>02</td>\n",
       "      <td>2</td>\n",
       "      <td>7589</td>\n",
       "      <td>1914</td>\n",
       "      <td>208</td>\n",
       "      <td>5467</td>\n",
       "    </tr>\n",
       "  </tbody>\n",
       "</table>\n",
       "</div>"
      ],
      "text/plain": [
       "        AREA                                       COUNTY  EL2004P020   FIPS  \\\n",
       "0   7.009898    State House District 8, Denali-University         8.0  02008   \n",
       "1  16.636605  State House District 37, Bristol Bay-Aleuti        37.0  02037   \n",
       "2  12.090892  State House District 12, Richardson-Glenn H        12.0  02012   \n",
       "\n",
       "  OBJECTID PERCENT_DE PERCENT_OT PERCENT_RE   PERIMETER STATE STATE_FIPS  \\\n",
       "0        1      48.40       3.31      48.28   18.211322    AK         02   \n",
       "1        2      40.04       2.92      57.04  168.791686    AK         02   \n",
       "2        3      25.22       2.74      72.04   36.210830    AK         02   \n",
       "\n",
       "  SYMBOL_COD TOTAL_VOTE VOTE_DEM VOTE_OTH VOTE_REP  \n",
       "0         10      10320     4995      342     4983  \n",
       "1          4       4665     1868      136     2661  \n",
       "2          2       7589     1914      208     5467  "
      ]
     },
     "execution_count": 23,
     "metadata": {},
     "output_type": "execute_result"
    }
   ],
   "source": [
    "usgs_08_df.head(3)"
   ]
  },
  {
   "cell_type": "code",
   "execution_count": 24,
   "metadata": {
    "collapsed": false
   },
   "outputs": [
    {
     "data": {
      "text/plain": [
       "Index(['AREA', 'COUNTY', 'EL2004P020', 'FIPS', 'OBJECTID', 'PERCENT_DE',\n",
       "       'PERCENT_OT', 'PERCENT_RE', 'PERIMETER', 'STATE', 'STATE_FIPS',\n",
       "       'SYMBOL_COD', 'TOTAL_VOTE', 'VOTE_DEM', 'VOTE_OTH', 'VOTE_REP'],\n",
       "      dtype='object')"
      ]
     },
     "execution_count": 24,
     "metadata": {},
     "output_type": "execute_result"
    }
   ],
   "source": [
    "usgs_08_df.columns"
   ]
  },
  {
   "cell_type": "code",
   "execution_count": 25,
   "metadata": {
    "collapsed": false
   },
   "outputs": [],
   "source": [
    "# Drop unwanted columns that are most likely geospatial\n",
    "# axis equals one means operate on the columns. Think of the shape/dimension\n",
    "usgs_08_df.drop(labels=['AREA','EL2004P020', 'OBJECTID','PERIMETER', 'SYMBOL_COD',],\n",
    "                axis=1,\n",
    "                inplace=True)"
   ]
  },
  {
   "cell_type": "code",
   "execution_count": 26,
   "metadata": {
    "collapsed": false
   },
   "outputs": [
    {
     "name": "stdout",
     "output_type": "stream",
     "text": [
      "shape  (4755, 11)\n",
      "columns  Index(['COUNTY', 'FIPS', 'PERCENT_DE', 'PERCENT_OT', 'PERCENT_RE', 'STATE',\n",
      "       'STATE_FIPS', 'TOTAL_VOTE', 'VOTE_DEM', 'VOTE_OTH', 'VOTE_REP'],\n",
      "      dtype='object')\n"
     ]
    }
   ],
   "source": [
    "print('shape ', usgs_08_df.shape)\n",
    "print('columns ', usgs_08_df.columns)"
   ]
  },
  {
   "cell_type": "code",
   "execution_count": 27,
   "metadata": {
    "collapsed": true
   },
   "outputs": [],
   "source": [
    "# Drop duplicate rows that are artifacts of multiple polygons per county\n",
    "# Keep the first row and discard the remaining duplicate rows\n",
    "usgs_08_df.drop_duplicates(keep='first',\n",
    "                           inplace=True)"
   ]
  },
  {
   "cell_type": "code",
   "execution_count": 28,
   "metadata": {
    "collapsed": false
   },
   "outputs": [
    {
     "name": "stdout",
     "output_type": "stream",
     "text": [
      "shape  (3166, 11)\n",
      "columns  Index(['COUNTY', 'FIPS', 'PERCENT_DE', 'PERCENT_OT', 'PERCENT_RE', 'STATE',\n",
      "       'STATE_FIPS', 'TOTAL_VOTE', 'VOTE_DEM', 'VOTE_OTH', 'VOTE_REP'],\n",
      "      dtype='object')\n"
     ]
    },
    {
     "data": {
      "text/html": [
       "<div>\n",
       "<table border=\"1\" class=\"dataframe\">\n",
       "  <thead>\n",
       "    <tr style=\"text-align: right;\">\n",
       "      <th></th>\n",
       "      <th>COUNTY</th>\n",
       "      <th>FIPS</th>\n",
       "      <th>PERCENT_DE</th>\n",
       "      <th>PERCENT_OT</th>\n",
       "      <th>PERCENT_RE</th>\n",
       "      <th>STATE</th>\n",
       "      <th>STATE_FIPS</th>\n",
       "      <th>TOTAL_VOTE</th>\n",
       "      <th>VOTE_DEM</th>\n",
       "      <th>VOTE_OTH</th>\n",
       "      <th>VOTE_REP</th>\n",
       "    </tr>\n",
       "  </thead>\n",
       "  <tbody>\n",
       "    <tr>\n",
       "      <th>0</th>\n",
       "      <td>State House District 8, Denali-University</td>\n",
       "      <td>02008</td>\n",
       "      <td>48.40</td>\n",
       "      <td>3.31</td>\n",
       "      <td>48.28</td>\n",
       "      <td>AK</td>\n",
       "      <td>02</td>\n",
       "      <td>10320</td>\n",
       "      <td>4995</td>\n",
       "      <td>342</td>\n",
       "      <td>4983</td>\n",
       "    </tr>\n",
       "    <tr>\n",
       "      <th>1</th>\n",
       "      <td>State House District 37, Bristol Bay-Aleuti</td>\n",
       "      <td>02037</td>\n",
       "      <td>40.04</td>\n",
       "      <td>2.92</td>\n",
       "      <td>57.04</td>\n",
       "      <td>AK</td>\n",
       "      <td>02</td>\n",
       "      <td>4665</td>\n",
       "      <td>1868</td>\n",
       "      <td>136</td>\n",
       "      <td>2661</td>\n",
       "    </tr>\n",
       "    <tr>\n",
       "      <th>2</th>\n",
       "      <td>State House District 12, Richardson-Glenn H</td>\n",
       "      <td>02012</td>\n",
       "      <td>25.22</td>\n",
       "      <td>2.74</td>\n",
       "      <td>72.04</td>\n",
       "      <td>AK</td>\n",
       "      <td>02</td>\n",
       "      <td>7589</td>\n",
       "      <td>1914</td>\n",
       "      <td>208</td>\n",
       "      <td>5467</td>\n",
       "    </tr>\n",
       "  </tbody>\n",
       "</table>\n",
       "</div>"
      ],
      "text/plain": [
       "                                        COUNTY   FIPS PERCENT_DE PERCENT_OT  \\\n",
       "0    State House District 8, Denali-University  02008      48.40       3.31   \n",
       "1  State House District 37, Bristol Bay-Aleuti  02037      40.04       2.92   \n",
       "2  State House District 12, Richardson-Glenn H  02012      25.22       2.74   \n",
       "\n",
       "  PERCENT_RE STATE STATE_FIPS TOTAL_VOTE VOTE_DEM VOTE_OTH VOTE_REP  \n",
       "0      48.28    AK         02      10320     4995      342     4983  \n",
       "1      57.04    AK         02       4665     1868      136     2661  \n",
       "2      72.04    AK         02       7589     1914      208     5467  "
      ]
     },
     "execution_count": 28,
     "metadata": {},
     "output_type": "execute_result"
    }
   ],
   "source": [
    "print('shape ', usgs_08_df.shape)\n",
    "print('columns ', usgs_08_df.columns)\n",
    "usgs_08_df.head(3)"
   ]
  },
  {
   "cell_type": "code",
   "execution_count": 29,
   "metadata": {
    "collapsed": true
   },
   "outputs": [],
   "source": [
    "# Generate columns with the attributes\n",
    "# year {2016,2012,2008,2004,2000, ...}\n",
    "# office {'president', 'senator', 'representative', ...}\n",
    "# level  {'federal','state','county', ...}\n",
    "num_rows = usgs_08_df.shape[0]\n",
    "year_list = [2008] * num_rows\n",
    "office_list = ['president'] * num_rows \n",
    "level_list = ['federal'] * num_rows\n",
    "usgs_08_df['YEAR'] = year_list\n",
    "usgs_08_df['OFFICE'] = office_list\n",
    "usgs_08_df['LEVEL'] = level_list"
   ]
  },
  {
   "cell_type": "code",
   "execution_count": 30,
   "metadata": {
    "collapsed": false
   },
   "outputs": [],
   "source": [
    "# Re order the columns\n",
    "usgs_08_df = usgs_08_df[['YEAR',\n",
    "                         'FIPS',\n",
    "                         'STATE_FIPS',\n",
    "                         'STATE',\n",
    "                         'COUNTY',\n",
    "                         'OFFICE',\n",
    "                         'LEVEL',\n",
    "                         'VOTE_DEM',\n",
    "                         'VOTE_REP',\n",
    "                         'VOTE_OTH',\n",
    "                         'PERCENT_DE',\n",
    "                         'PERCENT_RE',\n",
    "                         'PERCENT_OT',\n",
    "                         'TOTAL_VOTE']]"
   ]
  },
  {
   "cell_type": "code",
   "execution_count": 31,
   "metadata": {
    "collapsed": true
   },
   "outputs": [],
   "source": [
    "# Rename the column labels\n",
    "usgs_08_df.columns = ['YEAR','FIPS','STATE_FIPS','STATE_ABBR','COUNTY_NAME',\n",
    "                      'OFFICE','LEVEL','VOTES_DEM','VOTES_REP','VOTES_OTHER',\n",
    "                      'PERCENT_DEM','PERCENT_REP','PERCENT_OTHER','TOTAL_VOTES']"
   ]
  },
  {
   "cell_type": "code",
   "execution_count": 32,
   "metadata": {
    "collapsed": false
   },
   "outputs": [
    {
     "data": {
      "text/html": [
       "<div>\n",
       "<table border=\"1\" class=\"dataframe\">\n",
       "  <thead>\n",
       "    <tr style=\"text-align: right;\">\n",
       "      <th></th>\n",
       "      <th>data type</th>\n",
       "      <th>number of null values</th>\n",
       "    </tr>\n",
       "  </thead>\n",
       "  <tbody>\n",
       "    <tr>\n",
       "      <th>YEAR</th>\n",
       "      <td>int64</td>\n",
       "      <td>0</td>\n",
       "    </tr>\n",
       "    <tr>\n",
       "      <th>FIPS</th>\n",
       "      <td>object</td>\n",
       "      <td>0</td>\n",
       "    </tr>\n",
       "    <tr>\n",
       "      <th>STATE_FIPS</th>\n",
       "      <td>object</td>\n",
       "      <td>0</td>\n",
       "    </tr>\n",
       "    <tr>\n",
       "      <th>STATE_ABBR</th>\n",
       "      <td>object</td>\n",
       "      <td>0</td>\n",
       "    </tr>\n",
       "    <tr>\n",
       "      <th>COUNTY_NAME</th>\n",
       "      <td>object</td>\n",
       "      <td>0</td>\n",
       "    </tr>\n",
       "    <tr>\n",
       "      <th>OFFICE</th>\n",
       "      <td>object</td>\n",
       "      <td>0</td>\n",
       "    </tr>\n",
       "    <tr>\n",
       "      <th>LEVEL</th>\n",
       "      <td>object</td>\n",
       "      <td>0</td>\n",
       "    </tr>\n",
       "    <tr>\n",
       "      <th>VOTES_DEM</th>\n",
       "      <td>object</td>\n",
       "      <td>0</td>\n",
       "    </tr>\n",
       "    <tr>\n",
       "      <th>VOTES_REP</th>\n",
       "      <td>object</td>\n",
       "      <td>0</td>\n",
       "    </tr>\n",
       "    <tr>\n",
       "      <th>VOTES_OTHER</th>\n",
       "      <td>object</td>\n",
       "      <td>0</td>\n",
       "    </tr>\n",
       "    <tr>\n",
       "      <th>PERCENT_DEM</th>\n",
       "      <td>object</td>\n",
       "      <td>0</td>\n",
       "    </tr>\n",
       "    <tr>\n",
       "      <th>PERCENT_REP</th>\n",
       "      <td>object</td>\n",
       "      <td>0</td>\n",
       "    </tr>\n",
       "    <tr>\n",
       "      <th>PERCENT_OTHER</th>\n",
       "      <td>object</td>\n",
       "      <td>0</td>\n",
       "    </tr>\n",
       "    <tr>\n",
       "      <th>TOTAL_VOTES</th>\n",
       "      <td>object</td>\n",
       "      <td>0</td>\n",
       "    </tr>\n",
       "  </tbody>\n",
       "</table>\n",
       "</div>"
      ],
      "text/plain": [
       "              data type  number of null values\n",
       "YEAR              int64                      0\n",
       "FIPS             object                      0\n",
       "STATE_FIPS       object                      0\n",
       "STATE_ABBR       object                      0\n",
       "COUNTY_NAME      object                      0\n",
       "OFFICE           object                      0\n",
       "LEVEL            object                      0\n",
       "VOTES_DEM        object                      0\n",
       "VOTES_REP        object                      0\n",
       "VOTES_OTHER      object                      0\n",
       "PERCENT_DEM      object                      0\n",
       "PERCENT_REP      object                      0\n",
       "PERCENT_OTHER    object                      0\n",
       "TOTAL_VOTES      object                      0"
      ]
     },
     "execution_count": 32,
     "metadata": {},
     "output_type": "execute_result"
    }
   ],
   "source": [
    "# Number of null values\n",
    "# You can use DataFrame.info() as well\n",
    "null_df = pd.DataFrame({'number of null values': usgs_08_df.isnull().sum(),\n",
    "                        'data type' : usgs_08_df.dtypes })\n",
    "null_df"
   ]
  },
  {
   "cell_type": "code",
   "execution_count": 34,
   "metadata": {
    "collapsed": false
   },
   "outputs": [],
   "source": [
    "# Convert votes from floats to integers\n",
    "# If you need a float for calculations you can cast it to a float\n",
    "#usgs_08_df['VOTES_DEM'] = usgs_08_df['VOTES_DEM'].astype('int')\n",
    "#usgs_08_df['VOTES_REP'] = usgs_08_df['VOTES_REP'].astype('int')\n",
    "#usgs_08_df['VOTES_OTHER'] = usgs_08_df['VOTES_OTHER'].astype('int')\n",
    "#usgs_08_df['TOTAL_VOTES'] = usgs_08_df['TOTAL_VOTES'].astype('int')"
   ]
  },
  {
   "cell_type": "code",
   "execution_count": 35,
   "metadata": {
    "collapsed": false
   },
   "outputs": [],
   "source": [
    "## Round percentage of votes to one place\n",
    "round_percentage = lambda x: round(float(x),1)\n",
    "#usgs_08_df['PERCENT_DEM'] = usgs_08_df['PERCENT_DEM'].apply(round_percentage)\n",
    "#usgs_08_df['PERCENT_REP'] = usgs_08_df['PERCENT_REP'].apply(round_percentage)\n",
    "#usgs_08_df['PERCENT_OTHER'] = usgs_08_df['PERCENT_OTHER'].apply(round_percentage)"
   ]
  },
  {
   "cell_type": "code",
   "execution_count": 36,
   "metadata": {
    "collapsed": false
   },
   "outputs": [
    {
     "data": {
      "text/html": [
       "<div>\n",
       "<table border=\"1\" class=\"dataframe\">\n",
       "  <thead>\n",
       "    <tr style=\"text-align: right;\">\n",
       "      <th></th>\n",
       "      <th>YEAR</th>\n",
       "      <th>FIPS</th>\n",
       "      <th>STATE_FIPS</th>\n",
       "      <th>STATE_ABBR</th>\n",
       "      <th>COUNTY_NAME</th>\n",
       "      <th>OFFICE</th>\n",
       "      <th>LEVEL</th>\n",
       "      <th>VOTES_DEM</th>\n",
       "      <th>VOTES_REP</th>\n",
       "      <th>VOTES_OTHER</th>\n",
       "      <th>PERCENT_DEM</th>\n",
       "      <th>PERCENT_REP</th>\n",
       "      <th>PERCENT_OTHER</th>\n",
       "      <th>TOTAL_VOTES</th>\n",
       "    </tr>\n",
       "  </thead>\n",
       "  <tbody>\n",
       "    <tr>\n",
       "      <th>0</th>\n",
       "      <td>2008</td>\n",
       "      <td>02008</td>\n",
       "      <td>02</td>\n",
       "      <td>AK</td>\n",
       "      <td>State House District 8, Denali-University</td>\n",
       "      <td>president</td>\n",
       "      <td>federal</td>\n",
       "      <td>4995</td>\n",
       "      <td>4983</td>\n",
       "      <td>342</td>\n",
       "      <td>48.40</td>\n",
       "      <td>48.28</td>\n",
       "      <td>3.31</td>\n",
       "      <td>10320</td>\n",
       "    </tr>\n",
       "    <tr>\n",
       "      <th>1</th>\n",
       "      <td>2008</td>\n",
       "      <td>02037</td>\n",
       "      <td>02</td>\n",
       "      <td>AK</td>\n",
       "      <td>State House District 37, Bristol Bay-Aleuti</td>\n",
       "      <td>president</td>\n",
       "      <td>federal</td>\n",
       "      <td>1868</td>\n",
       "      <td>2661</td>\n",
       "      <td>136</td>\n",
       "      <td>40.04</td>\n",
       "      <td>57.04</td>\n",
       "      <td>2.92</td>\n",
       "      <td>4665</td>\n",
       "    </tr>\n",
       "    <tr>\n",
       "      <th>2</th>\n",
       "      <td>2008</td>\n",
       "      <td>02012</td>\n",
       "      <td>02</td>\n",
       "      <td>AK</td>\n",
       "      <td>State House District 12, Richardson-Glenn H</td>\n",
       "      <td>president</td>\n",
       "      <td>federal</td>\n",
       "      <td>1914</td>\n",
       "      <td>5467</td>\n",
       "      <td>208</td>\n",
       "      <td>25.22</td>\n",
       "      <td>72.04</td>\n",
       "      <td>2.74</td>\n",
       "      <td>7589</td>\n",
       "    </tr>\n",
       "  </tbody>\n",
       "</table>\n",
       "</div>"
      ],
      "text/plain": [
       "   YEAR   FIPS STATE_FIPS STATE_ABBR  \\\n",
       "0  2008  02008         02         AK   \n",
       "1  2008  02037         02         AK   \n",
       "2  2008  02012         02         AK   \n",
       "\n",
       "                                   COUNTY_NAME     OFFICE    LEVEL VOTES_DEM  \\\n",
       "0    State House District 8, Denali-University  president  federal      4995   \n",
       "1  State House District 37, Bristol Bay-Aleuti  president  federal      1868   \n",
       "2  State House District 12, Richardson-Glenn H  president  federal      1914   \n",
       "\n",
       "  VOTES_REP VOTES_OTHER PERCENT_DEM PERCENT_REP PERCENT_OTHER TOTAL_VOTES  \n",
       "0      4983         342       48.40       48.28          3.31       10320  \n",
       "1      2661         136       40.04       57.04          2.92        4665  \n",
       "2      5467         208       25.22       72.04          2.74        7589  "
      ]
     },
     "execution_count": 36,
     "metadata": {},
     "output_type": "execute_result"
    }
   ],
   "source": [
    "usgs_08_df.head(3)"
   ]
  },
  {
   "cell_type": "markdown",
   "metadata": {},
   "source": [
    "## Output transformed csv file to output directory\n",
    "Work in progress"
   ]
  },
  {
   "cell_type": "code",
   "execution_count": 37,
   "metadata": {
    "collapsed": true
   },
   "outputs": [],
   "source": [
    "filename_out = '../output/2008_pres_election_by_county.csv'\n",
    "usgs_08_df.to_csv(filename_out,\n",
    "                  index=False)"
   ]
  },
  {
   "cell_type": "code",
   "execution_count": null,
   "metadata": {
    "collapsed": true
   },
   "outputs": [],
   "source": []
  }
 ],
 "metadata": {
  "anaconda-cloud": {},
  "kernelspec": {
   "display_name": "Python [default]",
   "language": "python",
   "name": "python3"
  },
  "language_info": {
   "codemirror_mode": {
    "name": "ipython",
    "version": 3
   },
   "file_extension": ".py",
   "mimetype": "text/x-python",
   "name": "python",
   "nbconvert_exporter": "python",
   "pygments_lexer": "ipython3",
   "version": "3.5.2"
  }
 },
 "nbformat": 4,
 "nbformat_minor": 1
}
