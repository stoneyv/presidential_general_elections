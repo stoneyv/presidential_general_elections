{
 "cells": [
  {
   "cell_type": "markdown",
   "metadata": {},
   "source": [
    "## Census ACS 2009 Through 2015 5-Year Data\n",
    "\n",
    "\"This product uses the Census Bureau Data API but is not endorsed or certified by the Census Bureau.\"  \n",
    "\n",
    "data source:  http://www.census.gov/data/developers/data-sets/acs-5year.html  "
   ]
  },
  {
   "cell_type": "code",
   "execution_count": 1,
   "metadata": {
    "collapsed": false
   },
   "outputs": [
    {
     "name": "stdout",
     "output_type": "stream",
     "text": [
      "python version  3.5.2\n",
      "numpy version  1.11.1\n",
      "pandas version  0.18.1\n"
     ]
    }
   ],
   "source": [
    "import pandas as pd\n",
    "import numpy as np\n",
    "import os\n",
    "import sys\n",
    "\n",
    "version = \".\".join(map(str, sys.version_info[:3]))\n",
    "print('python version ', version)\n",
    "print('numpy version ', np.__version__)\n",
    "print('pandas version ',pd.__version__)"
   ]
  },
  {
   "cell_type": "markdown",
   "metadata": {},
   "source": [
    "Census APIs that are currently available  \n",
    "http://www.census.gov/data/developers/data-sets.html  \n",
    "American Community Survey 5-Year Data (2009-2015)  \n",
    "http://www.census.gov/data/developers/data-sets/acs-5year.html  "
   ]
  },
  {
   "cell_type": "markdown",
   "metadata": {},
   "source": [
    "## Using python census library (not used)\n",
    "* Currently works with up to year 2014\n",
    "* Note that if year is not specified it will default to 2013  \n",
    "https://pypi.python.org/pypi/census"
   ]
  },
  {
   "cell_type": "code",
   "execution_count": 2,
   "metadata": {
    "collapsed": false
   },
   "outputs": [
    {
     "name": "stdout",
     "output_type": "stream",
     "text": [
      "census library version  0.8.1\n"
     ]
    }
   ],
   "source": [
    "from census import Census\n",
    "from census import __version__ as census__version__\n",
    "from us import states\n",
    "\n",
    "print('census library version ', census__version__)"
   ]
  },
  {
   "cell_type": "code",
   "execution_count": 3,
   "metadata": {
    "collapsed": false
   },
   "outputs": [],
   "source": [
    "# Retrieving my Census API key from a file outside of the\n",
    "# local git repository \n",
    "api_key_filepath = os.environ.get('CENSUS_KEY_PATH')\n",
    "fh = open(api_key_filepath,'r')\n",
    "api_key = fh.read()\n",
    "api_key = api_key.rstrip('\\n')\n",
    "fh.close()"
   ]
  },
  {
   "cell_type": "code",
   "execution_count": 4,
   "metadata": {
    "collapsed": false
   },
   "outputs": [
    {
     "data": {
      "text/plain": [
       "[{'B25034_010E': '1296802', 'NAME': 'California', 'state': '06'}]"
      ]
     },
     "execution_count": 4,
     "metadata": {},
     "output_type": "execute_result"
    }
   ],
   "source": [
    "c = Census(api_key)\n",
    "c.acs5.get(('NAME', 'B25034_010E'),\n",
    "            {'for': 'state:{}'.format(states.CA.fips)}, year=2014)"
   ]
  },
  {
   "cell_type": "markdown",
   "metadata": {},
   "source": [
    "## Newer census APIs using requests library\n",
    "ACS 5 year  \n",
    "http://www.census.gov/data/developers/data-sets/acs-5year.html  \n",
    "Python requests library quick start guide  \n",
    "http://docs.python-requests.org/en/master/user/quickstart/"
   ]
  },
  {
   "cell_type": "code",
   "execution_count": 5,
   "metadata": {
    "collapsed": false
   },
   "outputs": [
    {
     "name": "stdout",
     "output_type": "stream",
     "text": [
      "requests version  2.11.1\n"
     ]
    }
   ],
   "source": [
    "import requests\n",
    "print('requests version ', requests.__version__)"
   ]
  },
  {
   "cell_type": "code",
   "execution_count": 6,
   "metadata": {
    "collapsed": false
   },
   "outputs": [],
   "source": [
    "year = '2015' ## 5 year 2011 through 2015\n",
    "census_api_url = \"http://api.census.gov/data/\" + year + \"/acs5\"\n",
    "#payload = {'get':['NAME', 'B05003I_003E'], 'for':{'state':'*'},'key':api_key}\n",
    "payload = {'get':['B05003I_003E'], 'for':{'county':'*'},'key':api_key}\n",
    "r = requests.get(census_api_url, params=payload)"
   ]
  },
  {
   "cell_type": "code",
   "execution_count": 7,
   "metadata": {
    "collapsed": false
   },
   "outputs": [
    {
     "name": "stdout",
     "output_type": "stream",
     "text": [
      "r.text type is  <class 'str'>\n",
      "num_rows 3221\n"
     ]
    }
   ],
   "source": [
    "# Response is list of lists as a UTF-8 encoded string\n",
    "# The first row contains the column headers\n",
    "rows = r.text.split(',\\n')\n",
    "print('r.text type is ', type(r.text))\n",
    "print('num_rows', len(rows))"
   ]
  },
  {
   "cell_type": "code",
   "execution_count": 8,
   "metadata": {
    "collapsed": false
   },
   "outputs": [
    {
     "data": {
      "text/plain": [
       "['[[\"B05003I_003E\",\"state\",\"county\"]',\n",
       " '[\"261\",\"01\",\"001\"]',\n",
       " '[\"1505\",\"01\",\"003\"]']"
      ]
     },
     "execution_count": 8,
     "metadata": {},
     "output_type": "execute_result"
    }
   ],
   "source": [
    "rows[0:3]"
   ]
  },
  {
   "cell_type": "code",
   "execution_count": 9,
   "metadata": {
    "collapsed": true
   },
   "outputs": [],
   "source": [
    "# Convert each row from a string to an actual list\n",
    "\n",
    "# Strip characters from string and split\n",
    "# on commas\n",
    "def str_list2elements(s):\n",
    "    s = s.replace('[','')\n",
    "    s = s.replace(']','')\n",
    "    s = s.replace('\"','')\n",
    "    elements = s.split(',')\n",
    "    return elements\n",
    "\n",
    "rows2 = [str_list2elements(s) for s in rows]"
   ]
  },
  {
   "cell_type": "code",
   "execution_count": 10,
   "metadata": {
    "collapsed": false
   },
   "outputs": [
    {
     "data": {
      "text/plain": [
       "[['B05003I_003E', 'state', 'county'],\n",
       " ['261', '01', '001'],\n",
       " ['1505', '01', '003']]"
      ]
     },
     "execution_count": 10,
     "metadata": {},
     "output_type": "execute_result"
    }
   ],
   "source": [
    "rows2[0:3]"
   ]
  },
  {
   "cell_type": "code",
   "execution_count": 11,
   "metadata": {
    "collapsed": false
   },
   "outputs": [
    {
     "name": "stdout",
     "output_type": "stream",
     "text": [
      "acs5_09to15_df (num_rows,num_cols)  (3220, 3)\n"
     ]
    },
    {
     "data": {
      "text/html": [
       "<div>\n",
       "<table border=\"1\" class=\"dataframe\">\n",
       "  <thead>\n",
       "    <tr style=\"text-align: right;\">\n",
       "      <th></th>\n",
       "      <th>B05003I_003E</th>\n",
       "      <th>state</th>\n",
       "      <th>county</th>\n",
       "    </tr>\n",
       "  </thead>\n",
       "  <tbody>\n",
       "    <tr>\n",
       "      <th>0</th>\n",
       "      <td>261</td>\n",
       "      <td>01</td>\n",
       "      <td>001</td>\n",
       "    </tr>\n",
       "    <tr>\n",
       "      <th>1</th>\n",
       "      <td>1505</td>\n",
       "      <td>01</td>\n",
       "      <td>003</td>\n",
       "    </tr>\n",
       "    <tr>\n",
       "      <th>2</th>\n",
       "      <td>342</td>\n",
       "      <td>01</td>\n",
       "      <td>005</td>\n",
       "    </tr>\n",
       "    <tr>\n",
       "      <th>3</th>\n",
       "      <td>62</td>\n",
       "      <td>01</td>\n",
       "      <td>007</td>\n",
       "    </tr>\n",
       "    <tr>\n",
       "      <th>4</th>\n",
       "      <td>959</td>\n",
       "      <td>01</td>\n",
       "      <td>009</td>\n",
       "    </tr>\n",
       "  </tbody>\n",
       "</table>\n",
       "</div>"
      ],
      "text/plain": [
       "  B05003I_003E state county\n",
       "0          261    01    001\n",
       "1         1505    01    003\n",
       "2          342    01    005\n",
       "3           62    01    007\n",
       "4          959    01    009"
      ]
     },
     "execution_count": 11,
     "metadata": {},
     "output_type": "execute_result"
    }
   ],
   "source": [
    "# Pop the zeroth element of rows2\n",
    "columns = rows2.pop(0)\n",
    "# Construct a DataFrame from rows2\n",
    "acs5_09to15_df = pd.DataFrame(rows2)\n",
    "acs5_09to15_df.columns = columns\n",
    "print('acs5_09to15_df (num_rows,num_cols) ', acs5_09to15_df.shape)\n",
    "acs5_09to15_df.head(5)"
   ]
  },
  {
   "cell_type": "code",
   "execution_count": 12,
   "metadata": {
    "collapsed": false
   },
   "outputs": [
    {
     "data": {
      "text/html": [
       "<div>\n",
       "<table border=\"1\" class=\"dataframe\">\n",
       "  <thead>\n",
       "    <tr style=\"text-align: right;\">\n",
       "      <th></th>\n",
       "      <th>B05003I_003E</th>\n",
       "      <th>state</th>\n",
       "      <th>county</th>\n",
       "      <th>GEOID</th>\n",
       "    </tr>\n",
       "  </thead>\n",
       "  <tbody>\n",
       "    <tr>\n",
       "      <th>0</th>\n",
       "      <td>261</td>\n",
       "      <td>01</td>\n",
       "      <td>001</td>\n",
       "      <td>01001</td>\n",
       "    </tr>\n",
       "    <tr>\n",
       "      <th>1</th>\n",
       "      <td>1505</td>\n",
       "      <td>01</td>\n",
       "      <td>003</td>\n",
       "      <td>01003</td>\n",
       "    </tr>\n",
       "    <tr>\n",
       "      <th>2</th>\n",
       "      <td>342</td>\n",
       "      <td>01</td>\n",
       "      <td>005</td>\n",
       "      <td>01005</td>\n",
       "    </tr>\n",
       "  </tbody>\n",
       "</table>\n",
       "</div>"
      ],
      "text/plain": [
       "  B05003I_003E state county  GEOID\n",
       "0          261    01    001  01001\n",
       "1         1505    01    003  01003\n",
       "2          342    01    005  01005"
      ]
     },
     "execution_count": 12,
     "metadata": {},
     "output_type": "execute_result"
    }
   ],
   "source": [
    "acs5_09to15_df['GEOID'] = [s1+s2 for s1,s2 in zip(acs5_09to15_df.state,\n",
    "                                               acs5_09to15_df.county)]\n",
    "acs5_09to15_df.head(3)"
   ]
  },
  {
   "cell_type": "code",
   "execution_count": 15,
   "metadata": {
    "collapsed": true
   },
   "outputs": [],
   "source": [
    "filename_out = '../output/census_acs5_09to15_population_by_county.csv'\n",
    "acs5_09to15_df.columns = ['B05003I_003E','STATE_FIPS','COUNTY_FIPS','GEOID']\n",
    "acs5_09to15_df.to_csv(filename_out, cols=columns, index=False)"
   ]
  },
  {
   "cell_type": "code",
   "execution_count": 16,
   "metadata": {
    "collapsed": false
   },
   "outputs": [
    {
     "name": "stdout",
     "output_type": "stream",
     "text": [
      "(num_rows,num_cols)  (3220, 4)\n"
     ]
    },
    {
     "data": {
      "text/html": [
       "<div>\n",
       "<table border=\"1\" class=\"dataframe\">\n",
       "  <thead>\n",
       "    <tr style=\"text-align: right;\">\n",
       "      <th></th>\n",
       "      <th>B05003I_003E</th>\n",
       "      <th>STATE_FIPS</th>\n",
       "      <th>COUNTY_FIPS</th>\n",
       "      <th>GEOID</th>\n",
       "    </tr>\n",
       "  </thead>\n",
       "  <tbody>\n",
       "    <tr>\n",
       "      <th>0</th>\n",
       "      <td>261</td>\n",
       "      <td>01</td>\n",
       "      <td>001</td>\n",
       "      <td>01001</td>\n",
       "    </tr>\n",
       "    <tr>\n",
       "      <th>1</th>\n",
       "      <td>1505</td>\n",
       "      <td>01</td>\n",
       "      <td>003</td>\n",
       "      <td>01003</td>\n",
       "    </tr>\n",
       "    <tr>\n",
       "      <th>2</th>\n",
       "      <td>342</td>\n",
       "      <td>01</td>\n",
       "      <td>005</td>\n",
       "      <td>01005</td>\n",
       "    </tr>\n",
       "  </tbody>\n",
       "</table>\n",
       "</div>"
      ],
      "text/plain": [
       "   B05003I_003E STATE_FIPS COUNTY_FIPS  GEOID\n",
       "0           261         01         001  01001\n",
       "1          1505         01         003  01003\n",
       "2           342         01         005  01005"
      ]
     },
     "execution_count": 16,
     "metadata": {},
     "output_type": "execute_result"
    }
   ],
   "source": [
    "# Test loading of file\n",
    "test_df = pd.read_csv(filename_out,\n",
    "                      dtype={'B05003I_003E':int,\n",
    "                             'STATE_FIPS':str,\n",
    "                             'COUNTY_FIPS':str,\n",
    "                             'GEOID':str})\n",
    "print('(num_rows,num_cols) ', test_df.shape)\n",
    "test_df.head(3)"
   ]
  },
  {
   "cell_type": "code",
   "execution_count": null,
   "metadata": {
    "collapsed": true
   },
   "outputs": [],
   "source": []
  }
 ],
 "metadata": {
  "anaconda-cloud": {},
  "kernelspec": {
   "display_name": "Python [conda root]",
   "language": "python",
   "name": "conda-root-py"
  },
  "language_info": {
   "codemirror_mode": {
    "name": "ipython",
    "version": 3
   },
   "file_extension": ".py",
   "mimetype": "text/x-python",
   "name": "python",
   "nbconvert_exporter": "python",
   "pygments_lexer": "ipython3",
   "version": "3.5.2"
  }
 },
 "nbformat": 4,
 "nbformat_minor": 1
}
