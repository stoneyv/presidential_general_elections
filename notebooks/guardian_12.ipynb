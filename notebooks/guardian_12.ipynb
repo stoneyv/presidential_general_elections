{
 "cells": [
  {
   "cell_type": "code",
   "execution_count": 1,
   "metadata": {
    "collapsed": false
   },
   "outputs": [
    {
     "name": "stdout",
     "output_type": "stream",
     "text": [
      "python version  3.5.2\n",
      "pandas version  0.18.1\n"
     ]
    }
   ],
   "source": [
    "import pandas as pd\n",
    "import sys\n",
    "\n",
    "version = \".\".join(map(str, sys.version_info[:3]))\n",
    "print('python version ', version)\n",
    "print('pandas version ',pd.__version__)"
   ]
  },
  {
   "cell_type": "code",
   "execution_count": 3,
   "metadata": {
    "collapsed": false
   },
   "outputs": [
    {
     "name": "stdout",
     "output_type": "stream",
     "text": [
      "US_elect_county.xls\r\n"
     ]
    }
   ],
   "source": [
    "# Unix shell built in list files command\n",
    "ls data/guardian/2012/"
   ]
  },
  {
   "cell_type": "code",
   "execution_count": 4,
   "metadata": {
    "collapsed": false
   },
   "outputs": [
    {
     "name": "stdout",
     "output_type": "stream",
     "text": [
      "WARNING *** file size (3825153) not 512 + multiple of sector size (512)\n"
     ]
    },
    {
     "data": {
      "text/plain": [
       "(4074, 7)"
      ]
     },
     "execution_count": 4,
     "metadata": {},
     "output_type": "execute_result"
    }
   ],
   "source": [
    "filename_guardian_12 = 'data/guardian/2012/US_elect_county.xls'\n",
    "guardian_12_df = pd.read_excel(filename_guardian_12)\n",
    "guardian_12_df.shape"
   ]
  },
  {
   "cell_type": "code",
   "execution_count": 5,
   "metadata": {
    "collapsed": false
   },
   "outputs": [
    {
     "data": {
      "text/html": [
       "<div>\n",
       "<table border=\"1\" class=\"dataframe\">\n",
       "  <thead>\n",
       "    <tr style=\"text-align: right;\">\n",
       "      <th></th>\n",
       "      <th>State Postal</th>\n",
       "      <th>County Name</th>\n",
       "      <th>FIPS</th>\n",
       "      <th>Obama vote</th>\n",
       "      <th>%</th>\n",
       "      <th>Romney vote</th>\n",
       "      <th>%.1</th>\n",
       "    </tr>\n",
       "  </thead>\n",
       "  <tbody>\n",
       "    <tr>\n",
       "      <th>0</th>\n",
       "      <td>AK</td>\n",
       "      <td>Alaska</td>\n",
       "      <td>0</td>\n",
       "      <td>91696</td>\n",
       "      <td>41.6</td>\n",
       "      <td>121234</td>\n",
       "      <td>55.0</td>\n",
       "    </tr>\n",
       "    <tr>\n",
       "      <th>1</th>\n",
       "      <td>AK</td>\n",
       "      <td>Alaska</td>\n",
       "      <td>2000</td>\n",
       "      <td>91696</td>\n",
       "      <td>41.6</td>\n",
       "      <td>121234</td>\n",
       "      <td>55.0</td>\n",
       "    </tr>\n",
       "    <tr>\n",
       "      <th>2</th>\n",
       "      <td>AL</td>\n",
       "      <td>Alabama</td>\n",
       "      <td>0</td>\n",
       "      <td>793620</td>\n",
       "      <td>38.4</td>\n",
       "      <td>1252453</td>\n",
       "      <td>60.7</td>\n",
       "    </tr>\n",
       "    <tr>\n",
       "      <th>3</th>\n",
       "      <td>AL</td>\n",
       "      <td>Autauga</td>\n",
       "      <td>1001</td>\n",
       "      <td>6354</td>\n",
       "      <td>26.6</td>\n",
       "      <td>17366</td>\n",
       "      <td>72.6</td>\n",
       "    </tr>\n",
       "    <tr>\n",
       "      <th>4</th>\n",
       "      <td>AL</td>\n",
       "      <td>Baldwin</td>\n",
       "      <td>1003</td>\n",
       "      <td>18329</td>\n",
       "      <td>21.6</td>\n",
       "      <td>65772</td>\n",
       "      <td>77.4</td>\n",
       "    </tr>\n",
       "  </tbody>\n",
       "</table>\n",
       "</div>"
      ],
      "text/plain": [
       "  State Postal County Name  FIPS  Obama vote     %  Romney vote   %.1\n",
       "0           AK      Alaska     0       91696  41.6       121234  55.0\n",
       "1           AK      Alaska  2000       91696  41.6       121234  55.0\n",
       "2           AL     Alabama     0      793620  38.4      1252453  60.7\n",
       "3           AL     Autauga  1001        6354  26.6        17366  72.6\n",
       "4           AL     Baldwin  1003       18329  21.6        65772  77.4"
      ]
     },
     "execution_count": 5,
     "metadata": {},
     "output_type": "execute_result"
    }
   ],
   "source": [
    "guardian_12_df.head(5)"
   ]
  },
  {
   "cell_type": "code",
   "execution_count": null,
   "metadata": {
    "collapsed": true
   },
   "outputs": [],
   "source": []
  }
 ],
 "metadata": {
  "kernelspec": {
   "display_name": "Python [default]",
   "language": "python",
   "name": "python3"
  },
  "language_info": {
   "codemirror_mode": {
    "name": "ipython",
    "version": 3
   },
   "file_extension": ".py",
   "mimetype": "text/x-python",
   "name": "python",
   "nbconvert_exporter": "python",
   "pygments_lexer": "ipython3",
   "version": "3.5.2"
  }
 },
 "nbformat": 4,
 "nbformat_minor": 1
}
